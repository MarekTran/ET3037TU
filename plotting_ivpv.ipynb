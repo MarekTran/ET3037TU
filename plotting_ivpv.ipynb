{
 "cells": [
  {
   "cell_type": "code",
   "execution_count": 164,
   "metadata": {},
   "outputs": [],
   "source": [
    "import csv\n",
    "import plotly.graph_objects as go\n",
    "import plotly.subplots as sp\n",
    "import pandas as pd"
   ]
  },
  {
   "cell_type": "code",
   "execution_count": 165,
   "metadata": {},
   "outputs": [
    {
     "data": {
      "text/html": [
       "<div>\n",
       "<style scoped>\n",
       "    .dataframe tbody tr th:only-of-type {\n",
       "        vertical-align: middle;\n",
       "    }\n",
       "\n",
       "    .dataframe tbody tr th {\n",
       "        vertical-align: top;\n",
       "    }\n",
       "\n",
       "    .dataframe thead th {\n",
       "        text-align: right;\n",
       "    }\n",
       "</style>\n",
       "<table border=\"1\" class=\"dataframe\">\n",
       "  <thead>\n",
       "    <tr style=\"text-align: right;\">\n",
       "      <th></th>\n",
       "      <th>voltage</th>\n",
       "      <th>current</th>\n",
       "      <th>power</th>\n",
       "      <th>bypass</th>\n",
       "    </tr>\n",
       "  </thead>\n",
       "  <tbody>\n",
       "    <tr>\n",
       "      <th>51</th>\n",
       "      <td>44.4</td>\n",
       "      <td>0.000</td>\n",
       "      <td>0.000</td>\n",
       "      <td>yes</td>\n",
       "    </tr>\n",
       "    <tr>\n",
       "      <th>52</th>\n",
       "      <td>0.5</td>\n",
       "      <td>0.796</td>\n",
       "      <td>0.398</td>\n",
       "      <td>yes</td>\n",
       "    </tr>\n",
       "  </tbody>\n",
       "</table>\n",
       "</div>"
      ],
      "text/plain": [
       "    voltage  current  power bypass\n",
       "51     44.4    0.000  0.000    yes\n",
       "52      0.5    0.796  0.398    yes"
      ]
     },
     "execution_count": 165,
     "metadata": {},
     "output_type": "execute_result"
    }
   ],
   "source": [
    "df = pd.read_csv('data/bypass.csv')\n",
    "# Deep copy values\n",
    "df_bypass_on = df.copy(deep=True)\n",
    "df_bypass_off = df.copy(deep=True)\n",
    "df_bypass_on = df_bypass_on[df_bypass_on['bypass'] == 'yes']\n",
    "df_bypass_off = df_bypass_off[df_bypass_off['bypass'] == 'no']\n",
    "df_bypass_on.tail(2)"
   ]
  },
  {
   "cell_type": "code",
   "execution_count": 166,
   "metadata": {},
   "outputs": [
    {
     "name": "stdout",
     "output_type": "stream",
     "text": [
      "Vmpp of bypass on: 31.82\n",
      "Impp of bypass on: 0.453\n",
      "Pmax of bypass on: 14.41446\n",
      "Vmpp of bypass off: 33.11\n",
      "Impp of bypass off: 0.437\n",
      "Pmax of bypass off: 14.46907\n"
     ]
    }
   ],
   "source": [
    "# The columns of df_bypass_on and df_bypass_off are voltage, current, power \n",
    "\n",
    "# Print characteristic parameters of bypass on\n",
    "# Print Impp and Vmpp which are the current and voltage of the point with maximum power for bypass_on\n",
    "# Print Pmax which is the maximum power for bypass_on\n",
    "bypass_on_mpp_point = df_bypass_on[df_bypass_on['power'] == df_bypass_on['power'].max()]\n",
    "print(f\"Vmpp of bypass on: {bypass_on_mpp_point['voltage'].values[0]}\")\n",
    "print(f\"Impp of bypass on: {bypass_on_mpp_point['current'].values[0]}\")\n",
    "print(f\"Pmax of bypass on: {df_bypass_on['power'].max()}\")\n",
    "\n",
    "# Print characteristic parameters of bypass off\n",
    "# Print Impp and Vmpp which are the current and voltage of the point with maximum power for bypass_off\n",
    "# Print Pmax which is the maximum power for bypass_off\n",
    "bypass_off_mpp_point = df_bypass_off[df_bypass_off['power'] == df_bypass_off['power'].max()]\n",
    "print(f\"Vmpp of bypass off: {bypass_off_mpp_point['voltage'].values[0]}\")\n",
    "print(f\"Impp of bypass off: {bypass_off_mpp_point['current'].values[0]}\")\n",
    "print(f\"Pmax of bypass off: {df_bypass_off['power'].max()}\")"
   ]
  },
  {
   "cell_type": "code",
   "execution_count": 167,
   "metadata": {},
   "outputs": [
    {
     "data": {
      "application/vnd.plotly.v1+json": {
       "config": {
        "plotlyServerURL": "https://plot.ly"
       },
       "data": [
        {
         "marker": {
          "line": {
           "color": "Black",
           "width": 2
          },
          "size": [
           12,
           12,
           12,
           12,
           12,
           12,
           12,
           12,
           12,
           12,
           12,
           12,
           12,
           12,
           12,
           12,
           12,
           12,
           12,
           12,
           12,
           12,
           12,
           12,
           14,
           14
          ],
          "symbol": "circle"
         },
         "mode": "markers",
         "name": "Current, Bypass On",
         "opacity": 1,
         "type": "scatter",
         "x": [
          42.7,
          42.4,
          42.2,
          42.1,
          41.9,
          41.6,
          41.2,
          41,
          40.3,
          39.7,
          39.2,
          38.3,
          36.8,
          35.13,
          33.53,
          31.82,
          23.79,
          20.4,
          19.31,
          18.75,
          17.81,
          14.89,
          11.7,
          6.72,
          44.4,
          0.5
         ],
         "xaxis": "x",
         "y": [
          0.178,
          0.191,
          0.204,
          0.22,
          0.242,
          0.266,
          0.287,
          0.304,
          0.33,
          0.352,
          0.363,
          0.374,
          0.382,
          0.397,
          0.426,
          0.453,
          0.374,
          0.398,
          0.455,
          0.555,
          0.675,
          0.777,
          0.79,
          0.843,
          0,
          0.796
         ],
         "yaxis": "y"
        },
        {
         "marker": {
          "line": {
           "color": "Black",
           "width": 2
          },
          "size": [
           12,
           12,
           12,
           12,
           12,
           12,
           12,
           12,
           12,
           12,
           12,
           12,
           12,
           12,
           12,
           12,
           12,
           12,
           12,
           12,
           12,
           12,
           12,
           12,
           14,
           14
          ],
          "symbol": "circle-dot"
         },
         "mode": "markers",
         "name": "Power, Bypass On",
         "opacity": 1,
         "type": "scatter",
         "x": [
          42.7,
          42.4,
          42.2,
          42.1,
          41.9,
          41.6,
          41.2,
          41,
          40.3,
          39.7,
          39.2,
          38.3,
          36.8,
          35.13,
          33.53,
          31.82,
          23.79,
          20.4,
          19.31,
          18.75,
          17.81,
          14.89,
          11.7,
          6.72,
          44.4,
          0.5
         ],
         "xaxis": "x",
         "y": [
          7.6006,
          8.0984,
          8.6088,
          9.262,
          10.1398,
          11.0656,
          11.8244,
          12.464,
          13.299,
          13.9744,
          14.2296,
          14.3242,
          14.0576,
          13.94661,
          14.28378,
          14.41446,
          8.89746,
          8.1192,
          8.78605,
          10.40625,
          12.02175,
          11.56953,
          9.243,
          5.66496,
          0,
          0.398
         ],
         "yaxis": "y2"
        },
        {
         "marker": {
          "line": {
           "color": "Black",
           "width": 2
          },
          "size": [
           12,
           12,
           12,
           12,
           12,
           12,
           12,
           12,
           12,
           12,
           12,
           12,
           12,
           12,
           12,
           12,
           12,
           12,
           12,
           12,
           12,
           12,
           12,
           12,
           12,
           14,
           14
          ],
          "symbol": "cross"
         },
         "mode": "markers",
         "name": "Current, Bypass Off",
         "opacity": 1,
         "type": "scatter",
         "x": [
          43.1,
          42.9,
          42.7,
          42.6,
          42.4,
          42.1,
          42,
          41.8,
          41.4,
          40.8,
          39.7,
          36.79,
          35.42,
          34.25,
          33.11,
          30.14,
          27.53,
          24.3,
          20,
          15.5,
          12.2,
          7.1,
          5.12,
          2.3,
          0.4,
          45,
          0
         ],
         "xaxis": "x",
         "y": [
          0.181,
          0.192,
          0.201,
          0.213,
          0.224,
          0.237,
          0.252,
          0.266,
          0.289,
          0.323,
          0.358,
          0.384,
          0.397,
          0.417,
          0.437,
          0.459,
          0.463,
          0.469,
          0.481,
          0.491,
          0.498,
          0.497,
          0.569,
          0.542,
          0.537,
          0,
          0.555
         ],
         "yaxis": "y"
        },
        {
         "marker": {
          "line": {
           "color": "Black",
           "width": 2
          },
          "size": [
           12,
           12,
           12,
           12,
           12,
           12,
           12,
           12,
           12,
           12,
           12,
           12,
           12,
           12,
           12,
           12,
           12,
           12,
           12,
           12,
           12,
           12,
           12,
           12,
           12,
           14,
           14
          ],
          "symbol": "cross-dot"
         },
         "mode": "markers",
         "name": "Power, Bypass Off",
         "opacity": 1,
         "type": "scatter",
         "x": [
          43.1,
          42.9,
          42.7,
          42.6,
          42.4,
          42.1,
          42,
          41.8,
          41.4,
          40.8,
          39.7,
          36.79,
          35.42,
          34.25,
          33.11,
          30.14,
          27.53,
          24.3,
          20,
          15.5,
          12.2,
          7.1,
          5.12,
          2.3,
          0.4,
          45,
          0
         ],
         "xaxis": "x",
         "y": [
          7.8011,
          8.2368,
          8.5827,
          9.0738,
          9.4976,
          9.9777,
          10.584,
          11.1188,
          11.9646,
          13.1784,
          14.2126,
          14.12736,
          14.06174,
          14.28225,
          14.46907,
          13.83426,
          12.74639,
          11.3967,
          9.62,
          7.6105,
          6.0756,
          3.5287,
          2.91328,
          1.2466,
          0.2148,
          0,
          0
         ],
         "yaxis": "y2"
        }
       ],
       "layout": {
        "annotations": [
         {
          "arrowcolor": "black",
          "arrowhead": 5,
          "arrowsize": 1,
          "arrowwidth": 1,
          "ax": -15,
          "ay": 25,
          "bgcolor": "white",
          "font": {
           "size": 18
          },
          "opacity": 0.8,
          "showarrow": true,
          "text": "Voc with diode = 44.4 V",
          "x": 44.4,
          "y": 0,
          "yref": "y"
         },
         {
          "arrowcolor": "black",
          "arrowhead": 5,
          "arrowsize": 1,
          "arrowwidth": 1,
          "ax": 0,
          "ay": 30,
          "bgcolor": "white",
          "font": {
           "size": 18
          },
          "opacity": 0.8,
          "showarrow": true,
          "text": "Isc with diode = 0.796 A",
          "x": 0.5,
          "y": 0.796,
          "yref": "y"
         },
         {
          "arrowcolor": "black",
          "arrowhead": 5,
          "arrowsize": 1,
          "arrowwidth": 1,
          "ax": 10,
          "ay": -60,
          "bgcolor": "white",
          "font": {
           "size": 18
          },
          "opacity": 0.8,
          "showarrow": true,
          "text": "Voc without diode = 45.0 V",
          "x": 45,
          "y": 0,
          "yref": "y"
         },
         {
          "arrowcolor": "black",
          "arrowhead": 5,
          "arrowsize": 1,
          "arrowwidth": 1,
          "ax": 0,
          "ay": -40,
          "bgcolor": "white",
          "font": {
           "size": 18
          },
          "opacity": 0.8,
          "showarrow": true,
          "text": "Isc without diode = 0.555 A",
          "x": 0,
          "y": 0.555,
          "yref": "y"
         }
        ],
        "font": {
         "size": 18
        },
        "height": 800,
        "legend": {
         "orientation": "h",
         "x": 0,
         "xanchor": "left",
         "y": 1.02,
         "yanchor": "bottom"
        },
        "template": {
         "data": {
          "bar": [
           {
            "error_x": {
             "color": "#2a3f5f"
            },
            "error_y": {
             "color": "#2a3f5f"
            },
            "marker": {
             "line": {
              "color": "#E5ECF6",
              "width": 0.5
             },
             "pattern": {
              "fillmode": "overlay",
              "size": 10,
              "solidity": 0.2
             }
            },
            "type": "bar"
           }
          ],
          "barpolar": [
           {
            "marker": {
             "line": {
              "color": "#E5ECF6",
              "width": 0.5
             },
             "pattern": {
              "fillmode": "overlay",
              "size": 10,
              "solidity": 0.2
             }
            },
            "type": "barpolar"
           }
          ],
          "carpet": [
           {
            "aaxis": {
             "endlinecolor": "#2a3f5f",
             "gridcolor": "white",
             "linecolor": "white",
             "minorgridcolor": "white",
             "startlinecolor": "#2a3f5f"
            },
            "baxis": {
             "endlinecolor": "#2a3f5f",
             "gridcolor": "white",
             "linecolor": "white",
             "minorgridcolor": "white",
             "startlinecolor": "#2a3f5f"
            },
            "type": "carpet"
           }
          ],
          "choropleth": [
           {
            "colorbar": {
             "outlinewidth": 0,
             "ticks": ""
            },
            "type": "choropleth"
           }
          ],
          "contour": [
           {
            "colorbar": {
             "outlinewidth": 0,
             "ticks": ""
            },
            "colorscale": [
             [
              0,
              "#0d0887"
             ],
             [
              0.1111111111111111,
              "#46039f"
             ],
             [
              0.2222222222222222,
              "#7201a8"
             ],
             [
              0.3333333333333333,
              "#9c179e"
             ],
             [
              0.4444444444444444,
              "#bd3786"
             ],
             [
              0.5555555555555556,
              "#d8576b"
             ],
             [
              0.6666666666666666,
              "#ed7953"
             ],
             [
              0.7777777777777778,
              "#fb9f3a"
             ],
             [
              0.8888888888888888,
              "#fdca26"
             ],
             [
              1,
              "#f0f921"
             ]
            ],
            "type": "contour"
           }
          ],
          "contourcarpet": [
           {
            "colorbar": {
             "outlinewidth": 0,
             "ticks": ""
            },
            "type": "contourcarpet"
           }
          ],
          "heatmap": [
           {
            "colorbar": {
             "outlinewidth": 0,
             "ticks": ""
            },
            "colorscale": [
             [
              0,
              "#0d0887"
             ],
             [
              0.1111111111111111,
              "#46039f"
             ],
             [
              0.2222222222222222,
              "#7201a8"
             ],
             [
              0.3333333333333333,
              "#9c179e"
             ],
             [
              0.4444444444444444,
              "#bd3786"
             ],
             [
              0.5555555555555556,
              "#d8576b"
             ],
             [
              0.6666666666666666,
              "#ed7953"
             ],
             [
              0.7777777777777778,
              "#fb9f3a"
             ],
             [
              0.8888888888888888,
              "#fdca26"
             ],
             [
              1,
              "#f0f921"
             ]
            ],
            "type": "heatmap"
           }
          ],
          "heatmapgl": [
           {
            "colorbar": {
             "outlinewidth": 0,
             "ticks": ""
            },
            "colorscale": [
             [
              0,
              "#0d0887"
             ],
             [
              0.1111111111111111,
              "#46039f"
             ],
             [
              0.2222222222222222,
              "#7201a8"
             ],
             [
              0.3333333333333333,
              "#9c179e"
             ],
             [
              0.4444444444444444,
              "#bd3786"
             ],
             [
              0.5555555555555556,
              "#d8576b"
             ],
             [
              0.6666666666666666,
              "#ed7953"
             ],
             [
              0.7777777777777778,
              "#fb9f3a"
             ],
             [
              0.8888888888888888,
              "#fdca26"
             ],
             [
              1,
              "#f0f921"
             ]
            ],
            "type": "heatmapgl"
           }
          ],
          "histogram": [
           {
            "marker": {
             "pattern": {
              "fillmode": "overlay",
              "size": 10,
              "solidity": 0.2
             }
            },
            "type": "histogram"
           }
          ],
          "histogram2d": [
           {
            "colorbar": {
             "outlinewidth": 0,
             "ticks": ""
            },
            "colorscale": [
             [
              0,
              "#0d0887"
             ],
             [
              0.1111111111111111,
              "#46039f"
             ],
             [
              0.2222222222222222,
              "#7201a8"
             ],
             [
              0.3333333333333333,
              "#9c179e"
             ],
             [
              0.4444444444444444,
              "#bd3786"
             ],
             [
              0.5555555555555556,
              "#d8576b"
             ],
             [
              0.6666666666666666,
              "#ed7953"
             ],
             [
              0.7777777777777778,
              "#fb9f3a"
             ],
             [
              0.8888888888888888,
              "#fdca26"
             ],
             [
              1,
              "#f0f921"
             ]
            ],
            "type": "histogram2d"
           }
          ],
          "histogram2dcontour": [
           {
            "colorbar": {
             "outlinewidth": 0,
             "ticks": ""
            },
            "colorscale": [
             [
              0,
              "#0d0887"
             ],
             [
              0.1111111111111111,
              "#46039f"
             ],
             [
              0.2222222222222222,
              "#7201a8"
             ],
             [
              0.3333333333333333,
              "#9c179e"
             ],
             [
              0.4444444444444444,
              "#bd3786"
             ],
             [
              0.5555555555555556,
              "#d8576b"
             ],
             [
              0.6666666666666666,
              "#ed7953"
             ],
             [
              0.7777777777777778,
              "#fb9f3a"
             ],
             [
              0.8888888888888888,
              "#fdca26"
             ],
             [
              1,
              "#f0f921"
             ]
            ],
            "type": "histogram2dcontour"
           }
          ],
          "mesh3d": [
           {
            "colorbar": {
             "outlinewidth": 0,
             "ticks": ""
            },
            "type": "mesh3d"
           }
          ],
          "parcoords": [
           {
            "line": {
             "colorbar": {
              "outlinewidth": 0,
              "ticks": ""
             }
            },
            "type": "parcoords"
           }
          ],
          "pie": [
           {
            "automargin": true,
            "type": "pie"
           }
          ],
          "scatter": [
           {
            "fillpattern": {
             "fillmode": "overlay",
             "size": 10,
             "solidity": 0.2
            },
            "type": "scatter"
           }
          ],
          "scatter3d": [
           {
            "line": {
             "colorbar": {
              "outlinewidth": 0,
              "ticks": ""
             }
            },
            "marker": {
             "colorbar": {
              "outlinewidth": 0,
              "ticks": ""
             }
            },
            "type": "scatter3d"
           }
          ],
          "scattercarpet": [
           {
            "marker": {
             "colorbar": {
              "outlinewidth": 0,
              "ticks": ""
             }
            },
            "type": "scattercarpet"
           }
          ],
          "scattergeo": [
           {
            "marker": {
             "colorbar": {
              "outlinewidth": 0,
              "ticks": ""
             }
            },
            "type": "scattergeo"
           }
          ],
          "scattergl": [
           {
            "marker": {
             "colorbar": {
              "outlinewidth": 0,
              "ticks": ""
             }
            },
            "type": "scattergl"
           }
          ],
          "scattermapbox": [
           {
            "marker": {
             "colorbar": {
              "outlinewidth": 0,
              "ticks": ""
             }
            },
            "type": "scattermapbox"
           }
          ],
          "scatterpolar": [
           {
            "marker": {
             "colorbar": {
              "outlinewidth": 0,
              "ticks": ""
             }
            },
            "type": "scatterpolar"
           }
          ],
          "scatterpolargl": [
           {
            "marker": {
             "colorbar": {
              "outlinewidth": 0,
              "ticks": ""
             }
            },
            "type": "scatterpolargl"
           }
          ],
          "scatterternary": [
           {
            "marker": {
             "colorbar": {
              "outlinewidth": 0,
              "ticks": ""
             }
            },
            "type": "scatterternary"
           }
          ],
          "surface": [
           {
            "colorbar": {
             "outlinewidth": 0,
             "ticks": ""
            },
            "colorscale": [
             [
              0,
              "#0d0887"
             ],
             [
              0.1111111111111111,
              "#46039f"
             ],
             [
              0.2222222222222222,
              "#7201a8"
             ],
             [
              0.3333333333333333,
              "#9c179e"
             ],
             [
              0.4444444444444444,
              "#bd3786"
             ],
             [
              0.5555555555555556,
              "#d8576b"
             ],
             [
              0.6666666666666666,
              "#ed7953"
             ],
             [
              0.7777777777777778,
              "#fb9f3a"
             ],
             [
              0.8888888888888888,
              "#fdca26"
             ],
             [
              1,
              "#f0f921"
             ]
            ],
            "type": "surface"
           }
          ],
          "table": [
           {
            "cells": {
             "fill": {
              "color": "#EBF0F8"
             },
             "line": {
              "color": "white"
             }
            },
            "header": {
             "fill": {
              "color": "#C8D4E3"
             },
             "line": {
              "color": "white"
             }
            },
            "type": "table"
           }
          ]
         },
         "layout": {
          "annotationdefaults": {
           "arrowcolor": "#2a3f5f",
           "arrowhead": 0,
           "arrowwidth": 1
          },
          "autotypenumbers": "strict",
          "coloraxis": {
           "colorbar": {
            "outlinewidth": 0,
            "ticks": ""
           }
          },
          "colorscale": {
           "diverging": [
            [
             0,
             "#8e0152"
            ],
            [
             0.1,
             "#c51b7d"
            ],
            [
             0.2,
             "#de77ae"
            ],
            [
             0.3,
             "#f1b6da"
            ],
            [
             0.4,
             "#fde0ef"
            ],
            [
             0.5,
             "#f7f7f7"
            ],
            [
             0.6,
             "#e6f5d0"
            ],
            [
             0.7,
             "#b8e186"
            ],
            [
             0.8,
             "#7fbc41"
            ],
            [
             0.9,
             "#4d9221"
            ],
            [
             1,
             "#276419"
            ]
           ],
           "sequential": [
            [
             0,
             "#0d0887"
            ],
            [
             0.1111111111111111,
             "#46039f"
            ],
            [
             0.2222222222222222,
             "#7201a8"
            ],
            [
             0.3333333333333333,
             "#9c179e"
            ],
            [
             0.4444444444444444,
             "#bd3786"
            ],
            [
             0.5555555555555556,
             "#d8576b"
            ],
            [
             0.6666666666666666,
             "#ed7953"
            ],
            [
             0.7777777777777778,
             "#fb9f3a"
            ],
            [
             0.8888888888888888,
             "#fdca26"
            ],
            [
             1,
             "#f0f921"
            ]
           ],
           "sequentialminus": [
            [
             0,
             "#0d0887"
            ],
            [
             0.1111111111111111,
             "#46039f"
            ],
            [
             0.2222222222222222,
             "#7201a8"
            ],
            [
             0.3333333333333333,
             "#9c179e"
            ],
            [
             0.4444444444444444,
             "#bd3786"
            ],
            [
             0.5555555555555556,
             "#d8576b"
            ],
            [
             0.6666666666666666,
             "#ed7953"
            ],
            [
             0.7777777777777778,
             "#fb9f3a"
            ],
            [
             0.8888888888888888,
             "#fdca26"
            ],
            [
             1,
             "#f0f921"
            ]
           ]
          },
          "colorway": [
           "#636efa",
           "#EF553B",
           "#00cc96",
           "#ab63fa",
           "#FFA15A",
           "#19d3f3",
           "#FF6692",
           "#B6E880",
           "#FF97FF",
           "#FECB52"
          ],
          "font": {
           "color": "#2a3f5f"
          },
          "geo": {
           "bgcolor": "white",
           "lakecolor": "white",
           "landcolor": "#E5ECF6",
           "showlakes": true,
           "showland": true,
           "subunitcolor": "white"
          },
          "hoverlabel": {
           "align": "left"
          },
          "hovermode": "closest",
          "mapbox": {
           "style": "light"
          },
          "paper_bgcolor": "white",
          "plot_bgcolor": "#E5ECF6",
          "polar": {
           "angularaxis": {
            "gridcolor": "white",
            "linecolor": "white",
            "ticks": ""
           },
           "bgcolor": "#E5ECF6",
           "radialaxis": {
            "gridcolor": "white",
            "linecolor": "white",
            "ticks": ""
           }
          },
          "scene": {
           "xaxis": {
            "backgroundcolor": "#E5ECF6",
            "gridcolor": "white",
            "gridwidth": 2,
            "linecolor": "white",
            "showbackground": true,
            "ticks": "",
            "zerolinecolor": "white"
           },
           "yaxis": {
            "backgroundcolor": "#E5ECF6",
            "gridcolor": "white",
            "gridwidth": 2,
            "linecolor": "white",
            "showbackground": true,
            "ticks": "",
            "zerolinecolor": "white"
           },
           "zaxis": {
            "backgroundcolor": "#E5ECF6",
            "gridcolor": "white",
            "gridwidth": 2,
            "linecolor": "white",
            "showbackground": true,
            "ticks": "",
            "zerolinecolor": "white"
           }
          },
          "shapedefaults": {
           "line": {
            "color": "#2a3f5f"
           }
          },
          "ternary": {
           "aaxis": {
            "gridcolor": "white",
            "linecolor": "white",
            "ticks": ""
           },
           "baxis": {
            "gridcolor": "white",
            "linecolor": "white",
            "ticks": ""
           },
           "bgcolor": "#E5ECF6",
           "caxis": {
            "gridcolor": "white",
            "linecolor": "white",
            "ticks": ""
           }
          },
          "title": {
           "x": 0.05
          },
          "xaxis": {
           "automargin": true,
           "gridcolor": "white",
           "linecolor": "white",
           "ticks": "",
           "title": {
            "standoff": 15
           },
           "zerolinecolor": "white",
           "zerolinewidth": 2
          },
          "yaxis": {
           "automargin": true,
           "gridcolor": "white",
           "linecolor": "white",
           "ticks": "",
           "title": {
            "standoff": 15
           },
           "zerolinecolor": "white",
           "zerolinewidth": 2
          }
         }
        },
        "title": {
         "text": "Effect of a bypass diode I-V, P-V curves",
         "y": 0.99
        },
        "width": 800,
        "xaxis": {
         "anchor": "y",
         "domain": [
          0,
          0.94
         ],
         "title": {
          "text": "Voltage [V]"
         }
        },
        "yaxis": {
         "anchor": "x",
         "domain": [
          0,
          1
         ],
         "title": {
          "text": "Current [A]"
         }
        },
        "yaxis2": {
         "anchor": "x",
         "overlaying": "y",
         "side": "right",
         "title": {
          "text": "Power [W]"
         }
        }
       }
      }
     },
     "metadata": {},
     "output_type": "display_data"
    }
   ],
   "source": [
    "# Add marker size column which is bigger for Voc and Isc (last two rows of each dataframe)\n",
    "default_marker_size = 12\n",
    "special_point_marker_size_delta = 2\n",
    "df_bypass_on['marker_size'] = default_marker_size\n",
    "df_bypass_off['marker_size'] = default_marker_size\n",
    "# Set the markersize of last two rows to be bigger\n",
    "df_bypass_on.loc[df_bypass_on.index[-2:], 'marker_size'] = default_marker_size + special_point_marker_size_delta\n",
    "df_bypass_off.loc[df_bypass_off.index[-2:], 'marker_size'] = default_marker_size + special_point_marker_size_delta\n",
    "\n",
    "\n",
    "# Create a figure with subplots with power on the right y-axis and current on the left y-axis, voltage as the x-axis\n",
    "# The power and current of bypass on and off are plotted on the same graph\n",
    "# The power and voltage datapoints of bypass_on will be red\n",
    "# The power and voltage datapoints of bypass_off will be blue\n",
    "fig = sp.make_subplots(specs=[[{\"secondary_y\": True}]])\n",
    "# Size 800x800, axes font 18, title font 20\n",
    "fig.update_layout(width=800, height=800, font=dict(size=18), title_font_size=20)\n",
    "\n",
    "# Label the axes\n",
    "fig.update_xaxes(title_text='Voltage [V]')\n",
    "fig.update_yaxes(title_text='Current [A]', secondary_y=False)\n",
    "fig.update_yaxes(title_text='Power [W]', secondary_y=True)\n",
    "\n",
    "# Add the title\n",
    "fig.update_layout(title='Effect of a bypass diode I-V, P-V curves')\n",
    "\n",
    "\n",
    "# Plot bypass_on current against voltage\n",
    "fig.add_trace(go.Scatter(x=df_bypass_on['voltage'], y=df_bypass_on['current'], mode='markers', marker=dict(size=df_bypass_on['marker_size'], symbol='circle', line=dict(width=2, color='Black')), name='Current, Bypass On'), secondary_y=False)\n",
    "# Plot bypass_on power against voltage on the right y-axis\n",
    "fig.add_trace(go.Scatter(x=df_bypass_on['voltage'], y=df_bypass_on['power'], mode='markers', marker=dict(size=df_bypass_on['marker_size'], symbol='circle-dot', line=dict(width=2, color='Black')), name='Power, Bypass On'), secondary_y=True)\n",
    "\n",
    "# Plot bypass_off current against voltage\n",
    "fig.add_trace(go.Scatter(x=df_bypass_off['voltage'], y=df_bypass_off['current'], mode='markers', marker=dict(size=df_bypass_off['marker_size'], symbol='cross', line=dict(width=2, color='Black')), name='Current, Bypass Off'), secondary_y=False)\n",
    "# Plot bypass_off power against voltage on the right y-axis\n",
    "fig.add_trace(go.Scatter(x=df_bypass_off['voltage'], y=df_bypass_off['power'], mode='markers', marker=dict(size=df_bypass_off['marker_size'], symbol='cross-dot', line=dict(width=2, color='Black')), name='Power, Bypass Off'), secondary_y=True)\n",
    "\n",
    "\n",
    "# Move the title higher\n",
    "fig.update_layout(title_y=0.99)\n",
    "# Move the legend below the title\n",
    "fig.update_layout(legend=dict(orientation='h', yanchor='bottom', y=1.02, xanchor='left', x=0))\n",
    "fig.update_traces(opacity=1)\n",
    "\n",
    "# Annotate the last two datapoints in df bypass_on\n",
    "# Voc is at [-2] (second to last)\n",
    "# Annotate Voc with 'Voc with diode ='\n",
    "fig.add_annotation(\n",
    "    x=df_bypass_on['voltage'].iloc[-2], y=df_bypass_on['current'].iloc[-2],\n",
    "    ax=-15, ay=25,\n",
    "    text=f'Voc with diode = {df_bypass_on[\"voltage\"].iloc[-2]} V',\n",
    "    yref='y',\n",
    "    showarrow=True,\n",
    "    arrowhead=5,\n",
    "    arrowsize=1,\n",
    "    arrowwidth=1,\n",
    "    arrowcolor='black',\n",
    "    bgcolor='white',\n",
    "    opacity=0.8,\n",
    "    font=dict(size=18),\n",
    ")\n",
    "# Isc is at [-1] (last)\n",
    "# Annotate Isc with 'Isc with diode ='\n",
    "fig.add_annotation(\n",
    "    x=df_bypass_on['voltage'].iloc[-1], y=df_bypass_on['current'].iloc[-1],\n",
    "    ax=0, ay=30,\n",
    "    text=f'Isc with diode = {df_bypass_on[\"current\"].iloc[-1]} A',\n",
    "    yref='y',\n",
    "    showarrow=True,\n",
    "    arrowhead=5,\n",
    "    arrowsize=1,\n",
    "    arrowwidth=1,\n",
    "    arrowcolor='black',\n",
    "    bgcolor='white',\n",
    "    opacity=0.8,\n",
    "    font=dict(size=18),\n",
    ")\n",
    "# Annotate the last two datapoints in df bypass_off\n",
    "# Voc is at [-2] (second to last)\n",
    "# Annotate Voc with 'Voc without diode ='\n",
    "fig.add_annotation(\n",
    "    x=df_bypass_off['voltage'].iloc[-2], y=df_bypass_off['current'].iloc[-2],\n",
    "    ax=10, ay=-60,\n",
    "    text=f'Voc without diode = {df_bypass_off[\"voltage\"].iloc[-2]} V',\n",
    "    yref='y',\n",
    "    showarrow=True,\n",
    "    arrowhead=5,\n",
    "    arrowsize=1,\n",
    "    arrowwidth=1,\n",
    "    arrowcolor='black',\n",
    "    bgcolor='white',\n",
    "    opacity=0.8,\n",
    "    font=dict(size=18),\n",
    ")\n",
    "# Isc is at [-1] (last)\n",
    "# Annotate Isc with 'Isc without diode ='\n",
    "fig.add_annotation(\n",
    "    x=df_bypass_off['voltage'].iloc[-1], y=df_bypass_off['current'].iloc[-1],\n",
    "    ax=0, ay=-40,\n",
    "    text=f'Isc without diode = {df_bypass_off[\"current\"].iloc[-1]} A',\n",
    "    yref='y',\n",
    "    showarrow=True,\n",
    "    arrowhead=5,\n",
    "    arrowsize=1,\n",
    "    arrowwidth=1,\n",
    "    arrowcolor='black',\n",
    "    bgcolor='white',\n",
    "    opacity=0.8,\n",
    "    font=dict(size=18),\n",
    ")\n",
    "fig.show()\n",
    "# fig.write_image('plots/task2/bypass.png')\n",
    "\n"
   ]
  },
  {
   "cell_type": "code",
   "execution_count": 168,
   "metadata": {},
   "outputs": [
    {
     "data": {
      "text/html": [
       "<div>\n",
       "<style scoped>\n",
       "    .dataframe tbody tr th:only-of-type {\n",
       "        vertical-align: middle;\n",
       "    }\n",
       "\n",
       "    .dataframe tbody tr th {\n",
       "        vertical-align: top;\n",
       "    }\n",
       "\n",
       "    .dataframe thead th {\n",
       "        text-align: right;\n",
       "    }\n",
       "</style>\n",
       "<table border=\"1\" class=\"dataframe\">\n",
       "  <thead>\n",
       "    <tr style=\"text-align: right;\">\n",
       "      <th></th>\n",
       "      <th>voltage</th>\n",
       "      <th>current</th>\n",
       "      <th>intensity</th>\n",
       "      <th>power</th>\n",
       "    </tr>\n",
       "  </thead>\n",
       "  <tbody>\n",
       "    <tr>\n",
       "      <th>23</th>\n",
       "      <td>18.57</td>\n",
       "      <td>0.00</td>\n",
       "      <td>1</td>\n",
       "      <td>0.0</td>\n",
       "    </tr>\n",
       "    <tr>\n",
       "      <th>24</th>\n",
       "      <td>0.00</td>\n",
       "      <td>25.07</td>\n",
       "      <td>1</td>\n",
       "      <td>0.0</td>\n",
       "    </tr>\n",
       "  </tbody>\n",
       "</table>\n",
       "</div>"
      ],
      "text/plain": [
       "    voltage  current  intensity  power\n",
       "23    18.57     0.00          1    0.0\n",
       "24     0.00    25.07          1    0.0"
      ]
     },
     "execution_count": 168,
     "metadata": {},
     "output_type": "execute_result"
    }
   ],
   "source": [
    "dft4 = pd.read_csv('./data/TASK4 - p2exportivpv.csv')\n",
    "# add power row\n",
    "dft4['power'] = dft4['voltage'] * dft4['current']\n",
    "df_intesity_one = dft4.copy(deep=True)\n",
    "df_intesity_one = df_intesity_one[df_intesity_one['intensity'] == 1]\n",
    "df_intesity_three = dft4.copy(deep=True)\n",
    "df_intesity_three = df_intesity_three[df_intesity_three['intensity'] == 3]\n",
    "df_intesity_one.tail(2)"
   ]
  },
  {
   "cell_type": "code",
   "execution_count": 169,
   "metadata": {},
   "outputs": [
    {
     "name": "stdout",
     "output_type": "stream",
     "text": [
      "Vmpp of intensity one: 15.91\n",
      "Impp of intensity one: 16.83\n",
      "Pmax of intensity one: 267.76529999999997\n",
      "Vmpp of intensity three: 15.3\n",
      "Impp of intensity three: 35.32\n",
      "Pmax of intensity three: 540.3960000000001\n"
     ]
    }
   ],
   "source": [
    "# Columns of df_intesity_one and df_intesity_three are voltage, current, power, intensity\n",
    "\n",
    "# Print characteristic parameters of intensity one\n",
    "# Print Impp and Vmpp which are the current and voltage of the point with maximum power for intensity one\n",
    "# Print Pmax which is the maximum power for intensity one\n",
    "intensity_one_mpp_point = df_intesity_one[df_intesity_one['power'] == df_intesity_one['power'].max()]\n",
    "print(f\"Vmpp of intensity one: {intensity_one_mpp_point['voltage'].values[0]}\")\n",
    "print(f\"Impp of intensity one: {intensity_one_mpp_point['current'].values[0]}\")\n",
    "print(f\"Pmax of intensity one: {df_intesity_one['power'].max()}\")\n",
    "# Print characteristic parameters of intensity three\n",
    "# Print Impp and Vmpp which are the current and voltage of the point with maximum power for intensity three\n",
    "# Print Pmax which is the maximum power for intensity three\n",
    "intensity_three_mpp_point = df_intesity_three[df_intesity_three['power'] == df_intesity_three['power'].max()]\n",
    "print(f\"Vmpp of intensity three: {intensity_three_mpp_point['voltage'].values[0]}\")\n",
    "print(f\"Impp of intensity three: {intensity_three_mpp_point['current'].values[0]}\")\n",
    "print(f\"Pmax of intensity three: {df_intesity_three['power'].max()}\")"
   ]
  },
  {
   "cell_type": "code",
   "execution_count": 170,
   "metadata": {},
   "outputs": [
    {
     "data": {
      "application/vnd.plotly.v1+json": {
       "config": {
        "plotlyServerURL": "https://plot.ly"
       },
       "data": [
        {
         "marker": {
          "line": {
           "color": "Black",
           "width": 2
          },
          "size": [
           12,
           12,
           12,
           12,
           12,
           12,
           12,
           12,
           12,
           12,
           12,
           12,
           12,
           12,
           12,
           12,
           12,
           12,
           12,
           12,
           12,
           12,
           12,
           14,
           14
          ],
          "symbol": "circle"
         },
         "mode": "markers",
         "name": "Current, Intensity One",
         "opacity": 1,
         "type": "scatter",
         "x": [
          16.95,
          16.51,
          15.91,
          14.92,
          14.18,
          12.98,
          11.85,
          10.94,
          10.62,
          9.46,
          8.4,
          6.24,
          4.37,
          3.27,
          2.68,
          2.392,
          2.665,
          2.25,
          1.998,
          1.465,
          1.324,
          0.78,
          0.666,
          18.57,
          0
         ],
         "xaxis": "x",
         "y": [
          14.39,
          15.95,
          16.83,
          17.73,
          18.49,
          19.24,
          20.01,
          20.32,
          20.66,
          21.3,
          21.65,
          22.2,
          22.82,
          23.38,
          23.83,
          23.95,
          23.89,
          23.96,
          24.12,
          24.47,
          24.51,
          24.71,
          24.68,
          0,
          25.07
         ],
         "yaxis": "y"
        },
        {
         "marker": {
          "line": {
           "color": "Black",
           "width": 2
          },
          "size": [
           12,
           12,
           12,
           12,
           12,
           12,
           12,
           12,
           12,
           12,
           12,
           12,
           12,
           12,
           12,
           12,
           12,
           12,
           12,
           12,
           12,
           12,
           12,
           14,
           14
          ],
          "symbol": "circle-dot"
         },
         "mode": "markers",
         "name": "Power, Intensity One",
         "opacity": 1,
         "type": "scatter",
         "x": [
          16.95,
          16.51,
          15.91,
          14.92,
          14.18,
          12.98,
          11.85,
          10.94,
          10.62,
          9.46,
          8.4,
          6.24,
          4.37,
          3.27,
          2.68,
          2.392,
          2.665,
          2.25,
          1.998,
          1.465,
          1.324,
          0.78,
          0.666,
          18.57,
          0
         ],
         "xaxis": "x",
         "y": [
          243.9105,
          263.3345,
          267.76529999999997,
          264.5316,
          262.1882,
          249.7352,
          237.1185,
          222.30079999999998,
          219.4092,
          201.49800000000002,
          181.85999999999999,
          138.528,
          99.7234,
          76.4526,
          63.864399999999996,
          57.288399999999996,
          63.666850000000004,
          53.910000000000004,
          48.19176,
          35.84855,
          32.451240000000006,
          19.2738,
          16.436880000000002,
          0,
          0
         ],
         "yaxis": "y2"
        },
        {
         "marker": {
          "line": {
           "color": "Black",
           "width": 2
          },
          "size": [
           12,
           12,
           12,
           12,
           12,
           12,
           12,
           12,
           12,
           12,
           12,
           12,
           12,
           12,
           12,
           12,
           12,
           14,
           14
          ],
          "symbol": "cross"
         },
         "mode": "markers",
         "name": "Current, Intensity Three",
         "opacity": 1,
         "type": "scatter",
         "x": [
          18.61,
          18.47,
          18.39,
          18.22,
          17.97,
          17.48,
          15.3,
          10.66,
          4.6,
          4.87,
          4.42,
          3.759,
          2.938,
          2.108,
          1.834,
          1.081,
          0.56,
          19.21,
          0
         ],
         "xaxis": "x",
         "y": [
          15.75,
          18.24,
          20.12,
          23.03,
          26.44,
          30.46,
          35.32,
          39.16,
          42.4,
          42,
          42.3,
          42.9,
          43,
          43.1,
          42.8,
          43.1,
          43.4,
          0,
          43.6
         ],
         "yaxis": "y"
        },
        {
         "marker": {
          "line": {
           "color": "Black",
           "width": 2
          },
          "size": [
           12,
           12,
           12,
           12,
           12,
           12,
           12,
           12,
           12,
           12,
           12,
           12,
           12,
           12,
           12,
           12,
           12,
           14,
           14
          ],
          "symbol": "cross-dot"
         },
         "mode": "markers",
         "name": "Power, Intensity Three",
         "opacity": 1,
         "type": "scatter",
         "x": [
          18.61,
          18.47,
          18.39,
          18.22,
          17.97,
          17.48,
          15.3,
          10.66,
          4.6,
          4.87,
          4.42,
          3.759,
          2.938,
          2.108,
          1.834,
          1.081,
          0.56,
          19.21,
          0
         ],
         "xaxis": "x",
         "y": [
          293.1075,
          336.89279999999997,
          370.00680000000006,
          419.6066,
          475.1268,
          532.4408000000001,
          540.3960000000001,
          417.44559999999996,
          195.04,
          204.54,
          186.96599999999998,
          161.2611,
          126.334,
          90.85480000000001,
          78.4952,
          46.5911,
          24.304000000000002,
          0,
          0
         ],
         "yaxis": "y2"
        }
       ],
       "layout": {
        "annotations": [
         {
          "arrowcolor": "black",
          "arrowhead": 5,
          "arrowsize": 1,
          "arrowwidth": 1,
          "ax": -125,
          "ay": -35,
          "bgcolor": "white",
          "font": {
           "size": 18
          },
          "opacity": 0.8,
          "showarrow": true,
          "text": "Voc, intensity 1: 18.57 V",
          "x": 18.57,
          "y": 0,
          "yref": "y"
         },
         {
          "arrowcolor": "black",
          "arrowhead": 5,
          "arrowsize": 1,
          "arrowwidth": 1,
          "ax": 0,
          "ay": -35,
          "bgcolor": "white",
          "font": {
           "size": 18
          },
          "opacity": 0.8,
          "showarrow": true,
          "text": "Isc, intensity 1: 25.07 A",
          "x": 0,
          "y": 25.07,
          "yref": "y"
         },
         {
          "arrowcolor": "black",
          "arrowhead": 5,
          "arrowsize": 1,
          "arrowwidth": 1,
          "ax": 25,
          "ay": -75,
          "bgcolor": "white",
          "font": {
           "size": 18
          },
          "opacity": 0.8,
          "showarrow": true,
          "text": "Voc, intensity 3: 19.21 V",
          "x": 19.21,
          "y": 0,
          "yref": "y"
         },
         {
          "arrowcolor": "black",
          "arrowhead": 5,
          "arrowsize": 1,
          "arrowwidth": 1,
          "ax": 0,
          "ay": 55,
          "bgcolor": "white",
          "font": {
           "size": 18
          },
          "opacity": 0.8,
          "showarrow": true,
          "text": "Isc, intensity 3: 43.6 A",
          "x": 0,
          "y": 43.6,
          "yref": "y"
         },
         {
          "arrowcolor": "red",
          "arrowhead": 5,
          "arrowsize": 1,
          "arrowwidth": 1,
          "ax": -85,
          "ay": -40,
          "bgcolor": "rgba(255, 255, 255, 15)",
          "font": {
           "size": 18
          },
          "opacity": 0.8,
          "showarrow": true,
          "text": "MPP (15.91 V, 267.77 W) ",
          "x": 15.91,
          "y": 267.76529999999997,
          "yref": "y2"
         },
         {
          "arrowcolor": "purple",
          "arrowhead": 5,
          "arrowsize": 1,
          "arrowwidth": 1,
          "ax": 0,
          "ay": -25,
          "bgcolor": "white",
          "font": {
           "size": 18
          },
          "opacity": 0.8,
          "showarrow": true,
          "text": "MPP (15.30 V, 540.40 W) ",
          "x": 15.3,
          "y": 540.3960000000001,
          "yref": "y2"
         }
        ],
        "font": {
         "size": 18
        },
        "height": 800,
        "legend": {
         "orientation": "h",
         "x": 0,
         "xanchor": "left",
         "y": 1.02,
         "yanchor": "bottom"
        },
        "template": {
         "data": {
          "bar": [
           {
            "error_x": {
             "color": "#2a3f5f"
            },
            "error_y": {
             "color": "#2a3f5f"
            },
            "marker": {
             "line": {
              "color": "#E5ECF6",
              "width": 0.5
             },
             "pattern": {
              "fillmode": "overlay",
              "size": 10,
              "solidity": 0.2
             }
            },
            "type": "bar"
           }
          ],
          "barpolar": [
           {
            "marker": {
             "line": {
              "color": "#E5ECF6",
              "width": 0.5
             },
             "pattern": {
              "fillmode": "overlay",
              "size": 10,
              "solidity": 0.2
             }
            },
            "type": "barpolar"
           }
          ],
          "carpet": [
           {
            "aaxis": {
             "endlinecolor": "#2a3f5f",
             "gridcolor": "white",
             "linecolor": "white",
             "minorgridcolor": "white",
             "startlinecolor": "#2a3f5f"
            },
            "baxis": {
             "endlinecolor": "#2a3f5f",
             "gridcolor": "white",
             "linecolor": "white",
             "minorgridcolor": "white",
             "startlinecolor": "#2a3f5f"
            },
            "type": "carpet"
           }
          ],
          "choropleth": [
           {
            "colorbar": {
             "outlinewidth": 0,
             "ticks": ""
            },
            "type": "choropleth"
           }
          ],
          "contour": [
           {
            "colorbar": {
             "outlinewidth": 0,
             "ticks": ""
            },
            "colorscale": [
             [
              0,
              "#0d0887"
             ],
             [
              0.1111111111111111,
              "#46039f"
             ],
             [
              0.2222222222222222,
              "#7201a8"
             ],
             [
              0.3333333333333333,
              "#9c179e"
             ],
             [
              0.4444444444444444,
              "#bd3786"
             ],
             [
              0.5555555555555556,
              "#d8576b"
             ],
             [
              0.6666666666666666,
              "#ed7953"
             ],
             [
              0.7777777777777778,
              "#fb9f3a"
             ],
             [
              0.8888888888888888,
              "#fdca26"
             ],
             [
              1,
              "#f0f921"
             ]
            ],
            "type": "contour"
           }
          ],
          "contourcarpet": [
           {
            "colorbar": {
             "outlinewidth": 0,
             "ticks": ""
            },
            "type": "contourcarpet"
           }
          ],
          "heatmap": [
           {
            "colorbar": {
             "outlinewidth": 0,
             "ticks": ""
            },
            "colorscale": [
             [
              0,
              "#0d0887"
             ],
             [
              0.1111111111111111,
              "#46039f"
             ],
             [
              0.2222222222222222,
              "#7201a8"
             ],
             [
              0.3333333333333333,
              "#9c179e"
             ],
             [
              0.4444444444444444,
              "#bd3786"
             ],
             [
              0.5555555555555556,
              "#d8576b"
             ],
             [
              0.6666666666666666,
              "#ed7953"
             ],
             [
              0.7777777777777778,
              "#fb9f3a"
             ],
             [
              0.8888888888888888,
              "#fdca26"
             ],
             [
              1,
              "#f0f921"
             ]
            ],
            "type": "heatmap"
           }
          ],
          "heatmapgl": [
           {
            "colorbar": {
             "outlinewidth": 0,
             "ticks": ""
            },
            "colorscale": [
             [
              0,
              "#0d0887"
             ],
             [
              0.1111111111111111,
              "#46039f"
             ],
             [
              0.2222222222222222,
              "#7201a8"
             ],
             [
              0.3333333333333333,
              "#9c179e"
             ],
             [
              0.4444444444444444,
              "#bd3786"
             ],
             [
              0.5555555555555556,
              "#d8576b"
             ],
             [
              0.6666666666666666,
              "#ed7953"
             ],
             [
              0.7777777777777778,
              "#fb9f3a"
             ],
             [
              0.8888888888888888,
              "#fdca26"
             ],
             [
              1,
              "#f0f921"
             ]
            ],
            "type": "heatmapgl"
           }
          ],
          "histogram": [
           {
            "marker": {
             "pattern": {
              "fillmode": "overlay",
              "size": 10,
              "solidity": 0.2
             }
            },
            "type": "histogram"
           }
          ],
          "histogram2d": [
           {
            "colorbar": {
             "outlinewidth": 0,
             "ticks": ""
            },
            "colorscale": [
             [
              0,
              "#0d0887"
             ],
             [
              0.1111111111111111,
              "#46039f"
             ],
             [
              0.2222222222222222,
              "#7201a8"
             ],
             [
              0.3333333333333333,
              "#9c179e"
             ],
             [
              0.4444444444444444,
              "#bd3786"
             ],
             [
              0.5555555555555556,
              "#d8576b"
             ],
             [
              0.6666666666666666,
              "#ed7953"
             ],
             [
              0.7777777777777778,
              "#fb9f3a"
             ],
             [
              0.8888888888888888,
              "#fdca26"
             ],
             [
              1,
              "#f0f921"
             ]
            ],
            "type": "histogram2d"
           }
          ],
          "histogram2dcontour": [
           {
            "colorbar": {
             "outlinewidth": 0,
             "ticks": ""
            },
            "colorscale": [
             [
              0,
              "#0d0887"
             ],
             [
              0.1111111111111111,
              "#46039f"
             ],
             [
              0.2222222222222222,
              "#7201a8"
             ],
             [
              0.3333333333333333,
              "#9c179e"
             ],
             [
              0.4444444444444444,
              "#bd3786"
             ],
             [
              0.5555555555555556,
              "#d8576b"
             ],
             [
              0.6666666666666666,
              "#ed7953"
             ],
             [
              0.7777777777777778,
              "#fb9f3a"
             ],
             [
              0.8888888888888888,
              "#fdca26"
             ],
             [
              1,
              "#f0f921"
             ]
            ],
            "type": "histogram2dcontour"
           }
          ],
          "mesh3d": [
           {
            "colorbar": {
             "outlinewidth": 0,
             "ticks": ""
            },
            "type": "mesh3d"
           }
          ],
          "parcoords": [
           {
            "line": {
             "colorbar": {
              "outlinewidth": 0,
              "ticks": ""
             }
            },
            "type": "parcoords"
           }
          ],
          "pie": [
           {
            "automargin": true,
            "type": "pie"
           }
          ],
          "scatter": [
           {
            "fillpattern": {
             "fillmode": "overlay",
             "size": 10,
             "solidity": 0.2
            },
            "type": "scatter"
           }
          ],
          "scatter3d": [
           {
            "line": {
             "colorbar": {
              "outlinewidth": 0,
              "ticks": ""
             }
            },
            "marker": {
             "colorbar": {
              "outlinewidth": 0,
              "ticks": ""
             }
            },
            "type": "scatter3d"
           }
          ],
          "scattercarpet": [
           {
            "marker": {
             "colorbar": {
              "outlinewidth": 0,
              "ticks": ""
             }
            },
            "type": "scattercarpet"
           }
          ],
          "scattergeo": [
           {
            "marker": {
             "colorbar": {
              "outlinewidth": 0,
              "ticks": ""
             }
            },
            "type": "scattergeo"
           }
          ],
          "scattergl": [
           {
            "marker": {
             "colorbar": {
              "outlinewidth": 0,
              "ticks": ""
             }
            },
            "type": "scattergl"
           }
          ],
          "scattermapbox": [
           {
            "marker": {
             "colorbar": {
              "outlinewidth": 0,
              "ticks": ""
             }
            },
            "type": "scattermapbox"
           }
          ],
          "scatterpolar": [
           {
            "marker": {
             "colorbar": {
              "outlinewidth": 0,
              "ticks": ""
             }
            },
            "type": "scatterpolar"
           }
          ],
          "scatterpolargl": [
           {
            "marker": {
             "colorbar": {
              "outlinewidth": 0,
              "ticks": ""
             }
            },
            "type": "scatterpolargl"
           }
          ],
          "scatterternary": [
           {
            "marker": {
             "colorbar": {
              "outlinewidth": 0,
              "ticks": ""
             }
            },
            "type": "scatterternary"
           }
          ],
          "surface": [
           {
            "colorbar": {
             "outlinewidth": 0,
             "ticks": ""
            },
            "colorscale": [
             [
              0,
              "#0d0887"
             ],
             [
              0.1111111111111111,
              "#46039f"
             ],
             [
              0.2222222222222222,
              "#7201a8"
             ],
             [
              0.3333333333333333,
              "#9c179e"
             ],
             [
              0.4444444444444444,
              "#bd3786"
             ],
             [
              0.5555555555555556,
              "#d8576b"
             ],
             [
              0.6666666666666666,
              "#ed7953"
             ],
             [
              0.7777777777777778,
              "#fb9f3a"
             ],
             [
              0.8888888888888888,
              "#fdca26"
             ],
             [
              1,
              "#f0f921"
             ]
            ],
            "type": "surface"
           }
          ],
          "table": [
           {
            "cells": {
             "fill": {
              "color": "#EBF0F8"
             },
             "line": {
              "color": "white"
             }
            },
            "header": {
             "fill": {
              "color": "#C8D4E3"
             },
             "line": {
              "color": "white"
             }
            },
            "type": "table"
           }
          ]
         },
         "layout": {
          "annotationdefaults": {
           "arrowcolor": "#2a3f5f",
           "arrowhead": 0,
           "arrowwidth": 1
          },
          "autotypenumbers": "strict",
          "coloraxis": {
           "colorbar": {
            "outlinewidth": 0,
            "ticks": ""
           }
          },
          "colorscale": {
           "diverging": [
            [
             0,
             "#8e0152"
            ],
            [
             0.1,
             "#c51b7d"
            ],
            [
             0.2,
             "#de77ae"
            ],
            [
             0.3,
             "#f1b6da"
            ],
            [
             0.4,
             "#fde0ef"
            ],
            [
             0.5,
             "#f7f7f7"
            ],
            [
             0.6,
             "#e6f5d0"
            ],
            [
             0.7,
             "#b8e186"
            ],
            [
             0.8,
             "#7fbc41"
            ],
            [
             0.9,
             "#4d9221"
            ],
            [
             1,
             "#276419"
            ]
           ],
           "sequential": [
            [
             0,
             "#0d0887"
            ],
            [
             0.1111111111111111,
             "#46039f"
            ],
            [
             0.2222222222222222,
             "#7201a8"
            ],
            [
             0.3333333333333333,
             "#9c179e"
            ],
            [
             0.4444444444444444,
             "#bd3786"
            ],
            [
             0.5555555555555556,
             "#d8576b"
            ],
            [
             0.6666666666666666,
             "#ed7953"
            ],
            [
             0.7777777777777778,
             "#fb9f3a"
            ],
            [
             0.8888888888888888,
             "#fdca26"
            ],
            [
             1,
             "#f0f921"
            ]
           ],
           "sequentialminus": [
            [
             0,
             "#0d0887"
            ],
            [
             0.1111111111111111,
             "#46039f"
            ],
            [
             0.2222222222222222,
             "#7201a8"
            ],
            [
             0.3333333333333333,
             "#9c179e"
            ],
            [
             0.4444444444444444,
             "#bd3786"
            ],
            [
             0.5555555555555556,
             "#d8576b"
            ],
            [
             0.6666666666666666,
             "#ed7953"
            ],
            [
             0.7777777777777778,
             "#fb9f3a"
            ],
            [
             0.8888888888888888,
             "#fdca26"
            ],
            [
             1,
             "#f0f921"
            ]
           ]
          },
          "colorway": [
           "#636efa",
           "#EF553B",
           "#00cc96",
           "#ab63fa",
           "#FFA15A",
           "#19d3f3",
           "#FF6692",
           "#B6E880",
           "#FF97FF",
           "#FECB52"
          ],
          "font": {
           "color": "#2a3f5f"
          },
          "geo": {
           "bgcolor": "white",
           "lakecolor": "white",
           "landcolor": "#E5ECF6",
           "showlakes": true,
           "showland": true,
           "subunitcolor": "white"
          },
          "hoverlabel": {
           "align": "left"
          },
          "hovermode": "closest",
          "mapbox": {
           "style": "light"
          },
          "paper_bgcolor": "white",
          "plot_bgcolor": "#E5ECF6",
          "polar": {
           "angularaxis": {
            "gridcolor": "white",
            "linecolor": "white",
            "ticks": ""
           },
           "bgcolor": "#E5ECF6",
           "radialaxis": {
            "gridcolor": "white",
            "linecolor": "white",
            "ticks": ""
           }
          },
          "scene": {
           "xaxis": {
            "backgroundcolor": "#E5ECF6",
            "gridcolor": "white",
            "gridwidth": 2,
            "linecolor": "white",
            "showbackground": true,
            "ticks": "",
            "zerolinecolor": "white"
           },
           "yaxis": {
            "backgroundcolor": "#E5ECF6",
            "gridcolor": "white",
            "gridwidth": 2,
            "linecolor": "white",
            "showbackground": true,
            "ticks": "",
            "zerolinecolor": "white"
           },
           "zaxis": {
            "backgroundcolor": "#E5ECF6",
            "gridcolor": "white",
            "gridwidth": 2,
            "linecolor": "white",
            "showbackground": true,
            "ticks": "",
            "zerolinecolor": "white"
           }
          },
          "shapedefaults": {
           "line": {
            "color": "#2a3f5f"
           }
          },
          "ternary": {
           "aaxis": {
            "gridcolor": "white",
            "linecolor": "white",
            "ticks": ""
           },
           "baxis": {
            "gridcolor": "white",
            "linecolor": "white",
            "ticks": ""
           },
           "bgcolor": "#E5ECF6",
           "caxis": {
            "gridcolor": "white",
            "linecolor": "white",
            "ticks": ""
           }
          },
          "title": {
           "x": 0.05
          },
          "xaxis": {
           "automargin": true,
           "gridcolor": "white",
           "linecolor": "white",
           "ticks": "",
           "title": {
            "standoff": 15
           },
           "zerolinecolor": "white",
           "zerolinewidth": 2
          },
          "yaxis": {
           "automargin": true,
           "gridcolor": "white",
           "linecolor": "white",
           "ticks": "",
           "title": {
            "standoff": 15
           },
           "zerolinecolor": "white",
           "zerolinewidth": 2
          }
         }
        },
        "title": {
         "text": "Intensity effect on I-V, P-V curves",
         "y": 0.99
        },
        "width": 800,
        "xaxis": {
         "anchor": "y",
         "domain": [
          0,
          0.94
         ],
         "title": {
          "text": "Voltage [V]"
         }
        },
        "yaxis": {
         "anchor": "x",
         "domain": [
          0,
          1
         ],
         "title": {
          "text": "Current [A]"
         }
        },
        "yaxis2": {
         "anchor": "x",
         "overlaying": "y",
         "side": "right",
         "title": {
          "text": "Power [W]"
         }
        }
       }
      }
     },
     "metadata": {},
     "output_type": "display_data"
    }
   ],
   "source": [
    "# Add marker size column which is bigger for Voc and Isc (last two rows of each dataframe)\n",
    "default_marker_size = 12\n",
    "special_point_marker_size_delta = 2\n",
    "df_intesity_one['marker_size'] = default_marker_size\n",
    "df_intesity_three['marker_size'] = default_marker_size\n",
    "# Set the markersize of last two rows to be bigger for intensity_one and intensity_three\n",
    "df_intesity_one.loc[df_intesity_one.index[-2:], 'marker_size'] = default_marker_size + special_point_marker_size_delta\n",
    "df_intesity_three.loc[df_intesity_three.index[-2:], 'marker_size'] = default_marker_size + special_point_marker_size_delta\n",
    "\n",
    "# Create a figure with subplots with power on the right y-axis and current on the left y-axis, voltage as the x-axis\n",
    "# The power and current of intensity one and three are plotted on the same graph\n",
    "# The power and voltage datapoints of intensity_one will be red\n",
    "# The power and voltage datapoints of intensity_three will be blue\n",
    "fig = sp.make_subplots(specs=[[{\"secondary_y\": True}]])\n",
    "# Size 800x800, axes font 18, title font 20\n",
    "fig.update_layout(width=800, height=800, font=dict(size=18), title_font_size=20)\n",
    "\n",
    "# Label the axes\n",
    "fig.update_xaxes(title_text='Voltage [V]')\n",
    "fig.update_yaxes(title_text='Current [A]', secondary_y=False)\n",
    "fig.update_yaxes(title_text='Power [W]', secondary_y=True)\n",
    "\n",
    "# Add the title\n",
    "fig.update_layout(title='Intensity effect on I-V, P-V curves')\n",
    "\n",
    "# Plot intensity_one current against voltage\n",
    "fig.add_trace(go.Scatter(x=df_intesity_one['voltage'], y=df_intesity_one['current'], mode='markers', marker=dict(size=df_intesity_one['marker_size'], symbol='circle', line=dict(width=2, color='Black')), name='Current, Intensity One'), secondary_y=False)\n",
    "# Plot intensity_one power against voltage on the right y-axis\n",
    "fig.add_trace(go.Scatter(x=df_intesity_one['voltage'], y=df_intesity_one['power'], mode='markers', marker=dict(size=df_intesity_one['marker_size'], symbol='circle-dot', line=dict(width=2, color='Black')), name='Power, Intensity One'), secondary_y=True)\n",
    "\n",
    "# Plot intensity_three current against voltage\n",
    "fig.add_trace(go.Scatter(x=df_intesity_three['voltage'], y=df_intesity_three['current'], mode='markers', marker=dict(size=df_intesity_three['marker_size'], symbol='cross', line=dict(width=2, color='Black')), name='Current, Intensity Three'), secondary_y=False)\n",
    "# Plot intensity_three power against voltage on the right y-axis\n",
    "fig.add_trace(go.Scatter(x=df_intesity_three['voltage'], y=df_intesity_three['power'], mode='markers', marker=dict(size=df_intesity_three['marker_size'], symbol='cross-dot', line=dict(width=2, color='Black')), name='Power, Intensity Three'), secondary_y=True)\n",
    "\n",
    "# Move the title higher\n",
    "fig.update_layout(title_y=0.99)\n",
    "# Move the legend below the title\n",
    "fig.update_layout(legend=dict(orientation='h', yanchor='bottom', y=1.02, xanchor='left', x=0))\n",
    "fig.update_traces(opacity=1)\n",
    "\n",
    "# Annotate the last two datapoints in df intensity_one\n",
    "# Voc is at [-2] (second to last)\n",
    "# Annotate Voc with 'Voc, intensity one ='\n",
    "fig.add_annotation(\n",
    "    x=df_intesity_one['voltage'].iloc[-2], y=df_intesity_one['current'].iloc[-2],\n",
    "    ax=-125, ay=-35,\n",
    "    text=f'Voc, intensity 1: {df_intesity_one[\"voltage\"].iloc[-2]} V',\n",
    "    yref='y',\n",
    "    showarrow=True,\n",
    "    arrowhead=5,\n",
    "    arrowsize=1,\n",
    "    arrowwidth=1,\n",
    "    arrowcolor='black',\n",
    "    bgcolor='white',\n",
    "    opacity=0.8,\n",
    "    font=dict(size=18),\n",
    ")\n",
    "# Isc is at [-1] (last)\n",
    "# Annotate Isc with 'Isc, intensity one ='\n",
    "fig.add_annotation(\n",
    "    x=df_intesity_one['voltage'].iloc[-1], y=df_intesity_one['current'].iloc[-1],\n",
    "    ax=0, ay=-35,\n",
    "    text=f'Isc, intensity 1: {df_intesity_one[\"current\"].iloc[-1]} A',\n",
    "    yref='y',\n",
    "    showarrow=True,\n",
    "    arrowhead=5,\n",
    "    arrowsize=1,\n",
    "    arrowwidth=1,\n",
    "    arrowcolor='black',\n",
    "    bgcolor='white',\n",
    "    opacity=0.8,\n",
    "    font=dict(size=18),\n",
    ")\n",
    "# Annotate the last two datapoints in df intensity_three\n",
    "# Voc is at [-2] (second to last)\n",
    "# Annotate Voc with 'Voc, intensity three ='\n",
    "fig.add_annotation(\n",
    "    x=df_intesity_three['voltage'].iloc[-2], y=df_intesity_three['current'].iloc[-2],\n",
    "    ax=25, ay=-75,\n",
    "    text=f'Voc, intensity 3: {df_intesity_three[\"voltage\"].iloc[-2]} V',\n",
    "    yref='y',\n",
    "    showarrow=True,\n",
    "    arrowhead=5,\n",
    "    arrowsize=1,\n",
    "    arrowwidth=1,\n",
    "    arrowcolor='black',\n",
    "    bgcolor='white',\n",
    "    opacity=0.8,\n",
    "    font=dict(size=18),\n",
    ")\n",
    "# Isc is at [-1] (last)\n",
    "# Annotate Isc with 'Isc, intensity three ='\n",
    "fig.add_annotation(\n",
    "    x=df_intesity_three['voltage'].iloc[-1], y=df_intesity_three['current'].iloc[-1],\n",
    "    ax=0, ay=55,\n",
    "    text=f'Isc, intensity 3: {df_intesity_three[\"current\"].iloc[-1]} A',\n",
    "    yref='y',\n",
    "    showarrow=True,\n",
    "    arrowhead=5,\n",
    "    arrowsize=1,\n",
    "    arrowwidth=1,\n",
    "    arrowcolor='black',\n",
    "    bgcolor='white',\n",
    "    opacity=0.8,\n",
    "    font=dict(size=18),\n",
    ")\n",
    "# Annotate MPP of intensity one\n",
    "i1p = intensity_one_mpp_point['power'].values[0]\n",
    "i1v = intensity_one_mpp_point['voltage'].values[0]\n",
    "fig.add_annotation(\n",
    "    x=intensity_one_mpp_point['voltage'].values[0], y=intensity_one_mpp_point['power'].values[0],\n",
    "    ax=-85, ay=-40,\n",
    "    text=f'MPP ({\"%.2f\" % i1v} V, {\"%.2f\" % i1p} W) ',\n",
    "    yref='y2',\n",
    "    showarrow=True,\n",
    "    arrowhead=5,\n",
    "    arrowsize=1,\n",
    "    arrowwidth=1,\n",
    "    arrowcolor='red',\n",
    "    bgcolor=\"rgba(255, 255, 255, 15)\",\n",
    "    opacity=0.8,\n",
    "    font=dict(size=18),\n",
    ")\n",
    "# Annotate MPP of intensity three\n",
    "i3p = intensity_three_mpp_point['power'].values[0]\n",
    "i3v = intensity_three_mpp_point['voltage'].values[0]\n",
    "\n",
    "fig.add_annotation(\n",
    "    x=intensity_three_mpp_point['voltage'].values[0], y=intensity_three_mpp_point['power'].values[0],\n",
    "    ax=0, ay=-25,\n",
    "    text=f'MPP ({\"%.2f\" % i3v} V, {\"%.2f\" % i3p} W) ',\n",
    "    yref='y2',\n",
    "    showarrow=True,\n",
    "    arrowhead=5,\n",
    "    arrowsize=1,\n",
    "    arrowwidth=1,\n",
    "    arrowcolor='purple',\n",
    "    bgcolor='white',\n",
    "    opacity=0.8,\n",
    "    font=dict(size=18),\n",
    ")\n",
    "\n",
    "# fig.update_yaxes(rangemode='tozero')\n",
    "fig.show()\n",
    "fig.write_image('./plots/t4/intensity.png')"
   ]
  }
 ],
 "metadata": {
  "kernelspec": {
   "display_name": "base",
   "language": "python",
   "name": "python3"
  },
  "language_info": {
   "codemirror_mode": {
    "name": "ipython",
    "version": 3
   },
   "file_extension": ".py",
   "mimetype": "text/x-python",
   "name": "python",
   "nbconvert_exporter": "python",
   "pygments_lexer": "ipython3",
   "version": "3.9.5"
  },
  "orig_nbformat": 4
 },
 "nbformat": 4,
 "nbformat_minor": 2
}
