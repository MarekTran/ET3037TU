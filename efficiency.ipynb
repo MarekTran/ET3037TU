{
 "cells": [
  {
   "cell_type": "code",
   "execution_count": 11,
   "metadata": {},
   "outputs": [],
   "source": [
    "import csv\n",
    "import plotly.graph_objects as go\n",
    "import plotly.subplots as sp\n",
    "import pandas as pd"
   ]
  },
  {
   "cell_type": "code",
   "execution_count": 12,
   "metadata": {},
   "outputs": [],
   "source": [
    "# Read the data into a pandas dataframe\n",
    "df = pd.read_csv('./data/CSV1-1.csv')"
   ]
  },
  {
   "cell_type": "code",
   "execution_count": 13,
   "metadata": {},
   "outputs": [
    {
     "data": {
      "text/html": [
       "<div>\n",
       "<style scoped>\n",
       "    .dataframe tbody tr th:only-of-type {\n",
       "        vertical-align: middle;\n",
       "    }\n",
       "\n",
       "    .dataframe tbody tr th {\n",
       "        vertical-align: top;\n",
       "    }\n",
       "\n",
       "    .dataframe thead th {\n",
       "        text-align: right;\n",
       "    }\n",
       "</style>\n",
       "<table border=\"1\" class=\"dataframe\">\n",
       "  <thead>\n",
       "    <tr style=\"text-align: right;\">\n",
       "      <th></th>\n",
       "      <th>voltage</th>\n",
       "      <th>current</th>\n",
       "      <th>Power</th>\n",
       "      <th>orientation</th>\n",
       "      <th>lamp_height</th>\n",
       "      <th>lamp_tilt</th>\n",
       "      <th>module_tilt</th>\n",
       "      <th>intensity_level</th>\n",
       "      <th>voc_or_isc</th>\n",
       "      <th>efficiency</th>\n",
       "    </tr>\n",
       "  </thead>\n",
       "  <tbody>\n",
       "    <tr>\n",
       "      <th>0</th>\n",
       "      <td>0.20</td>\n",
       "      <td>57.40</td>\n",
       "      <td>11.4800</td>\n",
       "      <td>S</td>\n",
       "      <td>red</td>\n",
       "      <td>30</td>\n",
       "      <td>30</td>\n",
       "      <td>3</td>\n",
       "      <td>1</td>\n",
       "      <td>0.175318</td>\n",
       "    </tr>\n",
       "    <tr>\n",
       "      <th>1</th>\n",
       "      <td>0.77</td>\n",
       "      <td>56.80</td>\n",
       "      <td>43.7360</td>\n",
       "      <td>S</td>\n",
       "      <td>red</td>\n",
       "      <td>30</td>\n",
       "      <td>30</td>\n",
       "      <td>3</td>\n",
       "      <td>0</td>\n",
       "      <td>0.667919</td>\n",
       "    </tr>\n",
       "    <tr>\n",
       "      <th>2</th>\n",
       "      <td>0.80</td>\n",
       "      <td>56.60</td>\n",
       "      <td>45.2800</td>\n",
       "      <td>S</td>\n",
       "      <td>red</td>\n",
       "      <td>30</td>\n",
       "      <td>30</td>\n",
       "      <td>3</td>\n",
       "      <td>0</td>\n",
       "      <td>0.691498</td>\n",
       "    </tr>\n",
       "    <tr>\n",
       "      <th>3</th>\n",
       "      <td>1.75</td>\n",
       "      <td>56.50</td>\n",
       "      <td>98.8750</td>\n",
       "      <td>S</td>\n",
       "      <td>red</td>\n",
       "      <td>30</td>\n",
       "      <td>30</td>\n",
       "      <td>3</td>\n",
       "      <td>0</td>\n",
       "      <td>1.509980</td>\n",
       "    </tr>\n",
       "    <tr>\n",
       "      <th>4</th>\n",
       "      <td>2.23</td>\n",
       "      <td>56.40</td>\n",
       "      <td>125.7720</td>\n",
       "      <td>S</td>\n",
       "      <td>red</td>\n",
       "      <td>30</td>\n",
       "      <td>30</td>\n",
       "      <td>3</td>\n",
       "      <td>0</td>\n",
       "      <td>1.920740</td>\n",
       "    </tr>\n",
       "    <tr>\n",
       "      <th>...</th>\n",
       "      <td>...</td>\n",
       "      <td>...</td>\n",
       "      <td>...</td>\n",
       "      <td>...</td>\n",
       "      <td>...</td>\n",
       "      <td>...</td>\n",
       "      <td>...</td>\n",
       "      <td>...</td>\n",
       "      <td>...</td>\n",
       "      <td>...</td>\n",
       "    </tr>\n",
       "    <tr>\n",
       "      <th>110</th>\n",
       "      <td>18.31</td>\n",
       "      <td>22.10</td>\n",
       "      <td>404.6510</td>\n",
       "      <td>S</td>\n",
       "      <td>red</td>\n",
       "      <td>30</td>\n",
       "      <td>30</td>\n",
       "      <td>10</td>\n",
       "      <td>0</td>\n",
       "      <td>0.573827</td>\n",
       "    </tr>\n",
       "    <tr>\n",
       "      <th>111</th>\n",
       "      <td>18.34</td>\n",
       "      <td>19.93</td>\n",
       "      <td>365.5162</td>\n",
       "      <td>S</td>\n",
       "      <td>red</td>\n",
       "      <td>30</td>\n",
       "      <td>30</td>\n",
       "      <td>10</td>\n",
       "      <td>0</td>\n",
       "      <td>0.518330</td>\n",
       "    </tr>\n",
       "    <tr>\n",
       "      <th>112</th>\n",
       "      <td>18.37</td>\n",
       "      <td>17.55</td>\n",
       "      <td>322.3935</td>\n",
       "      <td>S</td>\n",
       "      <td>red</td>\n",
       "      <td>30</td>\n",
       "      <td>30</td>\n",
       "      <td>10</td>\n",
       "      <td>0</td>\n",
       "      <td>0.457179</td>\n",
       "    </tr>\n",
       "    <tr>\n",
       "      <th>113</th>\n",
       "      <td>18.41</td>\n",
       "      <td>16.06</td>\n",
       "      <td>295.6646</td>\n",
       "      <td>S</td>\n",
       "      <td>red</td>\n",
       "      <td>30</td>\n",
       "      <td>30</td>\n",
       "      <td>10</td>\n",
       "      <td>0</td>\n",
       "      <td>0.419275</td>\n",
       "    </tr>\n",
       "    <tr>\n",
       "      <th>114</th>\n",
       "      <td>18.76</td>\n",
       "      <td>0.00</td>\n",
       "      <td>0.0000</td>\n",
       "      <td>S</td>\n",
       "      <td>red</td>\n",
       "      <td>30</td>\n",
       "      <td>30</td>\n",
       "      <td>10</td>\n",
       "      <td>2</td>\n",
       "      <td>0.000000</td>\n",
       "    </tr>\n",
       "  </tbody>\n",
       "</table>\n",
       "<p>115 rows × 10 columns</p>\n",
       "</div>"
      ],
      "text/plain": [
       "     voltage  current     Power orientation lamp_height  lamp_tilt  \\\n",
       "0       0.20    57.40   11.4800           S         red         30   \n",
       "1       0.77    56.80   43.7360           S         red         30   \n",
       "2       0.80    56.60   45.2800           S         red         30   \n",
       "3       1.75    56.50   98.8750           S         red         30   \n",
       "4       2.23    56.40  125.7720           S         red         30   \n",
       "..       ...      ...       ...         ...         ...        ...   \n",
       "110    18.31    22.10  404.6510           S         red         30   \n",
       "111    18.34    19.93  365.5162           S         red         30   \n",
       "112    18.37    17.55  322.3935           S         red         30   \n",
       "113    18.41    16.06  295.6646           S         red         30   \n",
       "114    18.76     0.00    0.0000           S         red         30   \n",
       "\n",
       "     module_tilt  intensity_level  voc_or_isc  efficiency  \n",
       "0             30                3           1    0.175318  \n",
       "1             30                3           0    0.667919  \n",
       "2             30                3           0    0.691498  \n",
       "3             30                3           0    1.509980  \n",
       "4             30                3           0    1.920740  \n",
       "..           ...              ...         ...         ...  \n",
       "110           30               10           0    0.573827  \n",
       "111           30               10           0    0.518330  \n",
       "112           30               10           0    0.457179  \n",
       "113           30               10           0    0.419275  \n",
       "114           30               10           2    0.000000  \n",
       "\n",
       "[115 rows x 10 columns]"
      ]
     },
     "execution_count": 13,
     "metadata": {},
     "output_type": "execute_result"
    }
   ],
   "source": [
    "df.columns\n",
    "# Rename the columns\n",
    "df.columns = ['voltage', 'current', 'Power', 'orientation', 'lamp_height', 'lamp_tilt', 'module_tilt', 'intensity_level', 'voc_or_isc', 'efficiency']\n",
    "df"
   ]
  },
  {
   "cell_type": "code",
   "execution_count": 37,
   "metadata": {},
   "outputs": [
    {
     "data": {
      "application/vnd.plotly.v1+json": {
       "config": {
        "plotlyServerURL": "https://plot.ly"
       },
       "data": [
        {
         "marker": {
          "line": {
           "color": "DarkSlateGrey",
           "width": 1
          },
          "opacity": 0.95,
          "size": 12
         },
         "mode": "markers",
         "name": "Intensity 3",
         "type": "scatter",
         "x": [
          0.2,
          0.77,
          0.8,
          1.75,
          2.23,
          2.78,
          3.36,
          4.14,
          4.63,
          5.3,
          6.21,
          5.96,
          9.13,
          10.63,
          13.24,
          15.04,
          16.19,
          16.64,
          16.86,
          17.01,
          17.13,
          17.24,
          17.31,
          17.33,
          17.42,
          17.53,
          17.58,
          17.64,
          17.68,
          17.19,
          17.27,
          18.17,
          18.66
         ],
         "y": [
          0.1753180312,
          0.6679189383,
          0.6914982972,
          1.509979994,
          1.920740367,
          2.385974558,
          2.832455216,
          3.477344573,
          3.860631328,
          4.403109299,
          5.102212856,
          4.796689116,
          6.999373864,
          8.035689742,
          9.56387349,
          10.33582261,
          10.34729922,
          9.707365495,
          9.04267192,
          8.447720713,
          7.895166537,
          7.371909409,
          7.089906996,
          6.97900307,
          6.49382569,
          6.07704525,
          5.831273194,
          5.290841618,
          5.040937066,
          4.389315985,
          4.222487439,
          4.345416228,
          0
         ]
        },
        {
         "marker": {
          "line": {
           "color": "DarkSlateGrey",
           "width": 1
          },
          "opacity": 0.95,
          "size": 13,
          "symbol": "star-triangle-down"
         },
         "mode": "markers",
         "name": "Intensity 5",
         "type": "scatter",
         "x": [
          0.387,
          0.86,
          1.91,
          2.8,
          3.21,
          3.98,
          4.81,
          5.92,
          6.51,
          7.53,
          8.37,
          9.64,
          10.55,
          10.79,
          10.6,
          14.83,
          15.7,
          15.91,
          16.13,
          16.32,
          17.07,
          17.14,
          17.18,
          17.24,
          17.26,
          17.26,
          18.3
         ],
         "y": [
          0.2924893718,
          0.6411451808,
          1.410863062,
          2.04527873,
          2.335975848,
          2.849999658,
          3.418003327,
          4.174351181,
          4.559179314,
          5.24774599,
          5.730011706,
          6.540045046,
          7.10685753,
          7.224209813,
          7.126026028,
          9.208279422,
          6.180129114,
          4.503765241,
          3.734547795,
          3.128298864,
          3.031332279,
          2.643638455,
          2.393412883,
          2.156283502,
          1.975636839,
          1.775946273,
          0
         ]
        },
        {
         "marker": {
          "line": {
           "color": "DarkSlateGrey",
           "width": 1
          },
          "opacity": 0.95,
          "size": 12,
          "symbol": "cross"
         },
         "mode": "markers",
         "name": "Intensity 8",
         "type": "scatter",
         "x": [
          0.9,
          1.164,
          1.16,
          2.3,
          5.03,
          8.24,
          11.28,
          14.06,
          16.05,
          16.55,
          16.79,
          16.98,
          17.18,
          17.05,
          17.4,
          17.6,
          17.78,
          17.91,
          18.01,
          18.07,
          18.13,
          18.18,
          18.23,
          18.26,
          18.29,
          18.33,
          18.35,
          19.36
         ],
         "y": [
          0.6070463188,
          0.8017043112,
          0.7912727865,
          1.554853062,
          3.346624721,
          5.375381154,
          7.252302195,
          8.928722327,
          9.804370733,
          8.728129788,
          8.38034188,
          7.714527878,
          6.92209445,
          6.882734432,
          4.893785984,
          3.83011866,
          2.968718661,
          2.361341458,
          1.957379494,
          1.728416385,
          1.498812378,
          1.286851148,
          1.128917549,
          1.025738255,
          0.9068513513,
          0.8267222553,
          0.7552305249,
          0
         ]
        },
        {
         "marker": {
          "line": {
           "color": "DarkSlateGrey",
           "width": 1
          },
          "opacity": 0.95,
          "size": 12,
          "symbol": "square"
         },
         "mode": "markers",
         "name": "Intensity 10",
         "type": "scatter",
         "x": [
          0.9,
          1.5,
          1.37,
          3.77,
          6.6,
          9.49,
          12.33,
          15.47,
          16.17,
          16.63,
          16.83,
          17.03,
          17.16,
          17.29,
          17.36,
          17.68,
          17.93,
          18.04,
          18.09,
          18.18,
          18.22,
          18.26,
          18.31,
          18.34,
          18.37,
          18.41,
          18.76
         ],
         "y": [
          0.4517995405,
          0.7487450013,
          0.6807453416,
          1.839611163,
          3.166255424,
          4.488095238,
          5.74029184,
          7.088058368,
          6.883680762,
          5.879150004,
          5.324559687,
          4.701978218,
          4.265787459,
          3.918066309,
          3.943776057,
          2.527218582,
          1.492513968,
          1.087240137,
          0.9653233217,
          0.870354803,
          0.7237048697,
          0.6325928132,
          0.5738265407,
          0.5183303554,
          0.4571790181,
          0.4192753623,
          0
         ]
        }
       ],
       "layout": {
        "font": {
         "size": 20
        },
        "height": 800,
        "legend": {
         "x": 0,
         "y": 1
        },
        "template": {
         "data": {
          "bar": [
           {
            "error_x": {
             "color": "#2a3f5f"
            },
            "error_y": {
             "color": "#2a3f5f"
            },
            "marker": {
             "line": {
              "color": "#E5ECF6",
              "width": 0.5
             },
             "pattern": {
              "fillmode": "overlay",
              "size": 10,
              "solidity": 0.2
             }
            },
            "type": "bar"
           }
          ],
          "barpolar": [
           {
            "marker": {
             "line": {
              "color": "#E5ECF6",
              "width": 0.5
             },
             "pattern": {
              "fillmode": "overlay",
              "size": 10,
              "solidity": 0.2
             }
            },
            "type": "barpolar"
           }
          ],
          "carpet": [
           {
            "aaxis": {
             "endlinecolor": "#2a3f5f",
             "gridcolor": "white",
             "linecolor": "white",
             "minorgridcolor": "white",
             "startlinecolor": "#2a3f5f"
            },
            "baxis": {
             "endlinecolor": "#2a3f5f",
             "gridcolor": "white",
             "linecolor": "white",
             "minorgridcolor": "white",
             "startlinecolor": "#2a3f5f"
            },
            "type": "carpet"
           }
          ],
          "choropleth": [
           {
            "colorbar": {
             "outlinewidth": 0,
             "ticks": ""
            },
            "type": "choropleth"
           }
          ],
          "contour": [
           {
            "colorbar": {
             "outlinewidth": 0,
             "ticks": ""
            },
            "colorscale": [
             [
              0,
              "#0d0887"
             ],
             [
              0.1111111111111111,
              "#46039f"
             ],
             [
              0.2222222222222222,
              "#7201a8"
             ],
             [
              0.3333333333333333,
              "#9c179e"
             ],
             [
              0.4444444444444444,
              "#bd3786"
             ],
             [
              0.5555555555555556,
              "#d8576b"
             ],
             [
              0.6666666666666666,
              "#ed7953"
             ],
             [
              0.7777777777777778,
              "#fb9f3a"
             ],
             [
              0.8888888888888888,
              "#fdca26"
             ],
             [
              1,
              "#f0f921"
             ]
            ],
            "type": "contour"
           }
          ],
          "contourcarpet": [
           {
            "colorbar": {
             "outlinewidth": 0,
             "ticks": ""
            },
            "type": "contourcarpet"
           }
          ],
          "heatmap": [
           {
            "colorbar": {
             "outlinewidth": 0,
             "ticks": ""
            },
            "colorscale": [
             [
              0,
              "#0d0887"
             ],
             [
              0.1111111111111111,
              "#46039f"
             ],
             [
              0.2222222222222222,
              "#7201a8"
             ],
             [
              0.3333333333333333,
              "#9c179e"
             ],
             [
              0.4444444444444444,
              "#bd3786"
             ],
             [
              0.5555555555555556,
              "#d8576b"
             ],
             [
              0.6666666666666666,
              "#ed7953"
             ],
             [
              0.7777777777777778,
              "#fb9f3a"
             ],
             [
              0.8888888888888888,
              "#fdca26"
             ],
             [
              1,
              "#f0f921"
             ]
            ],
            "type": "heatmap"
           }
          ],
          "heatmapgl": [
           {
            "colorbar": {
             "outlinewidth": 0,
             "ticks": ""
            },
            "colorscale": [
             [
              0,
              "#0d0887"
             ],
             [
              0.1111111111111111,
              "#46039f"
             ],
             [
              0.2222222222222222,
              "#7201a8"
             ],
             [
              0.3333333333333333,
              "#9c179e"
             ],
             [
              0.4444444444444444,
              "#bd3786"
             ],
             [
              0.5555555555555556,
              "#d8576b"
             ],
             [
              0.6666666666666666,
              "#ed7953"
             ],
             [
              0.7777777777777778,
              "#fb9f3a"
             ],
             [
              0.8888888888888888,
              "#fdca26"
             ],
             [
              1,
              "#f0f921"
             ]
            ],
            "type": "heatmapgl"
           }
          ],
          "histogram": [
           {
            "marker": {
             "pattern": {
              "fillmode": "overlay",
              "size": 10,
              "solidity": 0.2
             }
            },
            "type": "histogram"
           }
          ],
          "histogram2d": [
           {
            "colorbar": {
             "outlinewidth": 0,
             "ticks": ""
            },
            "colorscale": [
             [
              0,
              "#0d0887"
             ],
             [
              0.1111111111111111,
              "#46039f"
             ],
             [
              0.2222222222222222,
              "#7201a8"
             ],
             [
              0.3333333333333333,
              "#9c179e"
             ],
             [
              0.4444444444444444,
              "#bd3786"
             ],
             [
              0.5555555555555556,
              "#d8576b"
             ],
             [
              0.6666666666666666,
              "#ed7953"
             ],
             [
              0.7777777777777778,
              "#fb9f3a"
             ],
             [
              0.8888888888888888,
              "#fdca26"
             ],
             [
              1,
              "#f0f921"
             ]
            ],
            "type": "histogram2d"
           }
          ],
          "histogram2dcontour": [
           {
            "colorbar": {
             "outlinewidth": 0,
             "ticks": ""
            },
            "colorscale": [
             [
              0,
              "#0d0887"
             ],
             [
              0.1111111111111111,
              "#46039f"
             ],
             [
              0.2222222222222222,
              "#7201a8"
             ],
             [
              0.3333333333333333,
              "#9c179e"
             ],
             [
              0.4444444444444444,
              "#bd3786"
             ],
             [
              0.5555555555555556,
              "#d8576b"
             ],
             [
              0.6666666666666666,
              "#ed7953"
             ],
             [
              0.7777777777777778,
              "#fb9f3a"
             ],
             [
              0.8888888888888888,
              "#fdca26"
             ],
             [
              1,
              "#f0f921"
             ]
            ],
            "type": "histogram2dcontour"
           }
          ],
          "mesh3d": [
           {
            "colorbar": {
             "outlinewidth": 0,
             "ticks": ""
            },
            "type": "mesh3d"
           }
          ],
          "parcoords": [
           {
            "line": {
             "colorbar": {
              "outlinewidth": 0,
              "ticks": ""
             }
            },
            "type": "parcoords"
           }
          ],
          "pie": [
           {
            "automargin": true,
            "type": "pie"
           }
          ],
          "scatter": [
           {
            "fillpattern": {
             "fillmode": "overlay",
             "size": 10,
             "solidity": 0.2
            },
            "type": "scatter"
           }
          ],
          "scatter3d": [
           {
            "line": {
             "colorbar": {
              "outlinewidth": 0,
              "ticks": ""
             }
            },
            "marker": {
             "colorbar": {
              "outlinewidth": 0,
              "ticks": ""
             }
            },
            "type": "scatter3d"
           }
          ],
          "scattercarpet": [
           {
            "marker": {
             "colorbar": {
              "outlinewidth": 0,
              "ticks": ""
             }
            },
            "type": "scattercarpet"
           }
          ],
          "scattergeo": [
           {
            "marker": {
             "colorbar": {
              "outlinewidth": 0,
              "ticks": ""
             }
            },
            "type": "scattergeo"
           }
          ],
          "scattergl": [
           {
            "marker": {
             "colorbar": {
              "outlinewidth": 0,
              "ticks": ""
             }
            },
            "type": "scattergl"
           }
          ],
          "scattermapbox": [
           {
            "marker": {
             "colorbar": {
              "outlinewidth": 0,
              "ticks": ""
             }
            },
            "type": "scattermapbox"
           }
          ],
          "scatterpolar": [
           {
            "marker": {
             "colorbar": {
              "outlinewidth": 0,
              "ticks": ""
             }
            },
            "type": "scatterpolar"
           }
          ],
          "scatterpolargl": [
           {
            "marker": {
             "colorbar": {
              "outlinewidth": 0,
              "ticks": ""
             }
            },
            "type": "scatterpolargl"
           }
          ],
          "scatterternary": [
           {
            "marker": {
             "colorbar": {
              "outlinewidth": 0,
              "ticks": ""
             }
            },
            "type": "scatterternary"
           }
          ],
          "surface": [
           {
            "colorbar": {
             "outlinewidth": 0,
             "ticks": ""
            },
            "colorscale": [
             [
              0,
              "#0d0887"
             ],
             [
              0.1111111111111111,
              "#46039f"
             ],
             [
              0.2222222222222222,
              "#7201a8"
             ],
             [
              0.3333333333333333,
              "#9c179e"
             ],
             [
              0.4444444444444444,
              "#bd3786"
             ],
             [
              0.5555555555555556,
              "#d8576b"
             ],
             [
              0.6666666666666666,
              "#ed7953"
             ],
             [
              0.7777777777777778,
              "#fb9f3a"
             ],
             [
              0.8888888888888888,
              "#fdca26"
             ],
             [
              1,
              "#f0f921"
             ]
            ],
            "type": "surface"
           }
          ],
          "table": [
           {
            "cells": {
             "fill": {
              "color": "#EBF0F8"
             },
             "line": {
              "color": "white"
             }
            },
            "header": {
             "fill": {
              "color": "#C8D4E3"
             },
             "line": {
              "color": "white"
             }
            },
            "type": "table"
           }
          ]
         },
         "layout": {
          "annotationdefaults": {
           "arrowcolor": "#2a3f5f",
           "arrowhead": 0,
           "arrowwidth": 1
          },
          "autotypenumbers": "strict",
          "coloraxis": {
           "colorbar": {
            "outlinewidth": 0,
            "ticks": ""
           }
          },
          "colorscale": {
           "diverging": [
            [
             0,
             "#8e0152"
            ],
            [
             0.1,
             "#c51b7d"
            ],
            [
             0.2,
             "#de77ae"
            ],
            [
             0.3,
             "#f1b6da"
            ],
            [
             0.4,
             "#fde0ef"
            ],
            [
             0.5,
             "#f7f7f7"
            ],
            [
             0.6,
             "#e6f5d0"
            ],
            [
             0.7,
             "#b8e186"
            ],
            [
             0.8,
             "#7fbc41"
            ],
            [
             0.9,
             "#4d9221"
            ],
            [
             1,
             "#276419"
            ]
           ],
           "sequential": [
            [
             0,
             "#0d0887"
            ],
            [
             0.1111111111111111,
             "#46039f"
            ],
            [
             0.2222222222222222,
             "#7201a8"
            ],
            [
             0.3333333333333333,
             "#9c179e"
            ],
            [
             0.4444444444444444,
             "#bd3786"
            ],
            [
             0.5555555555555556,
             "#d8576b"
            ],
            [
             0.6666666666666666,
             "#ed7953"
            ],
            [
             0.7777777777777778,
             "#fb9f3a"
            ],
            [
             0.8888888888888888,
             "#fdca26"
            ],
            [
             1,
             "#f0f921"
            ]
           ],
           "sequentialminus": [
            [
             0,
             "#0d0887"
            ],
            [
             0.1111111111111111,
             "#46039f"
            ],
            [
             0.2222222222222222,
             "#7201a8"
            ],
            [
             0.3333333333333333,
             "#9c179e"
            ],
            [
             0.4444444444444444,
             "#bd3786"
            ],
            [
             0.5555555555555556,
             "#d8576b"
            ],
            [
             0.6666666666666666,
             "#ed7953"
            ],
            [
             0.7777777777777778,
             "#fb9f3a"
            ],
            [
             0.8888888888888888,
             "#fdca26"
            ],
            [
             1,
             "#f0f921"
            ]
           ]
          },
          "colorway": [
           "#636efa",
           "#EF553B",
           "#00cc96",
           "#ab63fa",
           "#FFA15A",
           "#19d3f3",
           "#FF6692",
           "#B6E880",
           "#FF97FF",
           "#FECB52"
          ],
          "font": {
           "color": "#2a3f5f"
          },
          "geo": {
           "bgcolor": "white",
           "lakecolor": "white",
           "landcolor": "#E5ECF6",
           "showlakes": true,
           "showland": true,
           "subunitcolor": "white"
          },
          "hoverlabel": {
           "align": "left"
          },
          "hovermode": "closest",
          "mapbox": {
           "style": "light"
          },
          "paper_bgcolor": "white",
          "plot_bgcolor": "#E5ECF6",
          "polar": {
           "angularaxis": {
            "gridcolor": "white",
            "linecolor": "white",
            "ticks": ""
           },
           "bgcolor": "#E5ECF6",
           "radialaxis": {
            "gridcolor": "white",
            "linecolor": "white",
            "ticks": ""
           }
          },
          "scene": {
           "xaxis": {
            "backgroundcolor": "#E5ECF6",
            "gridcolor": "white",
            "gridwidth": 2,
            "linecolor": "white",
            "showbackground": true,
            "ticks": "",
            "zerolinecolor": "white"
           },
           "yaxis": {
            "backgroundcolor": "#E5ECF6",
            "gridcolor": "white",
            "gridwidth": 2,
            "linecolor": "white",
            "showbackground": true,
            "ticks": "",
            "zerolinecolor": "white"
           },
           "zaxis": {
            "backgroundcolor": "#E5ECF6",
            "gridcolor": "white",
            "gridwidth": 2,
            "linecolor": "white",
            "showbackground": true,
            "ticks": "",
            "zerolinecolor": "white"
           }
          },
          "shapedefaults": {
           "line": {
            "color": "#2a3f5f"
           }
          },
          "ternary": {
           "aaxis": {
            "gridcolor": "white",
            "linecolor": "white",
            "ticks": ""
           },
           "baxis": {
            "gridcolor": "white",
            "linecolor": "white",
            "ticks": ""
           },
           "bgcolor": "#E5ECF6",
           "caxis": {
            "gridcolor": "white",
            "linecolor": "white",
            "ticks": ""
           }
          },
          "title": {
           "x": 0.05
          },
          "xaxis": {
           "automargin": true,
           "gridcolor": "white",
           "linecolor": "white",
           "ticks": "",
           "title": {
            "standoff": 15
           },
           "zerolinecolor": "white",
           "zerolinewidth": 2
          },
          "yaxis": {
           "automargin": true,
           "gridcolor": "white",
           "linecolor": "white",
           "ticks": "",
           "title": {
            "standoff": 15
           },
           "zerolinecolor": "white",
           "zerolinewidth": 2
          }
         }
        },
        "title": {
         "text": "Efficiency vs Voltage"
        },
        "width": 800,
        "xaxis": {
         "title": {
          "text": "Voltage (V)"
         }
        },
        "yaxis": {
         "title": {
          "text": "Efficiency (%)"
         }
        }
       }
      }
     },
     "metadata": {},
     "output_type": "display_data"
    }
   ],
   "source": [
    "# Plot the efficiency curve for each intensity level using circle markers for intensity level 3, x-marker for intensity 5, cross marker for 8, square marker for 10\n",
    "# The size of the plot is 800x800, the font should be size 18, all markers size 11\n",
    "# The title is \"Efficiency vs Voltage\", x-axis label is \"Voltage (V)\", y-axis label is \"Efficiency (%)\"\n",
    "df3 = df[df['intensity_level'] == 3]\n",
    "df5 = df[df['intensity_level'] == 5]\n",
    "df8 = df[df['intensity_level'] == 8]\n",
    "df10 = df[df['intensity_level'] == 10]\n",
    "\n",
    "fig = go.Figure()\n",
    "fig.add_trace(go.Scatter(x=df3['voltage'], y=df3['efficiency'], mode='markers', marker=dict(size=12, line=dict(width=1, color=\"DarkSlateGrey\"), opacity=0.95), name='Intensity 3'))\n",
    "fig.add_trace(go.Scatter(x=df5['voltage'], y=df5['efficiency'], mode='markers', marker=dict(size=13, symbol='star-triangle-down', line=dict(width=1, color=\"DarkSlateGrey\"), opacity=0.95), name='Intensity 5'))\n",
    "fig.add_trace(go.Scatter(x=df8['voltage'], y=df8['efficiency'], mode='markers', marker=dict(size=12, symbol='cross', line=dict(width=1, color=\"DarkSlateGrey\"), opacity=0.95), name='Intensity 8'))\n",
    "fig.add_trace(go.Scatter(x=df10['voltage'], y=df10['efficiency'], mode='markers', marker=dict(size=12, symbol='square', line=dict(width=1, color=\"DarkSlateGrey\"), opacity=0.95), name='Intensity 10'))\n",
    "# Update size\n",
    "fig.update_layout(width=800, height=800, font=dict(size=20))\n",
    "# Update titles, axis labels\n",
    "fig.update_layout(title='Efficiency vs Voltage', xaxis_title='Voltage (V)', yaxis_title='Efficiency (%)')\n",
    "# Place the legend over top left corner of the plot\n",
    "fig.update_layout(legend=dict(x=0, y=1))\n",
    "fig.show()\n",
    "fig.write_image(\"./plots/efficiency_intensity.png\")"
   ]
  }
 ],
 "metadata": {
  "kernelspec": {
   "display_name": ".venv",
   "language": "python",
   "name": "python3"
  },
  "language_info": {
   "codemirror_mode": {
    "name": "ipython",
    "version": 3
   },
   "file_extension": ".py",
   "mimetype": "text/x-python",
   "name": "python",
   "nbconvert_exporter": "python",
   "pygments_lexer": "ipython3",
   "version": "3.9.5"
  },
  "orig_nbformat": 4
 },
 "nbformat": 4,
 "nbformat_minor": 2
}
