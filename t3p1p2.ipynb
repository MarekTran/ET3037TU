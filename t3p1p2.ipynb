{
 "cells": [
  {
   "cell_type": "code",
   "execution_count": 24,
   "metadata": {},
   "outputs": [],
   "source": [
    "import pandas as pd\n",
    "import numpy as np\n",
    "import plotly.graph_objects as go\n",
    "import plotly.subplots as sp\n",
    "import sklearn as sk\n",
    "import scipy"
   ]
  },
  {
   "cell_type": "code",
   "execution_count": 25,
   "metadata": {},
   "outputs": [],
   "source": [
    "df = pd.read_csv(\"./data/t3p1.csv\")\n",
    "# Columns of df are: 'power_aimed', 'voltage_pv', 'current_pv', 'voltage_batt', 'current_batt', 'voltage_inv_dc', 'current_inv_dc', 'power_inv_ac', 'power_pv', 'power_batt', 'power_inv_dc', 'controller_type'\n",
    "# Recalculate powers\n",
    "df['power_batt'] = df['voltage_batt'] * df['current_batt']\n",
    "df['power_inv_dc'] = df['voltage_inv_dc'] * df['current_inv_dc']\n",
    "df['power_pv'] = df['voltage_pv'] * df['current_pv']\n",
    "\n",
    "\n",
    "# Calculate efficiencies\n",
    "# efficiency_controller = (power_batt + power_inv_dc) / power_pv\n",
    "# efficiency_inverter = power_inv_ac / power_inv_dc\n",
    "df['efficiency_controller'] = (df['power_batt'] + df['power_inv_dc']) / df['power_pv']\n",
    "df['efficiency_inverter'] = df['power_inv_ac'] / df['power_inv_dc']\n",
    "# Multiply efficiencies by 100 to make them percentages\n",
    "df['efficiency_controller'] *= 100\n",
    "df['efficiency_inverter'] *= 100\n",
    "\n",
    "\n",
    "# Set up the dataframes\n",
    "dfpwm = df.copy(deep=True)\n",
    "dfmppt = df.copy(deep=True)\n",
    "dfpwm = dfpwm[dfpwm['controller_type'] == 'PWM']\n",
    "dfmppt = dfmppt[dfmppt['controller_type'] == 'MPPT']"
   ]
  },
  {
   "cell_type": "code",
   "execution_count": 26,
   "metadata": {},
   "outputs": [
    {
     "data": {
      "text/html": [
       "<div>\n",
       "<style scoped>\n",
       "    .dataframe tbody tr th:only-of-type {\n",
       "        vertical-align: middle;\n",
       "    }\n",
       "\n",
       "    .dataframe tbody tr th {\n",
       "        vertical-align: top;\n",
       "    }\n",
       "\n",
       "    .dataframe thead th {\n",
       "        text-align: right;\n",
       "    }\n",
       "</style>\n",
       "<table border=\"1\" class=\"dataframe\">\n",
       "  <thead>\n",
       "    <tr style=\"text-align: right;\">\n",
       "      <th></th>\n",
       "      <th>power_aimed</th>\n",
       "      <th>voltage_pv</th>\n",
       "      <th>current_pv</th>\n",
       "      <th>voltage_batt</th>\n",
       "      <th>current_batt</th>\n",
       "      <th>voltage_inv_dc</th>\n",
       "      <th>current_inv_dc</th>\n",
       "      <th>power_inv_ac</th>\n",
       "      <th>power_pv</th>\n",
       "      <th>power_batt</th>\n",
       "      <th>power_inv_dc</th>\n",
       "      <th>controller_type</th>\n",
       "      <th>efficiency_controller</th>\n",
       "      <th>efficiency_inverter</th>\n",
       "    </tr>\n",
       "  </thead>\n",
       "  <tbody>\n",
       "    <tr>\n",
       "      <th>0</th>\n",
       "      <td>2.0</td>\n",
       "      <td>13.13</td>\n",
       "      <td>4.76</td>\n",
       "      <td>13.87</td>\n",
       "      <td>3.68</td>\n",
       "      <td>14.09</td>\n",
       "      <td>0.64</td>\n",
       "      <td>2.2</td>\n",
       "      <td>62.4988</td>\n",
       "      <td>51.0416</td>\n",
       "      <td>9.0176</td>\n",
       "      <td>PWM</td>\n",
       "      <td>96.096565</td>\n",
       "      <td>24.396735</td>\n",
       "    </tr>\n",
       "    <tr>\n",
       "      <th>1</th>\n",
       "      <td>5.0</td>\n",
       "      <td>13.33</td>\n",
       "      <td>4.76</td>\n",
       "      <td>13.85</td>\n",
       "      <td>3.48</td>\n",
       "      <td>13.97</td>\n",
       "      <td>1.01</td>\n",
       "      <td>6.6</td>\n",
       "      <td>63.4508</td>\n",
       "      <td>48.1980</td>\n",
       "      <td>14.1097</td>\n",
       "      <td>PWM</td>\n",
       "      <td>98.198447</td>\n",
       "      <td>46.776331</td>\n",
       "    </tr>\n",
       "    <tr>\n",
       "      <th>2</th>\n",
       "      <td>10.0</td>\n",
       "      <td>13.37</td>\n",
       "      <td>4.76</td>\n",
       "      <td>13.79</td>\n",
       "      <td>3.20</td>\n",
       "      <td>13.87</td>\n",
       "      <td>1.32</td>\n",
       "      <td>10.5</td>\n",
       "      <td>63.6412</td>\n",
       "      <td>44.1280</td>\n",
       "      <td>18.3084</td>\n",
       "      <td>PWM</td>\n",
       "      <td>98.106887</td>\n",
       "      <td>57.350724</td>\n",
       "    </tr>\n",
       "    <tr>\n",
       "      <th>3</th>\n",
       "      <td>15.0</td>\n",
       "      <td>13.72</td>\n",
       "      <td>4.76</td>\n",
       "      <td>13.69</td>\n",
       "      <td>2.85</td>\n",
       "      <td>13.75</td>\n",
       "      <td>1.66</td>\n",
       "      <td>15.1</td>\n",
       "      <td>65.3072</td>\n",
       "      <td>39.0165</td>\n",
       "      <td>22.8250</td>\n",
       "      <td>PWM</td>\n",
       "      <td>94.693234</td>\n",
       "      <td>66.155531</td>\n",
       "    </tr>\n",
       "    <tr>\n",
       "      <th>4</th>\n",
       "      <td>20.0</td>\n",
       "      <td>13.18</td>\n",
       "      <td>4.76</td>\n",
       "      <td>13.60</td>\n",
       "      <td>2.49</td>\n",
       "      <td>13.60</td>\n",
       "      <td>2.02</td>\n",
       "      <td>19.9</td>\n",
       "      <td>62.7368</td>\n",
       "      <td>33.8640</td>\n",
       "      <td>27.4720</td>\n",
       "      <td>PWM</td>\n",
       "      <td>97.767180</td>\n",
       "      <td>72.437391</td>\n",
       "    </tr>\n",
       "    <tr>\n",
       "      <th>5</th>\n",
       "      <td>25.0</td>\n",
       "      <td>13.18</td>\n",
       "      <td>4.76</td>\n",
       "      <td>13.51</td>\n",
       "      <td>2.20</td>\n",
       "      <td>13.48</td>\n",
       "      <td>2.53</td>\n",
       "      <td>25.4</td>\n",
       "      <td>62.7368</td>\n",
       "      <td>29.7220</td>\n",
       "      <td>34.1044</td>\n",
       "      <td>PWM</td>\n",
       "      <td>101.736780</td>\n",
       "      <td>74.477194</td>\n",
       "    </tr>\n",
       "    <tr>\n",
       "      <th>6</th>\n",
       "      <td>30.0</td>\n",
       "      <td>13.74</td>\n",
       "      <td>4.76</td>\n",
       "      <td>13.43</td>\n",
       "      <td>1.67</td>\n",
       "      <td>13.31</td>\n",
       "      <td>3.06</td>\n",
       "      <td>30.4</td>\n",
       "      <td>65.4024</td>\n",
       "      <td>22.4281</td>\n",
       "      <td>40.7286</td>\n",
       "      <td>PWM</td>\n",
       "      <td>96.566334</td>\n",
       "      <td>74.640425</td>\n",
       "    </tr>\n",
       "    <tr>\n",
       "      <th>7</th>\n",
       "      <td>35.0</td>\n",
       "      <td>13.62</td>\n",
       "      <td>4.76</td>\n",
       "      <td>13.34</td>\n",
       "      <td>1.20</td>\n",
       "      <td>13.16</td>\n",
       "      <td>3.52</td>\n",
       "      <td>34.6</td>\n",
       "      <td>64.8312</td>\n",
       "      <td>16.0080</td>\n",
       "      <td>46.3232</td>\n",
       "      <td>PWM</td>\n",
       "      <td>96.143832</td>\n",
       "      <td>74.692595</td>\n",
       "    </tr>\n",
       "    <tr>\n",
       "      <th>8</th>\n",
       "      <td>40.0</td>\n",
       "      <td>13.52</td>\n",
       "      <td>4.76</td>\n",
       "      <td>13.25</td>\n",
       "      <td>0.68</td>\n",
       "      <td>13.00</td>\n",
       "      <td>4.04</td>\n",
       "      <td>40.6</td>\n",
       "      <td>64.3552</td>\n",
       "      <td>9.0100</td>\n",
       "      <td>52.5200</td>\n",
       "      <td>PWM</td>\n",
       "      <td>95.609990</td>\n",
       "      <td>77.303884</td>\n",
       "    </tr>\n",
       "    <tr>\n",
       "      <th>9</th>\n",
       "      <td>45.0</td>\n",
       "      <td>13.40</td>\n",
       "      <td>4.76</td>\n",
       "      <td>13.16</td>\n",
       "      <td>0.22</td>\n",
       "      <td>12.85</td>\n",
       "      <td>4.51</td>\n",
       "      <td>45.7</td>\n",
       "      <td>63.7840</td>\n",
       "      <td>2.8952</td>\n",
       "      <td>57.9535</td>\n",
       "      <td>PWM</td>\n",
       "      <td>95.398062</td>\n",
       "      <td>78.856324</td>\n",
       "    </tr>\n",
       "  </tbody>\n",
       "</table>\n",
       "</div>"
      ],
      "text/plain": [
       "   power_aimed  voltage_pv  current_pv  voltage_batt  current_batt  \\\n",
       "0          2.0       13.13        4.76         13.87          3.68   \n",
       "1          5.0       13.33        4.76         13.85          3.48   \n",
       "2         10.0       13.37        4.76         13.79          3.20   \n",
       "3         15.0       13.72        4.76         13.69          2.85   \n",
       "4         20.0       13.18        4.76         13.60          2.49   \n",
       "5         25.0       13.18        4.76         13.51          2.20   \n",
       "6         30.0       13.74        4.76         13.43          1.67   \n",
       "7         35.0       13.62        4.76         13.34          1.20   \n",
       "8         40.0       13.52        4.76         13.25          0.68   \n",
       "9         45.0       13.40        4.76         13.16          0.22   \n",
       "\n",
       "   voltage_inv_dc  current_inv_dc  power_inv_ac  power_pv  power_batt  \\\n",
       "0           14.09            0.64           2.2   62.4988     51.0416   \n",
       "1           13.97            1.01           6.6   63.4508     48.1980   \n",
       "2           13.87            1.32          10.5   63.6412     44.1280   \n",
       "3           13.75            1.66          15.1   65.3072     39.0165   \n",
       "4           13.60            2.02          19.9   62.7368     33.8640   \n",
       "5           13.48            2.53          25.4   62.7368     29.7220   \n",
       "6           13.31            3.06          30.4   65.4024     22.4281   \n",
       "7           13.16            3.52          34.6   64.8312     16.0080   \n",
       "8           13.00            4.04          40.6   64.3552      9.0100   \n",
       "9           12.85            4.51          45.7   63.7840      2.8952   \n",
       "\n",
       "   power_inv_dc controller_type  efficiency_controller  efficiency_inverter  \n",
       "0        9.0176             PWM              96.096565            24.396735  \n",
       "1       14.1097             PWM              98.198447            46.776331  \n",
       "2       18.3084             PWM              98.106887            57.350724  \n",
       "3       22.8250             PWM              94.693234            66.155531  \n",
       "4       27.4720             PWM              97.767180            72.437391  \n",
       "5       34.1044             PWM             101.736780            74.477194  \n",
       "6       40.7286             PWM              96.566334            74.640425  \n",
       "7       46.3232             PWM              96.143832            74.692595  \n",
       "8       52.5200             PWM              95.609990            77.303884  \n",
       "9       57.9535             PWM              95.398062            78.856324  "
      ]
     },
     "execution_count": 26,
     "metadata": {},
     "output_type": "execute_result"
    }
   ],
   "source": [
    "dfpwm.head(10)"
   ]
  },
  {
   "cell_type": "code",
   "execution_count": 27,
   "metadata": {},
   "outputs": [
    {
     "data": {
      "application/vnd.plotly.v1+json": {
       "config": {
        "plotlyServerURL": "https://plot.ly"
       },
       "data": [
        {
         "marker": {
          "line": {
           "color": "black",
           "width": 2
          },
          "opacity": 0.85,
          "size": 14,
          "symbol": "circle"
         },
         "mode": "markers",
         "name": "PR1010 Controller",
         "type": "scatter",
         "x": [
          9.0176,
          14.1097,
          18.3084,
          22.825,
          27.471999999999998,
          34.1044,
          40.7286,
          46.3232,
          52.52,
          57.9535,
          64.66560000000001,
          67.78240000000001,
          77.049,
          83.1092,
          91.2209,
          98.8695,
          105.46589999999999
         ],
         "xaxis": "x",
         "y": [
          96.09656505404904,
          98.19844667049115,
          98.10688673375111,
          94.6932344366318,
          97.7671797095166,
          101.7367796891139,
          96.56633395716365,
          96.14383198213206,
          95.60998955795337,
          95.39806220995861,
          93.43633558799101,
          89.28383245808331,
          91.64165697895945,
          91.23154955823928,
          89.68887552515307,
          86.14160627096012,
          84.43236094015894
         ],
         "yaxis": "y"
        },
        {
         "marker": {
          "line": {
           "color": "DarkSlateGray",
           "width": 2
          },
          "opacity": 0.68,
          "size": 11.200000000000001,
          "symbol": "circle-dot"
         },
         "mode": "lines+markers",
         "name": "PR1010 Inverter",
         "type": "scatter",
         "x": [
          9.0176,
          14.1097,
          18.3084,
          22.825,
          27.471999999999998,
          34.1044,
          40.7286,
          46.3232,
          52.52,
          57.9535,
          64.66560000000001,
          67.78240000000001,
          77.049,
          83.1092,
          91.2209,
          98.8695,
          105.46589999999999
         ],
         "xaxis": "x",
         "y": [
          24.396735273243436,
          46.776331176424726,
          57.35072425771778,
          66.15553121577219,
          72.43739079790332,
          74.47719355860241,
          74.64042466473191,
          74.69259463940315,
          77.3038842345773,
          78.85632446702961,
          77.6301464766429,
          80.84694551978093,
          76.70443484016664,
          77.84938370240599,
          77.39454445198413,
          77.27357779699503,
          76.23317110080131
         ],
         "yaxis": "y2"
        },
        {
         "marker": {
          "line": {
           "color": "black",
           "width": 2
          },
          "opacity": 0.85,
          "size": 14,
          "symbol": "diamond"
         },
         "mode": "markers",
         "name": "MPPT2010 Controller",
         "type": "scatter",
         "x": [
          8.983,
          12.703600000000002,
          18.2352,
          23.024199999999997,
          27.661,
          33.962500000000006,
          40.71,
          46.5674,
          52.8942,
          58.5598,
          64.7702,
          68.4372,
          76.714,
          83.3166,
          89.29050000000001,
          94.50540000000001,
          102.8223
         ],
         "xaxis": "x",
         "y": [
          95.01645916628812,
          89.3843498273878,
          95.47832426494881,
          95.82607930204806,
          95.93800432386345,
          95.88644617221964,
          95.84495480594937,
          94.88679567167091,
          94.63638893228149,
          93.92434416295252,
          94.3430835214006,
          90.97928119013895,
          92.49534058430665,
          91.16414114964816,
          90.85577326647375,
          90.23625529823701,
          89.64517063489616
         ],
         "yaxis": "y"
        },
        {
         "marker": {
          "line": {
           "color": "DarkSlateGray",
           "width": 2
          },
          "opacity": 0.68,
          "size": 11.200000000000001,
          "symbol": "diamond-dot"
         },
         "mode": "lines+markers",
         "name": "MPPT2010 Inverter",
         "type": "scatter",
         "x": [
          8.983,
          12.703600000000002,
          18.2352,
          23.024199999999997,
          27.661,
          33.962500000000006,
          40.71,
          46.5674,
          52.8942,
          58.5598,
          64.7702,
          68.4372,
          76.714,
          83.3166,
          89.29050000000001,
          94.50540000000001,
          102.8223
         ],
         "xaxis": "x",
         "y": [
          24.490704664366024,
          44.08199250606127,
          57.58094235325086,
          63.845866523049665,
          71.94244604316546,
          74.49392712550606,
          75.4114468189634,
          74.73039078840561,
          78.26945109293646,
          77.52758718438245,
          77.19599445423975,
          80.07341036746097,
          78.21258179732513,
          78.37573784815991,
          78.61978597947149,
          78.40821794310166,
          78.58217526742739
         ],
         "yaxis": "y2"
        }
       ],
       "layout": {
        "annotations": [
         {
          "arrowhead": 1,
          "ax": -145,
          "ay": -35,
          "bgcolor": "white",
          "font": {
           "color": "green",
           "size": 21
          },
          "showarrow": true,
          "text": "PWM \nBattery Discharge",
          "x": 64.66560000000001,
          "y": 84
         },
         {
          "arrowhead": 1,
          "ax": -205,
          "ay": -65,
          "bgcolor": "white",
          "font": {
           "color": "orange",
           "size": 21
          },
          "showarrow": true,
          "text": "MPPT \nBattery Discharge",
          "x": 76.714,
          "y": 85
         }
        ],
        "font": {
         "size": 20
        },
        "height": 800,
        "legend": {
         "orientation": "h",
         "x": 0.95,
         "xanchor": "right",
         "y": 1,
         "yanchor": "bottom"
        },
        "shapes": [
         {
          "line": {
           "color": "green",
           "dash": "dash",
           "width": 3
          },
          "opacity": 0.66,
          "type": "line",
          "x0": 64.66560000000001,
          "x1": 64.66560000000001,
          "xref": "x",
          "y0": 0,
          "y1": 1,
          "yref": "y domain"
         },
         {
          "line": {
           "color": "orange",
           "dash": "longdashdot",
           "width": 3
          },
          "opacity": 0.66,
          "type": "line",
          "x0": 76.714,
          "x1": 76.714,
          "xref": "x",
          "y0": 0,
          "y1": 1,
          "yref": "y domain"
         }
        ],
        "template": {
         "data": {
          "bar": [
           {
            "error_x": {
             "color": "#2a3f5f"
            },
            "error_y": {
             "color": "#2a3f5f"
            },
            "marker": {
             "line": {
              "color": "#E5ECF6",
              "width": 0.5
             },
             "pattern": {
              "fillmode": "overlay",
              "size": 10,
              "solidity": 0.2
             }
            },
            "type": "bar"
           }
          ],
          "barpolar": [
           {
            "marker": {
             "line": {
              "color": "#E5ECF6",
              "width": 0.5
             },
             "pattern": {
              "fillmode": "overlay",
              "size": 10,
              "solidity": 0.2
             }
            },
            "type": "barpolar"
           }
          ],
          "carpet": [
           {
            "aaxis": {
             "endlinecolor": "#2a3f5f",
             "gridcolor": "white",
             "linecolor": "white",
             "minorgridcolor": "white",
             "startlinecolor": "#2a3f5f"
            },
            "baxis": {
             "endlinecolor": "#2a3f5f",
             "gridcolor": "white",
             "linecolor": "white",
             "minorgridcolor": "white",
             "startlinecolor": "#2a3f5f"
            },
            "type": "carpet"
           }
          ],
          "choropleth": [
           {
            "colorbar": {
             "outlinewidth": 0,
             "ticks": ""
            },
            "type": "choropleth"
           }
          ],
          "contour": [
           {
            "colorbar": {
             "outlinewidth": 0,
             "ticks": ""
            },
            "colorscale": [
             [
              0,
              "#0d0887"
             ],
             [
              0.1111111111111111,
              "#46039f"
             ],
             [
              0.2222222222222222,
              "#7201a8"
             ],
             [
              0.3333333333333333,
              "#9c179e"
             ],
             [
              0.4444444444444444,
              "#bd3786"
             ],
             [
              0.5555555555555556,
              "#d8576b"
             ],
             [
              0.6666666666666666,
              "#ed7953"
             ],
             [
              0.7777777777777778,
              "#fb9f3a"
             ],
             [
              0.8888888888888888,
              "#fdca26"
             ],
             [
              1,
              "#f0f921"
             ]
            ],
            "type": "contour"
           }
          ],
          "contourcarpet": [
           {
            "colorbar": {
             "outlinewidth": 0,
             "ticks": ""
            },
            "type": "contourcarpet"
           }
          ],
          "heatmap": [
           {
            "colorbar": {
             "outlinewidth": 0,
             "ticks": ""
            },
            "colorscale": [
             [
              0,
              "#0d0887"
             ],
             [
              0.1111111111111111,
              "#46039f"
             ],
             [
              0.2222222222222222,
              "#7201a8"
             ],
             [
              0.3333333333333333,
              "#9c179e"
             ],
             [
              0.4444444444444444,
              "#bd3786"
             ],
             [
              0.5555555555555556,
              "#d8576b"
             ],
             [
              0.6666666666666666,
              "#ed7953"
             ],
             [
              0.7777777777777778,
              "#fb9f3a"
             ],
             [
              0.8888888888888888,
              "#fdca26"
             ],
             [
              1,
              "#f0f921"
             ]
            ],
            "type": "heatmap"
           }
          ],
          "heatmapgl": [
           {
            "colorbar": {
             "outlinewidth": 0,
             "ticks": ""
            },
            "colorscale": [
             [
              0,
              "#0d0887"
             ],
             [
              0.1111111111111111,
              "#46039f"
             ],
             [
              0.2222222222222222,
              "#7201a8"
             ],
             [
              0.3333333333333333,
              "#9c179e"
             ],
             [
              0.4444444444444444,
              "#bd3786"
             ],
             [
              0.5555555555555556,
              "#d8576b"
             ],
             [
              0.6666666666666666,
              "#ed7953"
             ],
             [
              0.7777777777777778,
              "#fb9f3a"
             ],
             [
              0.8888888888888888,
              "#fdca26"
             ],
             [
              1,
              "#f0f921"
             ]
            ],
            "type": "heatmapgl"
           }
          ],
          "histogram": [
           {
            "marker": {
             "pattern": {
              "fillmode": "overlay",
              "size": 10,
              "solidity": 0.2
             }
            },
            "type": "histogram"
           }
          ],
          "histogram2d": [
           {
            "colorbar": {
             "outlinewidth": 0,
             "ticks": ""
            },
            "colorscale": [
             [
              0,
              "#0d0887"
             ],
             [
              0.1111111111111111,
              "#46039f"
             ],
             [
              0.2222222222222222,
              "#7201a8"
             ],
             [
              0.3333333333333333,
              "#9c179e"
             ],
             [
              0.4444444444444444,
              "#bd3786"
             ],
             [
              0.5555555555555556,
              "#d8576b"
             ],
             [
              0.6666666666666666,
              "#ed7953"
             ],
             [
              0.7777777777777778,
              "#fb9f3a"
             ],
             [
              0.8888888888888888,
              "#fdca26"
             ],
             [
              1,
              "#f0f921"
             ]
            ],
            "type": "histogram2d"
           }
          ],
          "histogram2dcontour": [
           {
            "colorbar": {
             "outlinewidth": 0,
             "ticks": ""
            },
            "colorscale": [
             [
              0,
              "#0d0887"
             ],
             [
              0.1111111111111111,
              "#46039f"
             ],
             [
              0.2222222222222222,
              "#7201a8"
             ],
             [
              0.3333333333333333,
              "#9c179e"
             ],
             [
              0.4444444444444444,
              "#bd3786"
             ],
             [
              0.5555555555555556,
              "#d8576b"
             ],
             [
              0.6666666666666666,
              "#ed7953"
             ],
             [
              0.7777777777777778,
              "#fb9f3a"
             ],
             [
              0.8888888888888888,
              "#fdca26"
             ],
             [
              1,
              "#f0f921"
             ]
            ],
            "type": "histogram2dcontour"
           }
          ],
          "mesh3d": [
           {
            "colorbar": {
             "outlinewidth": 0,
             "ticks": ""
            },
            "type": "mesh3d"
           }
          ],
          "parcoords": [
           {
            "line": {
             "colorbar": {
              "outlinewidth": 0,
              "ticks": ""
             }
            },
            "type": "parcoords"
           }
          ],
          "pie": [
           {
            "automargin": true,
            "type": "pie"
           }
          ],
          "scatter": [
           {
            "fillpattern": {
             "fillmode": "overlay",
             "size": 10,
             "solidity": 0.2
            },
            "type": "scatter"
           }
          ],
          "scatter3d": [
           {
            "line": {
             "colorbar": {
              "outlinewidth": 0,
              "ticks": ""
             }
            },
            "marker": {
             "colorbar": {
              "outlinewidth": 0,
              "ticks": ""
             }
            },
            "type": "scatter3d"
           }
          ],
          "scattercarpet": [
           {
            "marker": {
             "colorbar": {
              "outlinewidth": 0,
              "ticks": ""
             }
            },
            "type": "scattercarpet"
           }
          ],
          "scattergeo": [
           {
            "marker": {
             "colorbar": {
              "outlinewidth": 0,
              "ticks": ""
             }
            },
            "type": "scattergeo"
           }
          ],
          "scattergl": [
           {
            "marker": {
             "colorbar": {
              "outlinewidth": 0,
              "ticks": ""
             }
            },
            "type": "scattergl"
           }
          ],
          "scattermapbox": [
           {
            "marker": {
             "colorbar": {
              "outlinewidth": 0,
              "ticks": ""
             }
            },
            "type": "scattermapbox"
           }
          ],
          "scatterpolar": [
           {
            "marker": {
             "colorbar": {
              "outlinewidth": 0,
              "ticks": ""
             }
            },
            "type": "scatterpolar"
           }
          ],
          "scatterpolargl": [
           {
            "marker": {
             "colorbar": {
              "outlinewidth": 0,
              "ticks": ""
             }
            },
            "type": "scatterpolargl"
           }
          ],
          "scatterternary": [
           {
            "marker": {
             "colorbar": {
              "outlinewidth": 0,
              "ticks": ""
             }
            },
            "type": "scatterternary"
           }
          ],
          "surface": [
           {
            "colorbar": {
             "outlinewidth": 0,
             "ticks": ""
            },
            "colorscale": [
             [
              0,
              "#0d0887"
             ],
             [
              0.1111111111111111,
              "#46039f"
             ],
             [
              0.2222222222222222,
              "#7201a8"
             ],
             [
              0.3333333333333333,
              "#9c179e"
             ],
             [
              0.4444444444444444,
              "#bd3786"
             ],
             [
              0.5555555555555556,
              "#d8576b"
             ],
             [
              0.6666666666666666,
              "#ed7953"
             ],
             [
              0.7777777777777778,
              "#fb9f3a"
             ],
             [
              0.8888888888888888,
              "#fdca26"
             ],
             [
              1,
              "#f0f921"
             ]
            ],
            "type": "surface"
           }
          ],
          "table": [
           {
            "cells": {
             "fill": {
              "color": "#EBF0F8"
             },
             "line": {
              "color": "white"
             }
            },
            "header": {
             "fill": {
              "color": "#C8D4E3"
             },
             "line": {
              "color": "white"
             }
            },
            "type": "table"
           }
          ]
         },
         "layout": {
          "annotationdefaults": {
           "arrowcolor": "#2a3f5f",
           "arrowhead": 0,
           "arrowwidth": 1
          },
          "autotypenumbers": "strict",
          "coloraxis": {
           "colorbar": {
            "outlinewidth": 0,
            "ticks": ""
           }
          },
          "colorscale": {
           "diverging": [
            [
             0,
             "#8e0152"
            ],
            [
             0.1,
             "#c51b7d"
            ],
            [
             0.2,
             "#de77ae"
            ],
            [
             0.3,
             "#f1b6da"
            ],
            [
             0.4,
             "#fde0ef"
            ],
            [
             0.5,
             "#f7f7f7"
            ],
            [
             0.6,
             "#e6f5d0"
            ],
            [
             0.7,
             "#b8e186"
            ],
            [
             0.8,
             "#7fbc41"
            ],
            [
             0.9,
             "#4d9221"
            ],
            [
             1,
             "#276419"
            ]
           ],
           "sequential": [
            [
             0,
             "#0d0887"
            ],
            [
             0.1111111111111111,
             "#46039f"
            ],
            [
             0.2222222222222222,
             "#7201a8"
            ],
            [
             0.3333333333333333,
             "#9c179e"
            ],
            [
             0.4444444444444444,
             "#bd3786"
            ],
            [
             0.5555555555555556,
             "#d8576b"
            ],
            [
             0.6666666666666666,
             "#ed7953"
            ],
            [
             0.7777777777777778,
             "#fb9f3a"
            ],
            [
             0.8888888888888888,
             "#fdca26"
            ],
            [
             1,
             "#f0f921"
            ]
           ],
           "sequentialminus": [
            [
             0,
             "#0d0887"
            ],
            [
             0.1111111111111111,
             "#46039f"
            ],
            [
             0.2222222222222222,
             "#7201a8"
            ],
            [
             0.3333333333333333,
             "#9c179e"
            ],
            [
             0.4444444444444444,
             "#bd3786"
            ],
            [
             0.5555555555555556,
             "#d8576b"
            ],
            [
             0.6666666666666666,
             "#ed7953"
            ],
            [
             0.7777777777777778,
             "#fb9f3a"
            ],
            [
             0.8888888888888888,
             "#fdca26"
            ],
            [
             1,
             "#f0f921"
            ]
           ]
          },
          "colorway": [
           "#636efa",
           "#EF553B",
           "#00cc96",
           "#ab63fa",
           "#FFA15A",
           "#19d3f3",
           "#FF6692",
           "#B6E880",
           "#FF97FF",
           "#FECB52"
          ],
          "font": {
           "color": "#2a3f5f"
          },
          "geo": {
           "bgcolor": "white",
           "lakecolor": "white",
           "landcolor": "#E5ECF6",
           "showlakes": true,
           "showland": true,
           "subunitcolor": "white"
          },
          "hoverlabel": {
           "align": "left"
          },
          "hovermode": "closest",
          "mapbox": {
           "style": "light"
          },
          "paper_bgcolor": "white",
          "plot_bgcolor": "#E5ECF6",
          "polar": {
           "angularaxis": {
            "gridcolor": "white",
            "linecolor": "white",
            "ticks": ""
           },
           "bgcolor": "#E5ECF6",
           "radialaxis": {
            "gridcolor": "white",
            "linecolor": "white",
            "ticks": ""
           }
          },
          "scene": {
           "xaxis": {
            "backgroundcolor": "#E5ECF6",
            "gridcolor": "white",
            "gridwidth": 2,
            "linecolor": "white",
            "showbackground": true,
            "ticks": "",
            "zerolinecolor": "white"
           },
           "yaxis": {
            "backgroundcolor": "#E5ECF6",
            "gridcolor": "white",
            "gridwidth": 2,
            "linecolor": "white",
            "showbackground": true,
            "ticks": "",
            "zerolinecolor": "white"
           },
           "zaxis": {
            "backgroundcolor": "#E5ECF6",
            "gridcolor": "white",
            "gridwidth": 2,
            "linecolor": "white",
            "showbackground": true,
            "ticks": "",
            "zerolinecolor": "white"
           }
          },
          "shapedefaults": {
           "line": {
            "color": "#2a3f5f"
           }
          },
          "ternary": {
           "aaxis": {
            "gridcolor": "white",
            "linecolor": "white",
            "ticks": ""
           },
           "baxis": {
            "gridcolor": "white",
            "linecolor": "white",
            "ticks": ""
           },
           "bgcolor": "#E5ECF6",
           "caxis": {
            "gridcolor": "white",
            "linecolor": "white",
            "ticks": ""
           }
          },
          "title": {
           "x": 0.05
          },
          "xaxis": {
           "automargin": true,
           "gridcolor": "white",
           "linecolor": "white",
           "ticks": "",
           "title": {
            "standoff": 15
           },
           "zerolinecolor": "white",
           "zerolinewidth": 2
          },
          "yaxis": {
           "automargin": true,
           "gridcolor": "white",
           "linecolor": "white",
           "ticks": "",
           "title": {
            "standoff": 15
           },
           "zerolinecolor": "white",
           "zerolinewidth": 2
          }
         }
        },
        "title": {
         "font": {
          "size": 30
         },
         "text": "PWM Controller and Inverter Efficiencies",
         "y": 0.99
        },
        "width": 800,
        "xaxis": {
         "anchor": "y",
         "domain": [
          0,
          0.94
         ],
         "title": {
          "text": "Power Inverter DC [W]"
         }
        },
        "yaxis": {
         "anchor": "x",
         "domain": [
          0,
          1
         ],
         "title": {
          "text": "Controller Efficiency [%]"
         }
        },
        "yaxis2": {
         "anchor": "x",
         "overlaying": "y",
         "side": "right",
         "title": {
          "text": "Inverter Efficiency [%]"
         }
        }
       }
      }
     },
     "metadata": {},
     "output_type": "display_data"
    }
   ],
   "source": [
    "# Get index of the first point where power_batt < 0\n",
    "pwm_switch_index = dfpwm[dfpwm['power_batt'] < 0].index[0]\n",
    "marker_size = 14\n",
    "\n",
    "dfmppt = dfmppt.reset_index(drop=True)\n",
    "mppt_switch_index = dfmppt[dfmppt['power_batt'] < 0].index[0]\n",
    "\n",
    "marker_opacity = 0.85\n",
    "\n",
    "# For pwm controller, plot with subplots\n",
    "# x-axis: power_inv_dc\n",
    "# y-axis left (primary): efficiency_controller\n",
    "# y-axis right (secondary): efficiency_inverter\n",
    "# Create a vertical line through first point where power_batt < 0\n",
    "\n",
    "fig = sp.make_subplots(specs=[[{\"secondary_y\": True}]])\n",
    "# fig = go.Figure()\n",
    "fig.add_trace(go.Scatter(x=dfpwm['power_inv_dc'], y=dfpwm['efficiency_controller'], name='PR1010 Controller', mode='markers',marker=dict(size=marker_size, symbol='circle', line=dict(width=2, color='black'), opacity = marker_opacity)), secondary_y=False)\n",
    "fig.add_trace(go.Scatter(x=dfpwm['power_inv_dc'], y=dfpwm['efficiency_inverter'], name='PR1010 Inverter', mode='lines+markers', marker=dict(size=marker_size*0.8, symbol='circle-dot', line=dict(width=2, color='DarkSlateGray'), opacity = marker_opacity*0.8)), secondary_y=True)\n",
    "fig.add_vline(x=dfpwm['power_inv_dc'].iloc[pwm_switch_index], line_width=3, line_dash=\"dash\", line_color=\"green\", opacity=0.66)\n",
    "\n",
    "fig.add_trace(go.Scatter(x=dfmppt['power_inv_dc'], y=dfmppt['efficiency_controller'], name='MPPT2010 Controller', mode='markers', marker=dict(size=marker_size, symbol='diamond', line=dict(width=2, color='black'), opacity = marker_opacity)), secondary_y=False)\n",
    "fig.add_trace(go.Scatter(x=dfmppt['power_inv_dc'], y=dfmppt['efficiency_inverter'], name='MPPT2010 Inverter', mode='lines+markers', marker=dict(size=marker_size*0.8, symbol='diamond-dot', line=dict(width=2, color='DarkSlateGray'), opacity = marker_opacity*0.8)), secondary_y=True)\n",
    "fig.add_vline(x=dfmppt['power_inv_dc'].iloc[mppt_switch_index], line_width=3, line_dash=\"longdashdot\", line_color=\"orange\", opacity=0.66)\n",
    "\n",
    "\n",
    "fig.update_layout(title='PWM Controller and Inverter Efficiencies', xaxis_title='Power Inverter DC [W]', yaxis_title='Efficiency [%]')\n",
    "fig.update_yaxes(title_text=\"Controller Efficiency [%]\", secondary_y=False)\n",
    "fig.update_yaxes(title_text=\"Inverter Efficiency [%]\", secondary_y=True)\n",
    "# Update font to 20\n",
    "fig.update_layout(font=dict(size=20))\n",
    "# Update font of title to 30\n",
    "fig.update_layout(title_font=dict(size=30))\n",
    "\n",
    "# Update size to 800x800\n",
    "fig.update_layout(width=800,height=800)\n",
    "# Move legend to top right\n",
    "fig.update_layout(legend=dict(\n",
    "    orientation=\"h\",\n",
    "    yanchor=\"bottom\",\n",
    "    y=1.0,\n",
    "    xanchor=\"right\",\n",
    "    x=0.95\n",
    "))\n",
    "# Update title\n",
    "fig.update_layout(title=dict(y=0.99))\n",
    "# Add outline to legend\n",
    "# fig.update_layout(legend=dict(\n",
    "#     bordercolor=\"Black\",\n",
    "#     borderwidth=1\n",
    "# ))\n",
    "# Show the plot\n",
    "\n",
    "# Annotate the vertical lines with texts MPPT or PWM and the power at which the switch occurs\n",
    "fig.add_annotation(x=dfpwm['power_inv_dc'].iloc[pwm_switch_index], y=0.84*100, text=\"PWM \\nBattery Discharge\", showarrow=True, arrowhead=1, ax=-145, ay=-35, font=dict(size=21, color='green'), bgcolor='white')\n",
    "fig.add_annotation(x=dfmppt['power_inv_dc'].iloc[mppt_switch_index], y=0.85*100, text=\"MPPT \\nBattery Discharge\", showarrow=True, arrowhead=1, ax=-205, ay=-65, font=dict(size=21, color='orange'), bgcolor='white')\n",
    "\n",
    "fig.show()\n"
   ]
  },
  {
   "cell_type": "markdown",
   "metadata": {},
   "source": [
    "# Plot the controller efficiencies"
   ]
  },
  {
   "cell_type": "code",
   "execution_count": 28,
   "metadata": {},
   "outputs": [
    {
     "data": {
      "application/vnd.plotly.v1+json": {
       "config": {
        "plotlyServerURL": "https://plot.ly"
       },
       "data": [
        {
         "marker": {
          "line": {
           "color": "black",
           "width": 2
          },
          "opacity": 0.85,
          "size": 14,
          "symbol": "circle"
         },
         "mode": "markers",
         "name": "PR1010 Controller",
         "type": "scatter",
         "x": [
          9.0176,
          14.1097,
          18.3084,
          22.825,
          27.471999999999998,
          34.1044,
          40.7286,
          46.3232,
          52.52,
          57.9535,
          64.66560000000001,
          67.78240000000001,
          77.049,
          83.1092,
          91.2209,
          98.8695,
          105.46589999999999
         ],
         "y": [
          96.09656505404904,
          98.19844667049115,
          98.10688673375111,
          94.6932344366318,
          97.7671797095166,
          101.7367796891139,
          96.56633395716365,
          96.14383198213206,
          95.60998955795337,
          95.39806220995861,
          93.43633558799101,
          89.28383245808331,
          91.64165697895945,
          91.23154955823928,
          89.68887552515307,
          86.14160627096012,
          84.43236094015894
         ]
        },
        {
         "marker": {
          "line": {
           "color": "black",
           "width": 2
          },
          "opacity": 0.85,
          "size": 14,
          "symbol": "diamond"
         },
         "mode": "markers",
         "name": "MPPT2010 Controller",
         "type": "scatter",
         "x": [
          8.983,
          12.703600000000002,
          18.2352,
          23.024199999999997,
          27.661,
          33.962500000000006,
          40.71,
          46.5674,
          52.8942,
          58.5598,
          64.7702,
          68.4372,
          76.714,
          83.3166,
          89.29050000000001,
          94.50540000000001,
          102.8223
         ],
         "y": [
          95.01645916628812,
          89.3843498273878,
          95.47832426494881,
          95.82607930204806,
          95.93800432386345,
          95.88644617221964,
          95.84495480594937,
          94.88679567167091,
          94.63638893228149,
          93.92434416295252,
          94.3430835214006,
          90.97928119013895,
          92.49534058430665,
          91.16414114964816,
          90.85577326647375,
          90.23625529823701,
          89.64517063489616
         ]
        }
       ],
       "layout": {
        "annotations": [
         {
          "arrowhead": 1,
          "ax": -145,
          "ay": -35,
          "bgcolor": "white",
          "font": {
           "color": "green",
           "size": 21
          },
          "showarrow": true,
          "text": "PR1010 \nBattery Discharge",
          "x": 64.66560000000001,
          "y": 84
         },
         {
          "arrowhead": 1,
          "ax": -205,
          "ay": -65,
          "bgcolor": "white",
          "font": {
           "color": "orange",
           "size": 21
          },
          "showarrow": true,
          "text": "MPPT2010 \nBattery Discharge",
          "x": 76.714,
          "y": 85
         }
        ],
        "font": {
         "size": 20
        },
        "height": 800,
        "legend": {
         "orientation": "h",
         "x": 0.95,
         "xanchor": "right",
         "y": 1,
         "yanchor": "bottom"
        },
        "shapes": [
         {
          "line": {
           "color": "green",
           "dash": "dash",
           "width": 3
          },
          "opacity": 0.66,
          "type": "line",
          "x0": 64.66560000000001,
          "x1": 64.66560000000001,
          "xref": "x",
          "y0": 0,
          "y1": 1,
          "yref": "y domain"
         },
         {
          "line": {
           "color": "orange",
           "dash": "longdashdot",
           "width": 3
          },
          "opacity": 0.66,
          "type": "line",
          "x0": 76.714,
          "x1": 76.714,
          "xref": "x",
          "y0": 0,
          "y1": 1,
          "yref": "y domain"
         }
        ],
        "template": {
         "data": {
          "bar": [
           {
            "error_x": {
             "color": "#2a3f5f"
            },
            "error_y": {
             "color": "#2a3f5f"
            },
            "marker": {
             "line": {
              "color": "#E5ECF6",
              "width": 0.5
             },
             "pattern": {
              "fillmode": "overlay",
              "size": 10,
              "solidity": 0.2
             }
            },
            "type": "bar"
           }
          ],
          "barpolar": [
           {
            "marker": {
             "line": {
              "color": "#E5ECF6",
              "width": 0.5
             },
             "pattern": {
              "fillmode": "overlay",
              "size": 10,
              "solidity": 0.2
             }
            },
            "type": "barpolar"
           }
          ],
          "carpet": [
           {
            "aaxis": {
             "endlinecolor": "#2a3f5f",
             "gridcolor": "white",
             "linecolor": "white",
             "minorgridcolor": "white",
             "startlinecolor": "#2a3f5f"
            },
            "baxis": {
             "endlinecolor": "#2a3f5f",
             "gridcolor": "white",
             "linecolor": "white",
             "minorgridcolor": "white",
             "startlinecolor": "#2a3f5f"
            },
            "type": "carpet"
           }
          ],
          "choropleth": [
           {
            "colorbar": {
             "outlinewidth": 0,
             "ticks": ""
            },
            "type": "choropleth"
           }
          ],
          "contour": [
           {
            "colorbar": {
             "outlinewidth": 0,
             "ticks": ""
            },
            "colorscale": [
             [
              0,
              "#0d0887"
             ],
             [
              0.1111111111111111,
              "#46039f"
             ],
             [
              0.2222222222222222,
              "#7201a8"
             ],
             [
              0.3333333333333333,
              "#9c179e"
             ],
             [
              0.4444444444444444,
              "#bd3786"
             ],
             [
              0.5555555555555556,
              "#d8576b"
             ],
             [
              0.6666666666666666,
              "#ed7953"
             ],
             [
              0.7777777777777778,
              "#fb9f3a"
             ],
             [
              0.8888888888888888,
              "#fdca26"
             ],
             [
              1,
              "#f0f921"
             ]
            ],
            "type": "contour"
           }
          ],
          "contourcarpet": [
           {
            "colorbar": {
             "outlinewidth": 0,
             "ticks": ""
            },
            "type": "contourcarpet"
           }
          ],
          "heatmap": [
           {
            "colorbar": {
             "outlinewidth": 0,
             "ticks": ""
            },
            "colorscale": [
             [
              0,
              "#0d0887"
             ],
             [
              0.1111111111111111,
              "#46039f"
             ],
             [
              0.2222222222222222,
              "#7201a8"
             ],
             [
              0.3333333333333333,
              "#9c179e"
             ],
             [
              0.4444444444444444,
              "#bd3786"
             ],
             [
              0.5555555555555556,
              "#d8576b"
             ],
             [
              0.6666666666666666,
              "#ed7953"
             ],
             [
              0.7777777777777778,
              "#fb9f3a"
             ],
             [
              0.8888888888888888,
              "#fdca26"
             ],
             [
              1,
              "#f0f921"
             ]
            ],
            "type": "heatmap"
           }
          ],
          "heatmapgl": [
           {
            "colorbar": {
             "outlinewidth": 0,
             "ticks": ""
            },
            "colorscale": [
             [
              0,
              "#0d0887"
             ],
             [
              0.1111111111111111,
              "#46039f"
             ],
             [
              0.2222222222222222,
              "#7201a8"
             ],
             [
              0.3333333333333333,
              "#9c179e"
             ],
             [
              0.4444444444444444,
              "#bd3786"
             ],
             [
              0.5555555555555556,
              "#d8576b"
             ],
             [
              0.6666666666666666,
              "#ed7953"
             ],
             [
              0.7777777777777778,
              "#fb9f3a"
             ],
             [
              0.8888888888888888,
              "#fdca26"
             ],
             [
              1,
              "#f0f921"
             ]
            ],
            "type": "heatmapgl"
           }
          ],
          "histogram": [
           {
            "marker": {
             "pattern": {
              "fillmode": "overlay",
              "size": 10,
              "solidity": 0.2
             }
            },
            "type": "histogram"
           }
          ],
          "histogram2d": [
           {
            "colorbar": {
             "outlinewidth": 0,
             "ticks": ""
            },
            "colorscale": [
             [
              0,
              "#0d0887"
             ],
             [
              0.1111111111111111,
              "#46039f"
             ],
             [
              0.2222222222222222,
              "#7201a8"
             ],
             [
              0.3333333333333333,
              "#9c179e"
             ],
             [
              0.4444444444444444,
              "#bd3786"
             ],
             [
              0.5555555555555556,
              "#d8576b"
             ],
             [
              0.6666666666666666,
              "#ed7953"
             ],
             [
              0.7777777777777778,
              "#fb9f3a"
             ],
             [
              0.8888888888888888,
              "#fdca26"
             ],
             [
              1,
              "#f0f921"
             ]
            ],
            "type": "histogram2d"
           }
          ],
          "histogram2dcontour": [
           {
            "colorbar": {
             "outlinewidth": 0,
             "ticks": ""
            },
            "colorscale": [
             [
              0,
              "#0d0887"
             ],
             [
              0.1111111111111111,
              "#46039f"
             ],
             [
              0.2222222222222222,
              "#7201a8"
             ],
             [
              0.3333333333333333,
              "#9c179e"
             ],
             [
              0.4444444444444444,
              "#bd3786"
             ],
             [
              0.5555555555555556,
              "#d8576b"
             ],
             [
              0.6666666666666666,
              "#ed7953"
             ],
             [
              0.7777777777777778,
              "#fb9f3a"
             ],
             [
              0.8888888888888888,
              "#fdca26"
             ],
             [
              1,
              "#f0f921"
             ]
            ],
            "type": "histogram2dcontour"
           }
          ],
          "mesh3d": [
           {
            "colorbar": {
             "outlinewidth": 0,
             "ticks": ""
            },
            "type": "mesh3d"
           }
          ],
          "parcoords": [
           {
            "line": {
             "colorbar": {
              "outlinewidth": 0,
              "ticks": ""
             }
            },
            "type": "parcoords"
           }
          ],
          "pie": [
           {
            "automargin": true,
            "type": "pie"
           }
          ],
          "scatter": [
           {
            "fillpattern": {
             "fillmode": "overlay",
             "size": 10,
             "solidity": 0.2
            },
            "type": "scatter"
           }
          ],
          "scatter3d": [
           {
            "line": {
             "colorbar": {
              "outlinewidth": 0,
              "ticks": ""
             }
            },
            "marker": {
             "colorbar": {
              "outlinewidth": 0,
              "ticks": ""
             }
            },
            "type": "scatter3d"
           }
          ],
          "scattercarpet": [
           {
            "marker": {
             "colorbar": {
              "outlinewidth": 0,
              "ticks": ""
             }
            },
            "type": "scattercarpet"
           }
          ],
          "scattergeo": [
           {
            "marker": {
             "colorbar": {
              "outlinewidth": 0,
              "ticks": ""
             }
            },
            "type": "scattergeo"
           }
          ],
          "scattergl": [
           {
            "marker": {
             "colorbar": {
              "outlinewidth": 0,
              "ticks": ""
             }
            },
            "type": "scattergl"
           }
          ],
          "scattermapbox": [
           {
            "marker": {
             "colorbar": {
              "outlinewidth": 0,
              "ticks": ""
             }
            },
            "type": "scattermapbox"
           }
          ],
          "scatterpolar": [
           {
            "marker": {
             "colorbar": {
              "outlinewidth": 0,
              "ticks": ""
             }
            },
            "type": "scatterpolar"
           }
          ],
          "scatterpolargl": [
           {
            "marker": {
             "colorbar": {
              "outlinewidth": 0,
              "ticks": ""
             }
            },
            "type": "scatterpolargl"
           }
          ],
          "scatterternary": [
           {
            "marker": {
             "colorbar": {
              "outlinewidth": 0,
              "ticks": ""
             }
            },
            "type": "scatterternary"
           }
          ],
          "surface": [
           {
            "colorbar": {
             "outlinewidth": 0,
             "ticks": ""
            },
            "colorscale": [
             [
              0,
              "#0d0887"
             ],
             [
              0.1111111111111111,
              "#46039f"
             ],
             [
              0.2222222222222222,
              "#7201a8"
             ],
             [
              0.3333333333333333,
              "#9c179e"
             ],
             [
              0.4444444444444444,
              "#bd3786"
             ],
             [
              0.5555555555555556,
              "#d8576b"
             ],
             [
              0.6666666666666666,
              "#ed7953"
             ],
             [
              0.7777777777777778,
              "#fb9f3a"
             ],
             [
              0.8888888888888888,
              "#fdca26"
             ],
             [
              1,
              "#f0f921"
             ]
            ],
            "type": "surface"
           }
          ],
          "table": [
           {
            "cells": {
             "fill": {
              "color": "#EBF0F8"
             },
             "line": {
              "color": "white"
             }
            },
            "header": {
             "fill": {
              "color": "#C8D4E3"
             },
             "line": {
              "color": "white"
             }
            },
            "type": "table"
           }
          ]
         },
         "layout": {
          "annotationdefaults": {
           "arrowcolor": "#2a3f5f",
           "arrowhead": 0,
           "arrowwidth": 1
          },
          "autotypenumbers": "strict",
          "coloraxis": {
           "colorbar": {
            "outlinewidth": 0,
            "ticks": ""
           }
          },
          "colorscale": {
           "diverging": [
            [
             0,
             "#8e0152"
            ],
            [
             0.1,
             "#c51b7d"
            ],
            [
             0.2,
             "#de77ae"
            ],
            [
             0.3,
             "#f1b6da"
            ],
            [
             0.4,
             "#fde0ef"
            ],
            [
             0.5,
             "#f7f7f7"
            ],
            [
             0.6,
             "#e6f5d0"
            ],
            [
             0.7,
             "#b8e186"
            ],
            [
             0.8,
             "#7fbc41"
            ],
            [
             0.9,
             "#4d9221"
            ],
            [
             1,
             "#276419"
            ]
           ],
           "sequential": [
            [
             0,
             "#0d0887"
            ],
            [
             0.1111111111111111,
             "#46039f"
            ],
            [
             0.2222222222222222,
             "#7201a8"
            ],
            [
             0.3333333333333333,
             "#9c179e"
            ],
            [
             0.4444444444444444,
             "#bd3786"
            ],
            [
             0.5555555555555556,
             "#d8576b"
            ],
            [
             0.6666666666666666,
             "#ed7953"
            ],
            [
             0.7777777777777778,
             "#fb9f3a"
            ],
            [
             0.8888888888888888,
             "#fdca26"
            ],
            [
             1,
             "#f0f921"
            ]
           ],
           "sequentialminus": [
            [
             0,
             "#0d0887"
            ],
            [
             0.1111111111111111,
             "#46039f"
            ],
            [
             0.2222222222222222,
             "#7201a8"
            ],
            [
             0.3333333333333333,
             "#9c179e"
            ],
            [
             0.4444444444444444,
             "#bd3786"
            ],
            [
             0.5555555555555556,
             "#d8576b"
            ],
            [
             0.6666666666666666,
             "#ed7953"
            ],
            [
             0.7777777777777778,
             "#fb9f3a"
            ],
            [
             0.8888888888888888,
             "#fdca26"
            ],
            [
             1,
             "#f0f921"
            ]
           ]
          },
          "colorway": [
           "#636efa",
           "#EF553B",
           "#00cc96",
           "#ab63fa",
           "#FFA15A",
           "#19d3f3",
           "#FF6692",
           "#B6E880",
           "#FF97FF",
           "#FECB52"
          ],
          "font": {
           "color": "#2a3f5f"
          },
          "geo": {
           "bgcolor": "white",
           "lakecolor": "white",
           "landcolor": "#E5ECF6",
           "showlakes": true,
           "showland": true,
           "subunitcolor": "white"
          },
          "hoverlabel": {
           "align": "left"
          },
          "hovermode": "closest",
          "mapbox": {
           "style": "light"
          },
          "paper_bgcolor": "white",
          "plot_bgcolor": "#E5ECF6",
          "polar": {
           "angularaxis": {
            "gridcolor": "white",
            "linecolor": "white",
            "ticks": ""
           },
           "bgcolor": "#E5ECF6",
           "radialaxis": {
            "gridcolor": "white",
            "linecolor": "white",
            "ticks": ""
           }
          },
          "scene": {
           "xaxis": {
            "backgroundcolor": "#E5ECF6",
            "gridcolor": "white",
            "gridwidth": 2,
            "linecolor": "white",
            "showbackground": true,
            "ticks": "",
            "zerolinecolor": "white"
           },
           "yaxis": {
            "backgroundcolor": "#E5ECF6",
            "gridcolor": "white",
            "gridwidth": 2,
            "linecolor": "white",
            "showbackground": true,
            "ticks": "",
            "zerolinecolor": "white"
           },
           "zaxis": {
            "backgroundcolor": "#E5ECF6",
            "gridcolor": "white",
            "gridwidth": 2,
            "linecolor": "white",
            "showbackground": true,
            "ticks": "",
            "zerolinecolor": "white"
           }
          },
          "shapedefaults": {
           "line": {
            "color": "#2a3f5f"
           }
          },
          "ternary": {
           "aaxis": {
            "gridcolor": "white",
            "linecolor": "white",
            "ticks": ""
           },
           "baxis": {
            "gridcolor": "white",
            "linecolor": "white",
            "ticks": ""
           },
           "bgcolor": "#E5ECF6",
           "caxis": {
            "gridcolor": "white",
            "linecolor": "white",
            "ticks": ""
           }
          },
          "title": {
           "x": 0.05
          },
          "xaxis": {
           "automargin": true,
           "gridcolor": "white",
           "linecolor": "white",
           "ticks": "",
           "title": {
            "standoff": 15
           },
           "zerolinecolor": "white",
           "zerolinewidth": 2
          },
          "yaxis": {
           "automargin": true,
           "gridcolor": "white",
           "linecolor": "white",
           "ticks": "",
           "title": {
            "standoff": 15
           },
           "zerolinecolor": "white",
           "zerolinewidth": 2
          }
         }
        },
        "title": {
         "font": {
          "size": 30
         },
         "text": "Controller Efficiency",
         "y": 0.99
        },
        "width": 800,
        "xaxis": {
         "title": {
          "text": "Power Inverter DC [W]"
         }
        },
        "yaxis": {
         "title": {
          "text": "Efficiency [%]"
         }
        }
       }
      }
     },
     "metadata": {},
     "output_type": "display_data"
    }
   ],
   "source": [
    "# Plot the controller efficiency of the MPPT and PWM controllers\n",
    "fig = go.Figure()\n",
    "fig.add_trace(go.Scatter(x=dfpwm['power_inv_dc'], y=dfpwm['efficiency_controller'], name='PR1010 Controller', mode='markers',marker=dict(size=marker_size, symbol='circle', line=dict(width=2, color='black'), opacity = marker_opacity)))\n",
    "fig.add_trace(go.Scatter(x=dfmppt['power_inv_dc'], y=dfmppt['efficiency_controller'], name='MPPT2010 Controller', mode='markers', marker=dict(size=marker_size, symbol='diamond', line=dict(width=2, color='black'), opacity = marker_opacity)))\n",
    "fig.add_vline(x=dfpwm['power_inv_dc'].iloc[pwm_switch_index], line_width=3, line_dash=\"dash\", line_color=\"green\", opacity=0.66)\n",
    "fig.add_vline(x=dfmppt['power_inv_dc'].iloc[mppt_switch_index], line_width=3, line_dash=\"longdashdot\", line_color=\"orange\", opacity=0.66)\n",
    "fig.update_layout(title='Controller Efficiency', xaxis_title='Power Inverter DC [W]', yaxis_title='Efficiency [%]')\n",
    "fig.update_layout(font=dict(size=20))\n",
    "fig.update_layout(title_font=dict(size=30))\n",
    "fig.update_layout(width=800,height=800)\n",
    "fig.update_layout(legend=dict(\n",
    "    orientation=\"h\",\n",
    "    yanchor=\"bottom\",\n",
    "    y=1.0,\n",
    "    xanchor=\"right\",\n",
    "    x=0.95\n",
    "))\n",
    "fig.add_annotation(x=dfpwm['power_inv_dc'].iloc[pwm_switch_index], y=0.84*100, text=\"PR1010 \\nBattery Discharge\", showarrow=True, arrowhead=1, ax=-145, ay=-35, font=dict(size=21, color='green'), bgcolor='white')\n",
    "fig.add_annotation(x=dfmppt['power_inv_dc'].iloc[mppt_switch_index], y=0.85*100, text=\"MPPT2010 \\nBattery Discharge\", showarrow=True, arrowhead=1, ax=-205, ay=-65, font=dict(size=21, color='orange'), bgcolor='white')\n",
    "fig.update_layout(title=dict(y=0.99))\n",
    "fig.show()\n",
    "fig.write_image(\"./plots/t3/efficiency_controller_offgrid.png\")"
   ]
  },
  {
   "cell_type": "markdown",
   "metadata": {},
   "source": [
    "# Plot inverter efficiencies"
   ]
  },
  {
   "cell_type": "code",
   "execution_count": 29,
   "metadata": {},
   "outputs": [
    {
     "data": {
      "application/vnd.plotly.v1+json": {
       "config": {
        "plotlyServerURL": "https://plot.ly"
       },
       "data": [
        {
         "marker": {
          "line": {
           "color": "black",
           "width": 2
          },
          "opacity": 0.85,
          "size": 14,
          "symbol": "circle"
         },
         "mode": "markers",
         "name": "PR1010 Inverter",
         "type": "scatter",
         "x": [
          9.0176,
          14.1097,
          18.3084,
          22.825,
          27.471999999999998,
          34.1044,
          40.7286,
          46.3232,
          52.52,
          57.9535,
          64.66560000000001,
          67.78240000000001,
          77.049,
          83.1092,
          91.2209,
          98.8695,
          105.46589999999999
         ],
         "y": [
          24.396735273243436,
          46.776331176424726,
          57.35072425771778,
          66.15553121577219,
          72.43739079790332,
          74.47719355860241,
          74.64042466473191,
          74.69259463940315,
          77.3038842345773,
          78.85632446702961,
          77.6301464766429,
          80.84694551978093,
          76.70443484016664,
          77.84938370240599,
          77.39454445198413,
          77.27357779699503,
          76.23317110080131
         ]
        },
        {
         "marker": {
          "line": {
           "color": "black",
           "width": 2
          },
          "opacity": 0.85,
          "size": 14,
          "symbol": "diamond"
         },
         "mode": "markers",
         "name": "MPPT2010 Inverter",
         "type": "scatter",
         "x": [
          8.983,
          12.703600000000002,
          18.2352,
          23.024199999999997,
          27.661,
          33.962500000000006,
          40.71,
          46.5674,
          52.8942,
          58.5598,
          64.7702,
          68.4372,
          76.714,
          83.3166,
          89.29050000000001,
          94.50540000000001,
          102.8223
         ],
         "y": [
          24.490704664366024,
          44.08199250606127,
          57.58094235325086,
          63.845866523049665,
          71.94244604316546,
          74.49392712550606,
          75.4114468189634,
          74.73039078840561,
          78.26945109293646,
          77.52758718438245,
          77.19599445423975,
          80.07341036746097,
          78.21258179732513,
          78.37573784815991,
          78.61978597947149,
          78.40821794310166,
          78.58217526742739
         ]
        }
       ],
       "layout": {
        "annotations": [
         {
          "arrowhead": 1,
          "ax": -145,
          "ay": -35,
          "bgcolor": "white",
          "font": {
           "color": "green",
           "size": 21
          },
          "showarrow": true,
          "text": "PR1010 \nBattery Discharge",
          "x": 64.66560000000001,
          "y": 10
         },
         {
          "arrowhead": 1,
          "ax": -205,
          "ay": -65,
          "bgcolor": "white",
          "font": {
           "color": "orange",
           "size": 21
          },
          "showarrow": true,
          "text": "MPPT2010 \nBattery Discharge",
          "x": 76.714,
          "y": 15
         }
        ],
        "font": {
         "size": 20
        },
        "height": 800,
        "legend": {
         "orientation": "h",
         "x": 0.95,
         "xanchor": "right",
         "y": 1,
         "yanchor": "bottom"
        },
        "shapes": [
         {
          "line": {
           "color": "green",
           "dash": "dash",
           "width": 3
          },
          "opacity": 0.66,
          "type": "line",
          "x0": 64.66560000000001,
          "x1": 64.66560000000001,
          "xref": "x",
          "y0": 0,
          "y1": 1,
          "yref": "y domain"
         },
         {
          "line": {
           "color": "orange",
           "dash": "longdashdot",
           "width": 3
          },
          "opacity": 0.66,
          "type": "line",
          "x0": 76.714,
          "x1": 76.714,
          "xref": "x",
          "y0": 0,
          "y1": 1,
          "yref": "y domain"
         }
        ],
        "template": {
         "data": {
          "bar": [
           {
            "error_x": {
             "color": "#2a3f5f"
            },
            "error_y": {
             "color": "#2a3f5f"
            },
            "marker": {
             "line": {
              "color": "#E5ECF6",
              "width": 0.5
             },
             "pattern": {
              "fillmode": "overlay",
              "size": 10,
              "solidity": 0.2
             }
            },
            "type": "bar"
           }
          ],
          "barpolar": [
           {
            "marker": {
             "line": {
              "color": "#E5ECF6",
              "width": 0.5
             },
             "pattern": {
              "fillmode": "overlay",
              "size": 10,
              "solidity": 0.2
             }
            },
            "type": "barpolar"
           }
          ],
          "carpet": [
           {
            "aaxis": {
             "endlinecolor": "#2a3f5f",
             "gridcolor": "white",
             "linecolor": "white",
             "minorgridcolor": "white",
             "startlinecolor": "#2a3f5f"
            },
            "baxis": {
             "endlinecolor": "#2a3f5f",
             "gridcolor": "white",
             "linecolor": "white",
             "minorgridcolor": "white",
             "startlinecolor": "#2a3f5f"
            },
            "type": "carpet"
           }
          ],
          "choropleth": [
           {
            "colorbar": {
             "outlinewidth": 0,
             "ticks": ""
            },
            "type": "choropleth"
           }
          ],
          "contour": [
           {
            "colorbar": {
             "outlinewidth": 0,
             "ticks": ""
            },
            "colorscale": [
             [
              0,
              "#0d0887"
             ],
             [
              0.1111111111111111,
              "#46039f"
             ],
             [
              0.2222222222222222,
              "#7201a8"
             ],
             [
              0.3333333333333333,
              "#9c179e"
             ],
             [
              0.4444444444444444,
              "#bd3786"
             ],
             [
              0.5555555555555556,
              "#d8576b"
             ],
             [
              0.6666666666666666,
              "#ed7953"
             ],
             [
              0.7777777777777778,
              "#fb9f3a"
             ],
             [
              0.8888888888888888,
              "#fdca26"
             ],
             [
              1,
              "#f0f921"
             ]
            ],
            "type": "contour"
           }
          ],
          "contourcarpet": [
           {
            "colorbar": {
             "outlinewidth": 0,
             "ticks": ""
            },
            "type": "contourcarpet"
           }
          ],
          "heatmap": [
           {
            "colorbar": {
             "outlinewidth": 0,
             "ticks": ""
            },
            "colorscale": [
             [
              0,
              "#0d0887"
             ],
             [
              0.1111111111111111,
              "#46039f"
             ],
             [
              0.2222222222222222,
              "#7201a8"
             ],
             [
              0.3333333333333333,
              "#9c179e"
             ],
             [
              0.4444444444444444,
              "#bd3786"
             ],
             [
              0.5555555555555556,
              "#d8576b"
             ],
             [
              0.6666666666666666,
              "#ed7953"
             ],
             [
              0.7777777777777778,
              "#fb9f3a"
             ],
             [
              0.8888888888888888,
              "#fdca26"
             ],
             [
              1,
              "#f0f921"
             ]
            ],
            "type": "heatmap"
           }
          ],
          "heatmapgl": [
           {
            "colorbar": {
             "outlinewidth": 0,
             "ticks": ""
            },
            "colorscale": [
             [
              0,
              "#0d0887"
             ],
             [
              0.1111111111111111,
              "#46039f"
             ],
             [
              0.2222222222222222,
              "#7201a8"
             ],
             [
              0.3333333333333333,
              "#9c179e"
             ],
             [
              0.4444444444444444,
              "#bd3786"
             ],
             [
              0.5555555555555556,
              "#d8576b"
             ],
             [
              0.6666666666666666,
              "#ed7953"
             ],
             [
              0.7777777777777778,
              "#fb9f3a"
             ],
             [
              0.8888888888888888,
              "#fdca26"
             ],
             [
              1,
              "#f0f921"
             ]
            ],
            "type": "heatmapgl"
           }
          ],
          "histogram": [
           {
            "marker": {
             "pattern": {
              "fillmode": "overlay",
              "size": 10,
              "solidity": 0.2
             }
            },
            "type": "histogram"
           }
          ],
          "histogram2d": [
           {
            "colorbar": {
             "outlinewidth": 0,
             "ticks": ""
            },
            "colorscale": [
             [
              0,
              "#0d0887"
             ],
             [
              0.1111111111111111,
              "#46039f"
             ],
             [
              0.2222222222222222,
              "#7201a8"
             ],
             [
              0.3333333333333333,
              "#9c179e"
             ],
             [
              0.4444444444444444,
              "#bd3786"
             ],
             [
              0.5555555555555556,
              "#d8576b"
             ],
             [
              0.6666666666666666,
              "#ed7953"
             ],
             [
              0.7777777777777778,
              "#fb9f3a"
             ],
             [
              0.8888888888888888,
              "#fdca26"
             ],
             [
              1,
              "#f0f921"
             ]
            ],
            "type": "histogram2d"
           }
          ],
          "histogram2dcontour": [
           {
            "colorbar": {
             "outlinewidth": 0,
             "ticks": ""
            },
            "colorscale": [
             [
              0,
              "#0d0887"
             ],
             [
              0.1111111111111111,
              "#46039f"
             ],
             [
              0.2222222222222222,
              "#7201a8"
             ],
             [
              0.3333333333333333,
              "#9c179e"
             ],
             [
              0.4444444444444444,
              "#bd3786"
             ],
             [
              0.5555555555555556,
              "#d8576b"
             ],
             [
              0.6666666666666666,
              "#ed7953"
             ],
             [
              0.7777777777777778,
              "#fb9f3a"
             ],
             [
              0.8888888888888888,
              "#fdca26"
             ],
             [
              1,
              "#f0f921"
             ]
            ],
            "type": "histogram2dcontour"
           }
          ],
          "mesh3d": [
           {
            "colorbar": {
             "outlinewidth": 0,
             "ticks": ""
            },
            "type": "mesh3d"
           }
          ],
          "parcoords": [
           {
            "line": {
             "colorbar": {
              "outlinewidth": 0,
              "ticks": ""
             }
            },
            "type": "parcoords"
           }
          ],
          "pie": [
           {
            "automargin": true,
            "type": "pie"
           }
          ],
          "scatter": [
           {
            "fillpattern": {
             "fillmode": "overlay",
             "size": 10,
             "solidity": 0.2
            },
            "type": "scatter"
           }
          ],
          "scatter3d": [
           {
            "line": {
             "colorbar": {
              "outlinewidth": 0,
              "ticks": ""
             }
            },
            "marker": {
             "colorbar": {
              "outlinewidth": 0,
              "ticks": ""
             }
            },
            "type": "scatter3d"
           }
          ],
          "scattercarpet": [
           {
            "marker": {
             "colorbar": {
              "outlinewidth": 0,
              "ticks": ""
             }
            },
            "type": "scattercarpet"
           }
          ],
          "scattergeo": [
           {
            "marker": {
             "colorbar": {
              "outlinewidth": 0,
              "ticks": ""
             }
            },
            "type": "scattergeo"
           }
          ],
          "scattergl": [
           {
            "marker": {
             "colorbar": {
              "outlinewidth": 0,
              "ticks": ""
             }
            },
            "type": "scattergl"
           }
          ],
          "scattermapbox": [
           {
            "marker": {
             "colorbar": {
              "outlinewidth": 0,
              "ticks": ""
             }
            },
            "type": "scattermapbox"
           }
          ],
          "scatterpolar": [
           {
            "marker": {
             "colorbar": {
              "outlinewidth": 0,
              "ticks": ""
             }
            },
            "type": "scatterpolar"
           }
          ],
          "scatterpolargl": [
           {
            "marker": {
             "colorbar": {
              "outlinewidth": 0,
              "ticks": ""
             }
            },
            "type": "scatterpolargl"
           }
          ],
          "scatterternary": [
           {
            "marker": {
             "colorbar": {
              "outlinewidth": 0,
              "ticks": ""
             }
            },
            "type": "scatterternary"
           }
          ],
          "surface": [
           {
            "colorbar": {
             "outlinewidth": 0,
             "ticks": ""
            },
            "colorscale": [
             [
              0,
              "#0d0887"
             ],
             [
              0.1111111111111111,
              "#46039f"
             ],
             [
              0.2222222222222222,
              "#7201a8"
             ],
             [
              0.3333333333333333,
              "#9c179e"
             ],
             [
              0.4444444444444444,
              "#bd3786"
             ],
             [
              0.5555555555555556,
              "#d8576b"
             ],
             [
              0.6666666666666666,
              "#ed7953"
             ],
             [
              0.7777777777777778,
              "#fb9f3a"
             ],
             [
              0.8888888888888888,
              "#fdca26"
             ],
             [
              1,
              "#f0f921"
             ]
            ],
            "type": "surface"
           }
          ],
          "table": [
           {
            "cells": {
             "fill": {
              "color": "#EBF0F8"
             },
             "line": {
              "color": "white"
             }
            },
            "header": {
             "fill": {
              "color": "#C8D4E3"
             },
             "line": {
              "color": "white"
             }
            },
            "type": "table"
           }
          ]
         },
         "layout": {
          "annotationdefaults": {
           "arrowcolor": "#2a3f5f",
           "arrowhead": 0,
           "arrowwidth": 1
          },
          "autotypenumbers": "strict",
          "coloraxis": {
           "colorbar": {
            "outlinewidth": 0,
            "ticks": ""
           }
          },
          "colorscale": {
           "diverging": [
            [
             0,
             "#8e0152"
            ],
            [
             0.1,
             "#c51b7d"
            ],
            [
             0.2,
             "#de77ae"
            ],
            [
             0.3,
             "#f1b6da"
            ],
            [
             0.4,
             "#fde0ef"
            ],
            [
             0.5,
             "#f7f7f7"
            ],
            [
             0.6,
             "#e6f5d0"
            ],
            [
             0.7,
             "#b8e186"
            ],
            [
             0.8,
             "#7fbc41"
            ],
            [
             0.9,
             "#4d9221"
            ],
            [
             1,
             "#276419"
            ]
           ],
           "sequential": [
            [
             0,
             "#0d0887"
            ],
            [
             0.1111111111111111,
             "#46039f"
            ],
            [
             0.2222222222222222,
             "#7201a8"
            ],
            [
             0.3333333333333333,
             "#9c179e"
            ],
            [
             0.4444444444444444,
             "#bd3786"
            ],
            [
             0.5555555555555556,
             "#d8576b"
            ],
            [
             0.6666666666666666,
             "#ed7953"
            ],
            [
             0.7777777777777778,
             "#fb9f3a"
            ],
            [
             0.8888888888888888,
             "#fdca26"
            ],
            [
             1,
             "#f0f921"
            ]
           ],
           "sequentialminus": [
            [
             0,
             "#0d0887"
            ],
            [
             0.1111111111111111,
             "#46039f"
            ],
            [
             0.2222222222222222,
             "#7201a8"
            ],
            [
             0.3333333333333333,
             "#9c179e"
            ],
            [
             0.4444444444444444,
             "#bd3786"
            ],
            [
             0.5555555555555556,
             "#d8576b"
            ],
            [
             0.6666666666666666,
             "#ed7953"
            ],
            [
             0.7777777777777778,
             "#fb9f3a"
            ],
            [
             0.8888888888888888,
             "#fdca26"
            ],
            [
             1,
             "#f0f921"
            ]
           ]
          },
          "colorway": [
           "#636efa",
           "#EF553B",
           "#00cc96",
           "#ab63fa",
           "#FFA15A",
           "#19d3f3",
           "#FF6692",
           "#B6E880",
           "#FF97FF",
           "#FECB52"
          ],
          "font": {
           "color": "#2a3f5f"
          },
          "geo": {
           "bgcolor": "white",
           "lakecolor": "white",
           "landcolor": "#E5ECF6",
           "showlakes": true,
           "showland": true,
           "subunitcolor": "white"
          },
          "hoverlabel": {
           "align": "left"
          },
          "hovermode": "closest",
          "mapbox": {
           "style": "light"
          },
          "paper_bgcolor": "white",
          "plot_bgcolor": "#E5ECF6",
          "polar": {
           "angularaxis": {
            "gridcolor": "white",
            "linecolor": "white",
            "ticks": ""
           },
           "bgcolor": "#E5ECF6",
           "radialaxis": {
            "gridcolor": "white",
            "linecolor": "white",
            "ticks": ""
           }
          },
          "scene": {
           "xaxis": {
            "backgroundcolor": "#E5ECF6",
            "gridcolor": "white",
            "gridwidth": 2,
            "linecolor": "white",
            "showbackground": true,
            "ticks": "",
            "zerolinecolor": "white"
           },
           "yaxis": {
            "backgroundcolor": "#E5ECF6",
            "gridcolor": "white",
            "gridwidth": 2,
            "linecolor": "white",
            "showbackground": true,
            "ticks": "",
            "zerolinecolor": "white"
           },
           "zaxis": {
            "backgroundcolor": "#E5ECF6",
            "gridcolor": "white",
            "gridwidth": 2,
            "linecolor": "white",
            "showbackground": true,
            "ticks": "",
            "zerolinecolor": "white"
           }
          },
          "shapedefaults": {
           "line": {
            "color": "#2a3f5f"
           }
          },
          "ternary": {
           "aaxis": {
            "gridcolor": "white",
            "linecolor": "white",
            "ticks": ""
           },
           "baxis": {
            "gridcolor": "white",
            "linecolor": "white",
            "ticks": ""
           },
           "bgcolor": "#E5ECF6",
           "caxis": {
            "gridcolor": "white",
            "linecolor": "white",
            "ticks": ""
           }
          },
          "title": {
           "x": 0.05
          },
          "xaxis": {
           "automargin": true,
           "gridcolor": "white",
           "linecolor": "white",
           "ticks": "",
           "title": {
            "standoff": 15
           },
           "zerolinecolor": "white",
           "zerolinewidth": 2
          },
          "yaxis": {
           "automargin": true,
           "gridcolor": "white",
           "linecolor": "white",
           "ticks": "",
           "title": {
            "standoff": 15
           },
           "zerolinecolor": "white",
           "zerolinewidth": 2
          }
         }
        },
        "title": {
         "font": {
          "size": 30
         },
         "text": "Inverter Efficiency",
         "y": 0.99
        },
        "width": 800,
        "xaxis": {
         "title": {
          "text": "Power Inverter DC [W]"
         }
        },
        "yaxis": {
         "title": {
          "text": "Efficiency [%]"
         }
        }
       }
      }
     },
     "metadata": {},
     "output_type": "display_data"
    }
   ],
   "source": [
    "# Plot the inverter efficiencies of MPPT and PWM controllers\n",
    "fig = go.Figure()\n",
    "fig.add_trace(go.Scatter(x=dfpwm['power_inv_dc'], y=dfpwm['efficiency_inverter'], name='PR1010 Inverter', mode='markers', marker=dict(size=marker_size, symbol='circle', line=dict(width=2, color='black'), opacity = marker_opacity)))\n",
    "fig.add_trace(go.Scatter(x=dfmppt['power_inv_dc'], y=dfmppt['efficiency_inverter'], name='MPPT2010 Inverter', mode='markers', marker=dict(size=marker_size, symbol='diamond', line=dict(width=2, color='black'), opacity = marker_opacity)))\n",
    "fig.add_vline(x=dfpwm['power_inv_dc'].iloc[pwm_switch_index], line_width=3, line_dash=\"dash\", line_color=\"green\", opacity=0.66)\n",
    "fig.add_vline(x=dfmppt['power_inv_dc'].iloc[mppt_switch_index], line_width=3, line_dash=\"longdashdot\", line_color=\"orange\", opacity=0.66)\n",
    "fig.update_layout(title='Inverter Efficiency', xaxis_title='Power Inverter DC [W]', yaxis_title='Efficiency [%]')\n",
    "fig.update_layout(font=dict(size=20))\n",
    "fig.update_layout(title_font=dict(size=30))\n",
    "fig.update_layout(width=800,height=800)\n",
    "fig.update_layout(legend=dict(\n",
    "    orientation=\"h\",\n",
    "    yanchor=\"bottom\",\n",
    "    y=1.0,\n",
    "    xanchor=\"right\",\n",
    "    x=0.95\n",
    "))\n",
    "fig.add_annotation(x=dfpwm['power_inv_dc'].iloc[pwm_switch_index], y=10, text=\"PR1010 \\nBattery Discharge\", showarrow=True, arrowhead=1, ax=-145, ay=-35, font=dict(size=21, color='green'), bgcolor='white')\n",
    "fig.add_annotation(x=dfmppt['power_inv_dc'].iloc[mppt_switch_index], y=15, text=\"MPPT2010 \\nBattery Discharge\", showarrow=True, arrowhead=1, ax=-205, ay=-65, font=dict(size=21, color='orange'), bgcolor='white')\n",
    "fig.update_layout(title=dict(y=0.99))\n",
    "fig.show()\n",
    "fig.write_image(\"./plots/t3/efficiency_inverter_offgrid.png\")"
   ]
  },
  {
   "cell_type": "code",
   "execution_count": 31,
   "metadata": {},
   "outputs": [
    {
     "name": "stdout",
     "output_type": "stream",
     "text": [
      "PWM variance:  4.931591893648203\n",
      "MPPT variance:  3.3767063579049172\n"
     ]
    },
    {
     "data": {
      "application/vnd.plotly.v1+json": {
       "config": {
        "plotlyServerURL": "https://plot.ly"
       },
       "data": [
        {
         "marker": {
          "line": {
           "color": "black",
           "width": 2
          },
          "opacity": 0.85,
          "size": 14,
          "symbol": "circle"
         },
         "mode": "markers",
         "name": "PR1010 Controller",
         "type": "scatter",
         "x": [
          9.0176,
          14.1097,
          18.3084,
          22.825,
          27.471999999999998,
          34.1044,
          40.7286,
          46.3232,
          52.52,
          57.9535,
          64.66560000000001,
          67.78240000000001,
          77.049,
          83.1092,
          91.2209,
          98.8695,
          105.46589999999999
         ],
         "y": [
          96.09656505404904,
          98.19844667049115,
          98.10688673375111,
          94.6932344366318,
          97.7671797095166,
          101.7367796891139,
          96.56633395716365,
          96.14383198213206,
          95.60998955795337,
          95.39806220995861,
          93.43633558799101,
          89.28383245808331,
          91.64165697895945,
          91.23154955823928,
          89.68887552515307,
          86.14160627096012,
          84.43236094015894
         ]
        },
        {
         "marker": {
          "line": {
           "color": "black",
           "width": 2
          },
          "opacity": 0.85,
          "size": 14,
          "symbol": "diamond"
         },
         "mode": "markers",
         "name": "MPPT2010 Controller",
         "type": "scatter",
         "x": [
          8.983,
          12.703600000000002,
          18.2352,
          23.024199999999997,
          27.661,
          33.962500000000006,
          40.71,
          46.5674,
          52.8942,
          58.5598,
          64.7702,
          68.4372,
          76.714,
          83.3166,
          89.29050000000001,
          94.50540000000001,
          102.8223
         ],
         "y": [
          95.01645916628812,
          89.3843498273878,
          95.47832426494881,
          95.82607930204806,
          95.93800432386345,
          95.88644617221964,
          95.84495480594937,
          94.88679567167091,
          94.63638893228149,
          93.92434416295252,
          94.3430835214006,
          90.97928119013895,
          92.49534058430665,
          91.16414114964816,
          90.85577326647375,
          90.23625529823701,
          89.64517063489616
         ]
        },
        {
         "marker": {
          "line": {
           "color": "black",
           "width": 2
          },
          "opacity": 0.85,
          "size": 14,
          "symbol": "circle"
         },
         "mode": "lines",
         "name": "PR1010 Controller Best Fit",
         "type": "scatter",
         "x": [
          9.0176,
          14.1097,
          18.3084,
          22.825,
          27.471999999999998,
          34.1044,
          40.7286,
          46.3232,
          52.52,
          57.9535,
          64.66560000000001,
          67.78240000000001,
          77.049,
          83.1092,
          91.2209,
          98.8695,
          105.46589999999999
         ],
         "y": [
          99.69411123871865,
          99.03175528482548,
          98.48560851952016,
          97.89811084638846,
          97.29365136646042,
          96.4309405735457,
          95.56929639731602,
          94.8415776526624,
          94.03552761926062,
          93.32876399021198,
          92.45568620341943,
          92.05026780293746,
          90.8449129037119,
          90.05663114338053,
          89.00150009897935,
          88.0066068822422,
          87.14857879672523
         ]
        },
        {
         "marker": {
          "line": {
           "color": "black",
           "width": 2
          },
          "opacity": 0.85,
          "size": 14,
          "symbol": "diamond"
         },
         "mode": "lines",
         "name": "MPPT2010 Controller Best Fit",
         "type": "scatter",
         "x": [
          8.983,
          12.703600000000002,
          18.2352,
          23.024199999999997,
          27.661,
          33.962500000000006,
          40.71,
          46.5674,
          52.8942,
          58.5598,
          64.7702,
          68.4372,
          76.714,
          83.3166,
          89.29050000000001,
          94.50540000000001,
          102.8223
         ],
         "y": [
          95.57964312317303,
          95.38969426010075,
          95.10728789258728,
          94.8627936966906,
          94.62606981121688,
          94.30435751732611,
          93.95987545701858,
          93.66083592829752,
          93.33783198622213,
          93.04858447812603,
          92.7315231387657,
          92.54431073192646,
          92.1217528783876,
          91.78466843950112,
          91.47968120273622,
          91.21344341151017,
          90.78883832112533
         ]
        }
       ],
       "layout": {
        "font": {
         "size": 20
        },
        "height": 800,
        "legend": {
         "orientation": "h",
         "x": 0.95,
         "xanchor": "right",
         "y": 1,
         "yanchor": "bottom"
        },
        "template": {
         "data": {
          "bar": [
           {
            "error_x": {
             "color": "#2a3f5f"
            },
            "error_y": {
             "color": "#2a3f5f"
            },
            "marker": {
             "line": {
              "color": "#E5ECF6",
              "width": 0.5
             },
             "pattern": {
              "fillmode": "overlay",
              "size": 10,
              "solidity": 0.2
             }
            },
            "type": "bar"
           }
          ],
          "barpolar": [
           {
            "marker": {
             "line": {
              "color": "#E5ECF6",
              "width": 0.5
             },
             "pattern": {
              "fillmode": "overlay",
              "size": 10,
              "solidity": 0.2
             }
            },
            "type": "barpolar"
           }
          ],
          "carpet": [
           {
            "aaxis": {
             "endlinecolor": "#2a3f5f",
             "gridcolor": "white",
             "linecolor": "white",
             "minorgridcolor": "white",
             "startlinecolor": "#2a3f5f"
            },
            "baxis": {
             "endlinecolor": "#2a3f5f",
             "gridcolor": "white",
             "linecolor": "white",
             "minorgridcolor": "white",
             "startlinecolor": "#2a3f5f"
            },
            "type": "carpet"
           }
          ],
          "choropleth": [
           {
            "colorbar": {
             "outlinewidth": 0,
             "ticks": ""
            },
            "type": "choropleth"
           }
          ],
          "contour": [
           {
            "colorbar": {
             "outlinewidth": 0,
             "ticks": ""
            },
            "colorscale": [
             [
              0,
              "#0d0887"
             ],
             [
              0.1111111111111111,
              "#46039f"
             ],
             [
              0.2222222222222222,
              "#7201a8"
             ],
             [
              0.3333333333333333,
              "#9c179e"
             ],
             [
              0.4444444444444444,
              "#bd3786"
             ],
             [
              0.5555555555555556,
              "#d8576b"
             ],
             [
              0.6666666666666666,
              "#ed7953"
             ],
             [
              0.7777777777777778,
              "#fb9f3a"
             ],
             [
              0.8888888888888888,
              "#fdca26"
             ],
             [
              1,
              "#f0f921"
             ]
            ],
            "type": "contour"
           }
          ],
          "contourcarpet": [
           {
            "colorbar": {
             "outlinewidth": 0,
             "ticks": ""
            },
            "type": "contourcarpet"
           }
          ],
          "heatmap": [
           {
            "colorbar": {
             "outlinewidth": 0,
             "ticks": ""
            },
            "colorscale": [
             [
              0,
              "#0d0887"
             ],
             [
              0.1111111111111111,
              "#46039f"
             ],
             [
              0.2222222222222222,
              "#7201a8"
             ],
             [
              0.3333333333333333,
              "#9c179e"
             ],
             [
              0.4444444444444444,
              "#bd3786"
             ],
             [
              0.5555555555555556,
              "#d8576b"
             ],
             [
              0.6666666666666666,
              "#ed7953"
             ],
             [
              0.7777777777777778,
              "#fb9f3a"
             ],
             [
              0.8888888888888888,
              "#fdca26"
             ],
             [
              1,
              "#f0f921"
             ]
            ],
            "type": "heatmap"
           }
          ],
          "heatmapgl": [
           {
            "colorbar": {
             "outlinewidth": 0,
             "ticks": ""
            },
            "colorscale": [
             [
              0,
              "#0d0887"
             ],
             [
              0.1111111111111111,
              "#46039f"
             ],
             [
              0.2222222222222222,
              "#7201a8"
             ],
             [
              0.3333333333333333,
              "#9c179e"
             ],
             [
              0.4444444444444444,
              "#bd3786"
             ],
             [
              0.5555555555555556,
              "#d8576b"
             ],
             [
              0.6666666666666666,
              "#ed7953"
             ],
             [
              0.7777777777777778,
              "#fb9f3a"
             ],
             [
              0.8888888888888888,
              "#fdca26"
             ],
             [
              1,
              "#f0f921"
             ]
            ],
            "type": "heatmapgl"
           }
          ],
          "histogram": [
           {
            "marker": {
             "pattern": {
              "fillmode": "overlay",
              "size": 10,
              "solidity": 0.2
             }
            },
            "type": "histogram"
           }
          ],
          "histogram2d": [
           {
            "colorbar": {
             "outlinewidth": 0,
             "ticks": ""
            },
            "colorscale": [
             [
              0,
              "#0d0887"
             ],
             [
              0.1111111111111111,
              "#46039f"
             ],
             [
              0.2222222222222222,
              "#7201a8"
             ],
             [
              0.3333333333333333,
              "#9c179e"
             ],
             [
              0.4444444444444444,
              "#bd3786"
             ],
             [
              0.5555555555555556,
              "#d8576b"
             ],
             [
              0.6666666666666666,
              "#ed7953"
             ],
             [
              0.7777777777777778,
              "#fb9f3a"
             ],
             [
              0.8888888888888888,
              "#fdca26"
             ],
             [
              1,
              "#f0f921"
             ]
            ],
            "type": "histogram2d"
           }
          ],
          "histogram2dcontour": [
           {
            "colorbar": {
             "outlinewidth": 0,
             "ticks": ""
            },
            "colorscale": [
             [
              0,
              "#0d0887"
             ],
             [
              0.1111111111111111,
              "#46039f"
             ],
             [
              0.2222222222222222,
              "#7201a8"
             ],
             [
              0.3333333333333333,
              "#9c179e"
             ],
             [
              0.4444444444444444,
              "#bd3786"
             ],
             [
              0.5555555555555556,
              "#d8576b"
             ],
             [
              0.6666666666666666,
              "#ed7953"
             ],
             [
              0.7777777777777778,
              "#fb9f3a"
             ],
             [
              0.8888888888888888,
              "#fdca26"
             ],
             [
              1,
              "#f0f921"
             ]
            ],
            "type": "histogram2dcontour"
           }
          ],
          "mesh3d": [
           {
            "colorbar": {
             "outlinewidth": 0,
             "ticks": ""
            },
            "type": "mesh3d"
           }
          ],
          "parcoords": [
           {
            "line": {
             "colorbar": {
              "outlinewidth": 0,
              "ticks": ""
             }
            },
            "type": "parcoords"
           }
          ],
          "pie": [
           {
            "automargin": true,
            "type": "pie"
           }
          ],
          "scatter": [
           {
            "fillpattern": {
             "fillmode": "overlay",
             "size": 10,
             "solidity": 0.2
            },
            "type": "scatter"
           }
          ],
          "scatter3d": [
           {
            "line": {
             "colorbar": {
              "outlinewidth": 0,
              "ticks": ""
             }
            },
            "marker": {
             "colorbar": {
              "outlinewidth": 0,
              "ticks": ""
             }
            },
            "type": "scatter3d"
           }
          ],
          "scattercarpet": [
           {
            "marker": {
             "colorbar": {
              "outlinewidth": 0,
              "ticks": ""
             }
            },
            "type": "scattercarpet"
           }
          ],
          "scattergeo": [
           {
            "marker": {
             "colorbar": {
              "outlinewidth": 0,
              "ticks": ""
             }
            },
            "type": "scattergeo"
           }
          ],
          "scattergl": [
           {
            "marker": {
             "colorbar": {
              "outlinewidth": 0,
              "ticks": ""
             }
            },
            "type": "scattergl"
           }
          ],
          "scattermapbox": [
           {
            "marker": {
             "colorbar": {
              "outlinewidth": 0,
              "ticks": ""
             }
            },
            "type": "scattermapbox"
           }
          ],
          "scatterpolar": [
           {
            "marker": {
             "colorbar": {
              "outlinewidth": 0,
              "ticks": ""
             }
            },
            "type": "scatterpolar"
           }
          ],
          "scatterpolargl": [
           {
            "marker": {
             "colorbar": {
              "outlinewidth": 0,
              "ticks": ""
             }
            },
            "type": "scatterpolargl"
           }
          ],
          "scatterternary": [
           {
            "marker": {
             "colorbar": {
              "outlinewidth": 0,
              "ticks": ""
             }
            },
            "type": "scatterternary"
           }
          ],
          "surface": [
           {
            "colorbar": {
             "outlinewidth": 0,
             "ticks": ""
            },
            "colorscale": [
             [
              0,
              "#0d0887"
             ],
             [
              0.1111111111111111,
              "#46039f"
             ],
             [
              0.2222222222222222,
              "#7201a8"
             ],
             [
              0.3333333333333333,
              "#9c179e"
             ],
             [
              0.4444444444444444,
              "#bd3786"
             ],
             [
              0.5555555555555556,
              "#d8576b"
             ],
             [
              0.6666666666666666,
              "#ed7953"
             ],
             [
              0.7777777777777778,
              "#fb9f3a"
             ],
             [
              0.8888888888888888,
              "#fdca26"
             ],
             [
              1,
              "#f0f921"
             ]
            ],
            "type": "surface"
           }
          ],
          "table": [
           {
            "cells": {
             "fill": {
              "color": "#EBF0F8"
             },
             "line": {
              "color": "white"
             }
            },
            "header": {
             "fill": {
              "color": "#C8D4E3"
             },
             "line": {
              "color": "white"
             }
            },
            "type": "table"
           }
          ]
         },
         "layout": {
          "annotationdefaults": {
           "arrowcolor": "#2a3f5f",
           "arrowhead": 0,
           "arrowwidth": 1
          },
          "autotypenumbers": "strict",
          "coloraxis": {
           "colorbar": {
            "outlinewidth": 0,
            "ticks": ""
           }
          },
          "colorscale": {
           "diverging": [
            [
             0,
             "#8e0152"
            ],
            [
             0.1,
             "#c51b7d"
            ],
            [
             0.2,
             "#de77ae"
            ],
            [
             0.3,
             "#f1b6da"
            ],
            [
             0.4,
             "#fde0ef"
            ],
            [
             0.5,
             "#f7f7f7"
            ],
            [
             0.6,
             "#e6f5d0"
            ],
            [
             0.7,
             "#b8e186"
            ],
            [
             0.8,
             "#7fbc41"
            ],
            [
             0.9,
             "#4d9221"
            ],
            [
             1,
             "#276419"
            ]
           ],
           "sequential": [
            [
             0,
             "#0d0887"
            ],
            [
             0.1111111111111111,
             "#46039f"
            ],
            [
             0.2222222222222222,
             "#7201a8"
            ],
            [
             0.3333333333333333,
             "#9c179e"
            ],
            [
             0.4444444444444444,
             "#bd3786"
            ],
            [
             0.5555555555555556,
             "#d8576b"
            ],
            [
             0.6666666666666666,
             "#ed7953"
            ],
            [
             0.7777777777777778,
             "#fb9f3a"
            ],
            [
             0.8888888888888888,
             "#fdca26"
            ],
            [
             1,
             "#f0f921"
            ]
           ],
           "sequentialminus": [
            [
             0,
             "#0d0887"
            ],
            [
             0.1111111111111111,
             "#46039f"
            ],
            [
             0.2222222222222222,
             "#7201a8"
            ],
            [
             0.3333333333333333,
             "#9c179e"
            ],
            [
             0.4444444444444444,
             "#bd3786"
            ],
            [
             0.5555555555555556,
             "#d8576b"
            ],
            [
             0.6666666666666666,
             "#ed7953"
            ],
            [
             0.7777777777777778,
             "#fb9f3a"
            ],
            [
             0.8888888888888888,
             "#fdca26"
            ],
            [
             1,
             "#f0f921"
            ]
           ]
          },
          "colorway": [
           "#636efa",
           "#EF553B",
           "#00cc96",
           "#ab63fa",
           "#FFA15A",
           "#19d3f3",
           "#FF6692",
           "#B6E880",
           "#FF97FF",
           "#FECB52"
          ],
          "font": {
           "color": "#2a3f5f"
          },
          "geo": {
           "bgcolor": "white",
           "lakecolor": "white",
           "landcolor": "#E5ECF6",
           "showlakes": true,
           "showland": true,
           "subunitcolor": "white"
          },
          "hoverlabel": {
           "align": "left"
          },
          "hovermode": "closest",
          "mapbox": {
           "style": "light"
          },
          "paper_bgcolor": "white",
          "plot_bgcolor": "#E5ECF6",
          "polar": {
           "angularaxis": {
            "gridcolor": "white",
            "linecolor": "white",
            "ticks": ""
           },
           "bgcolor": "#E5ECF6",
           "radialaxis": {
            "gridcolor": "white",
            "linecolor": "white",
            "ticks": ""
           }
          },
          "scene": {
           "xaxis": {
            "backgroundcolor": "#E5ECF6",
            "gridcolor": "white",
            "gridwidth": 2,
            "linecolor": "white",
            "showbackground": true,
            "ticks": "",
            "zerolinecolor": "white"
           },
           "yaxis": {
            "backgroundcolor": "#E5ECF6",
            "gridcolor": "white",
            "gridwidth": 2,
            "linecolor": "white",
            "showbackground": true,
            "ticks": "",
            "zerolinecolor": "white"
           },
           "zaxis": {
            "backgroundcolor": "#E5ECF6",
            "gridcolor": "white",
            "gridwidth": 2,
            "linecolor": "white",
            "showbackground": true,
            "ticks": "",
            "zerolinecolor": "white"
           }
          },
          "shapedefaults": {
           "line": {
            "color": "#2a3f5f"
           }
          },
          "ternary": {
           "aaxis": {
            "gridcolor": "white",
            "linecolor": "white",
            "ticks": ""
           },
           "baxis": {
            "gridcolor": "white",
            "linecolor": "white",
            "ticks": ""
           },
           "bgcolor": "#E5ECF6",
           "caxis": {
            "gridcolor": "white",
            "linecolor": "white",
            "ticks": ""
           }
          },
          "title": {
           "x": 0.05
          },
          "xaxis": {
           "automargin": true,
           "gridcolor": "white",
           "linecolor": "white",
           "ticks": "",
           "title": {
            "standoff": 15
           },
           "zerolinecolor": "white",
           "zerolinewidth": 2
          },
          "yaxis": {
           "automargin": true,
           "gridcolor": "white",
           "linecolor": "white",
           "ticks": "",
           "title": {
            "standoff": 15
           },
           "zerolinecolor": "white",
           "zerolinewidth": 2
          }
         }
        },
        "title": {
         "font": {
          "size": 30
         }
        },
        "width": 800,
        "xaxis": {
         "title": {
          "text": "Power Inverter DC [W]"
         }
        },
        "yaxis": {
         "title": {
          "text": "Efficiency [%]"
         }
        }
       }
      }
     },
     "metadata": {},
     "output_type": "display_data"
    }
   ],
   "source": [
    "# Fit a line for MPPT and PWM controller efficiencies (vs power_inv_dc) and calculate their variances and plot the best-fit lines\n",
    "# For PWM controller\n",
    "# Get the x and y values\n",
    "x = dfpwm['power_inv_dc'].to_numpy()\n",
    "y = dfpwm['efficiency_controller'].to_numpy()\n",
    "# Fit a line to the data\n",
    "m, b = np.polyfit(x, y, 1)\n",
    "predicted_pwm = m * x + b\n",
    "# Calculate the variance\n",
    "variance_pwm = np.sum((predicted_pwm - y)**2) / len(y)\n",
    "\n",
    "\n",
    "# For MPPT controller\n",
    "# Get the x and y values\n",
    "x = dfmppt['power_inv_dc'].to_numpy()\n",
    "y = dfmppt['efficiency_controller'].to_numpy()\n",
    "# Fit a line to the data\n",
    "m, b = np.polyfit(x, y, 1)\n",
    "predicted_mppt = m * x + b\n",
    "# Calculate the variance\n",
    "variance_mppt = np.sum((predicted_mppt - y)**2) / len(y)\n",
    "\n",
    "# Print\n",
    "print(\"PWM variance: \", variance_pwm)\n",
    "print(\"MPPT variance: \", variance_mppt)\n",
    "\n",
    "# Plot the best-fit lines\n",
    "fig = go.Figure()\n",
    "fig.add_trace(go.Scatter(x=dfpwm['power_inv_dc'], y=dfpwm['efficiency_controller'], name='PR1010 Controller', mode='markers',marker=dict(size=marker_size, symbol='circle', line=dict(width=2, color='black'), opacity = marker_opacity)))\n",
    "fig.add_trace(go.Scatter(x=dfmppt['power_inv_dc'], y=dfmppt['efficiency_controller'], name='MPPT2010 Controller', mode='markers', marker=dict(size=marker_size, symbol='diamond', line=dict(width=2, color='black'), opacity = marker_opacity)))\n",
    "fig.add_trace(go.Scatter(x=dfpwm['power_inv_dc'], y=predicted_pwm, name='PR1010 Controller Best Fit', mode='lines', marker=dict(size=marker_size, symbol='circle', line=dict(width=2, color='black'), opacity = marker_opacity)))\n",
    "fig.add_trace(go.Scatter(x=dfmppt['power_inv_dc'], y=predicted_mppt, name='MPPT2010 Controller Best Fit', mode='lines', marker=dict(size=marker_size, symbol='diamond', line=dict(width=2, color='black'), opacity = marker_opacity)))\n",
    "# Update this plot to 800x800\n",
    "fig.update_layout(width=800,height=800)\n",
    "# Legend to the top\n",
    "fig.update_layout(legend=dict(\n",
    "    orientation=\"h\",\n",
    "    yanchor=\"bottom\",\n",
    "    y=1.0,\n",
    "    xanchor=\"right\",\n",
    "    x=0.95\n",
    "))\n",
    "# Label x-axis\n",
    "fig.update_layout(xaxis_title='Power Inverter DC [W]')\n",
    "# Label y-axis\n",
    "fig.update_layout(yaxis_title='Efficiency [%]')\n",
    "# Update font size\n",
    "fig.update_layout(font=dict(size=20))\n",
    "# Update title font size\n",
    "fig.update_layout(title_font=dict(size=30))\n",
    "\n",
    "fig.show()"
   ]
  },
  {
   "cell_type": "markdown",
   "metadata": {},
   "source": [
    "# Task 3 Part 2"
   ]
  },
  {
   "cell_type": "code",
   "execution_count": null,
   "metadata": {},
   "outputs": [
    {
     "data": {
      "application/vnd.plotly.v1+json": {
       "config": {
        "plotlyServerURL": "https://plot.ly"
       },
       "data": [
        {
         "marker": {
          "line": {
           "color": "black",
           "width": 2
          },
          "opacity": 0.85,
          "size": 14,
          "symbol": "circle"
         },
         "mode": "markers",
         "name": "Inverter Efficiency",
         "type": "scatter",
         "x": [
          0.0048,
          8.315,
          14.212,
          18.4518,
          25.014,
          30.472000000000005,
          34.648399999999995,
          40.0356,
          46.9125,
          53.14379999999999,
          58.5125,
          63.943200000000004,
          67.8125
         ],
         "y": [
          0,
          61.334936861094405,
          68.95581198986773,
          78.58311926207742,
          77.95634444710961,
          81.71436072459962,
          84.85240299696379,
          86.17330575787548,
          84.41247002398082,
          85.24042315378276,
          86.13544114505447,
          85.54467089541969,
          88.33179723502303
         ]
        }
       ],
       "layout": {
        "font": {
         "size": 20
        },
        "height": 800,
        "legend": {
         "orientation": "h",
         "x": 0.95,
         "xanchor": "right",
         "y": 1,
         "yanchor": "bottom"
        },
        "template": {
         "data": {
          "bar": [
           {
            "error_x": {
             "color": "#2a3f5f"
            },
            "error_y": {
             "color": "#2a3f5f"
            },
            "marker": {
             "line": {
              "color": "#E5ECF6",
              "width": 0.5
             },
             "pattern": {
              "fillmode": "overlay",
              "size": 10,
              "solidity": 0.2
             }
            },
            "type": "bar"
           }
          ],
          "barpolar": [
           {
            "marker": {
             "line": {
              "color": "#E5ECF6",
              "width": 0.5
             },
             "pattern": {
              "fillmode": "overlay",
              "size": 10,
              "solidity": 0.2
             }
            },
            "type": "barpolar"
           }
          ],
          "carpet": [
           {
            "aaxis": {
             "endlinecolor": "#2a3f5f",
             "gridcolor": "white",
             "linecolor": "white",
             "minorgridcolor": "white",
             "startlinecolor": "#2a3f5f"
            },
            "baxis": {
             "endlinecolor": "#2a3f5f",
             "gridcolor": "white",
             "linecolor": "white",
             "minorgridcolor": "white",
             "startlinecolor": "#2a3f5f"
            },
            "type": "carpet"
           }
          ],
          "choropleth": [
           {
            "colorbar": {
             "outlinewidth": 0,
             "ticks": ""
            },
            "type": "choropleth"
           }
          ],
          "contour": [
           {
            "colorbar": {
             "outlinewidth": 0,
             "ticks": ""
            },
            "colorscale": [
             [
              0,
              "#0d0887"
             ],
             [
              0.1111111111111111,
              "#46039f"
             ],
             [
              0.2222222222222222,
              "#7201a8"
             ],
             [
              0.3333333333333333,
              "#9c179e"
             ],
             [
              0.4444444444444444,
              "#bd3786"
             ],
             [
              0.5555555555555556,
              "#d8576b"
             ],
             [
              0.6666666666666666,
              "#ed7953"
             ],
             [
              0.7777777777777778,
              "#fb9f3a"
             ],
             [
              0.8888888888888888,
              "#fdca26"
             ],
             [
              1,
              "#f0f921"
             ]
            ],
            "type": "contour"
           }
          ],
          "contourcarpet": [
           {
            "colorbar": {
             "outlinewidth": 0,
             "ticks": ""
            },
            "type": "contourcarpet"
           }
          ],
          "heatmap": [
           {
            "colorbar": {
             "outlinewidth": 0,
             "ticks": ""
            },
            "colorscale": [
             [
              0,
              "#0d0887"
             ],
             [
              0.1111111111111111,
              "#46039f"
             ],
             [
              0.2222222222222222,
              "#7201a8"
             ],
             [
              0.3333333333333333,
              "#9c179e"
             ],
             [
              0.4444444444444444,
              "#bd3786"
             ],
             [
              0.5555555555555556,
              "#d8576b"
             ],
             [
              0.6666666666666666,
              "#ed7953"
             ],
             [
              0.7777777777777778,
              "#fb9f3a"
             ],
             [
              0.8888888888888888,
              "#fdca26"
             ],
             [
              1,
              "#f0f921"
             ]
            ],
            "type": "heatmap"
           }
          ],
          "heatmapgl": [
           {
            "colorbar": {
             "outlinewidth": 0,
             "ticks": ""
            },
            "colorscale": [
             [
              0,
              "#0d0887"
             ],
             [
              0.1111111111111111,
              "#46039f"
             ],
             [
              0.2222222222222222,
              "#7201a8"
             ],
             [
              0.3333333333333333,
              "#9c179e"
             ],
             [
              0.4444444444444444,
              "#bd3786"
             ],
             [
              0.5555555555555556,
              "#d8576b"
             ],
             [
              0.6666666666666666,
              "#ed7953"
             ],
             [
              0.7777777777777778,
              "#fb9f3a"
             ],
             [
              0.8888888888888888,
              "#fdca26"
             ],
             [
              1,
              "#f0f921"
             ]
            ],
            "type": "heatmapgl"
           }
          ],
          "histogram": [
           {
            "marker": {
             "pattern": {
              "fillmode": "overlay",
              "size": 10,
              "solidity": 0.2
             }
            },
            "type": "histogram"
           }
          ],
          "histogram2d": [
           {
            "colorbar": {
             "outlinewidth": 0,
             "ticks": ""
            },
            "colorscale": [
             [
              0,
              "#0d0887"
             ],
             [
              0.1111111111111111,
              "#46039f"
             ],
             [
              0.2222222222222222,
              "#7201a8"
             ],
             [
              0.3333333333333333,
              "#9c179e"
             ],
             [
              0.4444444444444444,
              "#bd3786"
             ],
             [
              0.5555555555555556,
              "#d8576b"
             ],
             [
              0.6666666666666666,
              "#ed7953"
             ],
             [
              0.7777777777777778,
              "#fb9f3a"
             ],
             [
              0.8888888888888888,
              "#fdca26"
             ],
             [
              1,
              "#f0f921"
             ]
            ],
            "type": "histogram2d"
           }
          ],
          "histogram2dcontour": [
           {
            "colorbar": {
             "outlinewidth": 0,
             "ticks": ""
            },
            "colorscale": [
             [
              0,
              "#0d0887"
             ],
             [
              0.1111111111111111,
              "#46039f"
             ],
             [
              0.2222222222222222,
              "#7201a8"
             ],
             [
              0.3333333333333333,
              "#9c179e"
             ],
             [
              0.4444444444444444,
              "#bd3786"
             ],
             [
              0.5555555555555556,
              "#d8576b"
             ],
             [
              0.6666666666666666,
              "#ed7953"
             ],
             [
              0.7777777777777778,
              "#fb9f3a"
             ],
             [
              0.8888888888888888,
              "#fdca26"
             ],
             [
              1,
              "#f0f921"
             ]
            ],
            "type": "histogram2dcontour"
           }
          ],
          "mesh3d": [
           {
            "colorbar": {
             "outlinewidth": 0,
             "ticks": ""
            },
            "type": "mesh3d"
           }
          ],
          "parcoords": [
           {
            "line": {
             "colorbar": {
              "outlinewidth": 0,
              "ticks": ""
             }
            },
            "type": "parcoords"
           }
          ],
          "pie": [
           {
            "automargin": true,
            "type": "pie"
           }
          ],
          "scatter": [
           {
            "fillpattern": {
             "fillmode": "overlay",
             "size": 10,
             "solidity": 0.2
            },
            "type": "scatter"
           }
          ],
          "scatter3d": [
           {
            "line": {
             "colorbar": {
              "outlinewidth": 0,
              "ticks": ""
             }
            },
            "marker": {
             "colorbar": {
              "outlinewidth": 0,
              "ticks": ""
             }
            },
            "type": "scatter3d"
           }
          ],
          "scattercarpet": [
           {
            "marker": {
             "colorbar": {
              "outlinewidth": 0,
              "ticks": ""
             }
            },
            "type": "scattercarpet"
           }
          ],
          "scattergeo": [
           {
            "marker": {
             "colorbar": {
              "outlinewidth": 0,
              "ticks": ""
             }
            },
            "type": "scattergeo"
           }
          ],
          "scattergl": [
           {
            "marker": {
             "colorbar": {
              "outlinewidth": 0,
              "ticks": ""
             }
            },
            "type": "scattergl"
           }
          ],
          "scattermapbox": [
           {
            "marker": {
             "colorbar": {
              "outlinewidth": 0,
              "ticks": ""
             }
            },
            "type": "scattermapbox"
           }
          ],
          "scatterpolar": [
           {
            "marker": {
             "colorbar": {
              "outlinewidth": 0,
              "ticks": ""
             }
            },
            "type": "scatterpolar"
           }
          ],
          "scatterpolargl": [
           {
            "marker": {
             "colorbar": {
              "outlinewidth": 0,
              "ticks": ""
             }
            },
            "type": "scatterpolargl"
           }
          ],
          "scatterternary": [
           {
            "marker": {
             "colorbar": {
              "outlinewidth": 0,
              "ticks": ""
             }
            },
            "type": "scatterternary"
           }
          ],
          "surface": [
           {
            "colorbar": {
             "outlinewidth": 0,
             "ticks": ""
            },
            "colorscale": [
             [
              0,
              "#0d0887"
             ],
             [
              0.1111111111111111,
              "#46039f"
             ],
             [
              0.2222222222222222,
              "#7201a8"
             ],
             [
              0.3333333333333333,
              "#9c179e"
             ],
             [
              0.4444444444444444,
              "#bd3786"
             ],
             [
              0.5555555555555556,
              "#d8576b"
             ],
             [
              0.6666666666666666,
              "#ed7953"
             ],
             [
              0.7777777777777778,
              "#fb9f3a"
             ],
             [
              0.8888888888888888,
              "#fdca26"
             ],
             [
              1,
              "#f0f921"
             ]
            ],
            "type": "surface"
           }
          ],
          "table": [
           {
            "cells": {
             "fill": {
              "color": "#EBF0F8"
             },
             "line": {
              "color": "white"
             }
            },
            "header": {
             "fill": {
              "color": "#C8D4E3"
             },
             "line": {
              "color": "white"
             }
            },
            "type": "table"
           }
          ]
         },
         "layout": {
          "annotationdefaults": {
           "arrowcolor": "#2a3f5f",
           "arrowhead": 0,
           "arrowwidth": 1
          },
          "autotypenumbers": "strict",
          "coloraxis": {
           "colorbar": {
            "outlinewidth": 0,
            "ticks": ""
           }
          },
          "colorscale": {
           "diverging": [
            [
             0,
             "#8e0152"
            ],
            [
             0.1,
             "#c51b7d"
            ],
            [
             0.2,
             "#de77ae"
            ],
            [
             0.3,
             "#f1b6da"
            ],
            [
             0.4,
             "#fde0ef"
            ],
            [
             0.5,
             "#f7f7f7"
            ],
            [
             0.6,
             "#e6f5d0"
            ],
            [
             0.7,
             "#b8e186"
            ],
            [
             0.8,
             "#7fbc41"
            ],
            [
             0.9,
             "#4d9221"
            ],
            [
             1,
             "#276419"
            ]
           ],
           "sequential": [
            [
             0,
             "#0d0887"
            ],
            [
             0.1111111111111111,
             "#46039f"
            ],
            [
             0.2222222222222222,
             "#7201a8"
            ],
            [
             0.3333333333333333,
             "#9c179e"
            ],
            [
             0.4444444444444444,
             "#bd3786"
            ],
            [
             0.5555555555555556,
             "#d8576b"
            ],
            [
             0.6666666666666666,
             "#ed7953"
            ],
            [
             0.7777777777777778,
             "#fb9f3a"
            ],
            [
             0.8888888888888888,
             "#fdca26"
            ],
            [
             1,
             "#f0f921"
            ]
           ],
           "sequentialminus": [
            [
             0,
             "#0d0887"
            ],
            [
             0.1111111111111111,
             "#46039f"
            ],
            [
             0.2222222222222222,
             "#7201a8"
            ],
            [
             0.3333333333333333,
             "#9c179e"
            ],
            [
             0.4444444444444444,
             "#bd3786"
            ],
            [
             0.5555555555555556,
             "#d8576b"
            ],
            [
             0.6666666666666666,
             "#ed7953"
            ],
            [
             0.7777777777777778,
             "#fb9f3a"
            ],
            [
             0.8888888888888888,
             "#fdca26"
            ],
            [
             1,
             "#f0f921"
            ]
           ]
          },
          "colorway": [
           "#636efa",
           "#EF553B",
           "#00cc96",
           "#ab63fa",
           "#FFA15A",
           "#19d3f3",
           "#FF6692",
           "#B6E880",
           "#FF97FF",
           "#FECB52"
          ],
          "font": {
           "color": "#2a3f5f"
          },
          "geo": {
           "bgcolor": "white",
           "lakecolor": "white",
           "landcolor": "#E5ECF6",
           "showlakes": true,
           "showland": true,
           "subunitcolor": "white"
          },
          "hoverlabel": {
           "align": "left"
          },
          "hovermode": "closest",
          "mapbox": {
           "style": "light"
          },
          "paper_bgcolor": "white",
          "plot_bgcolor": "#E5ECF6",
          "polar": {
           "angularaxis": {
            "gridcolor": "white",
            "linecolor": "white",
            "ticks": ""
           },
           "bgcolor": "#E5ECF6",
           "radialaxis": {
            "gridcolor": "white",
            "linecolor": "white",
            "ticks": ""
           }
          },
          "scene": {
           "xaxis": {
            "backgroundcolor": "#E5ECF6",
            "gridcolor": "white",
            "gridwidth": 2,
            "linecolor": "white",
            "showbackground": true,
            "ticks": "",
            "zerolinecolor": "white"
           },
           "yaxis": {
            "backgroundcolor": "#E5ECF6",
            "gridcolor": "white",
            "gridwidth": 2,
            "linecolor": "white",
            "showbackground": true,
            "ticks": "",
            "zerolinecolor": "white"
           },
           "zaxis": {
            "backgroundcolor": "#E5ECF6",
            "gridcolor": "white",
            "gridwidth": 2,
            "linecolor": "white",
            "showbackground": true,
            "ticks": "",
            "zerolinecolor": "white"
           }
          },
          "shapedefaults": {
           "line": {
            "color": "#2a3f5f"
           }
          },
          "ternary": {
           "aaxis": {
            "gridcolor": "white",
            "linecolor": "white",
            "ticks": ""
           },
           "baxis": {
            "gridcolor": "white",
            "linecolor": "white",
            "ticks": ""
           },
           "bgcolor": "#E5ECF6",
           "caxis": {
            "gridcolor": "white",
            "linecolor": "white",
            "ticks": ""
           }
          },
          "title": {
           "x": 0.05
          },
          "xaxis": {
           "automargin": true,
           "gridcolor": "white",
           "linecolor": "white",
           "ticks": "",
           "title": {
            "standoff": 15
           },
           "zerolinecolor": "white",
           "zerolinewidth": 2
          },
          "yaxis": {
           "automargin": true,
           "gridcolor": "white",
           "linecolor": "white",
           "ticks": "",
           "title": {
            "standoff": 15
           },
           "zerolinecolor": "white",
           "zerolinewidth": 2
          }
         }
        },
        "title": {
         "font": {
          "size": 30
         },
         "text": "Grid-Tied Inverter Efficiency",
         "y": 0.99
        },
        "width": 800,
        "xaxis": {
         "title": {
          "text": "Generated Power [W]"
         }
        },
        "yaxis": {
         "title": {
          "text": "Efficiency [%]"
         }
        }
       }
      }
     },
     "metadata": {},
     "output_type": "display_data"
    }
   ],
   "source": [
    "# Plot task 3 part 2\n",
    "# The columns of t3p2df are: 'power_aimed', 'voltage_pv', 'current_pv', 'power_pv', 'power_inv_ac'\n",
    "t3p2df = pd.read_csv(\"./data/t3p2.csv\")\n",
    "# Replace 0 current with very low current 0.01\n",
    "t3p2df['current_pv'] = t3p2df['current_pv'].replace(0, 0.01)\n",
    "# Calculate power_pv\n",
    "t3p2df['power_pv'] = t3p2df['voltage_pv'] * t3p2df['current_pv']\n",
    "# Calculate inverter efficiency\n",
    "t3p2df['efficiency'] = t3p2df['power_inv_ac'] / t3p2df['power_pv']\n",
    "# Convert to %\n",
    "t3p2df['efficiency'] *= 100\n",
    "t3p2df.head(10)\n",
    "# Plot efficiency vs power PV\n",
    "fig = go.Figure()\n",
    "fig.add_trace(go.Scatter(x=t3p2df['power_pv'], y=t3p2df['efficiency'], name='Inverter Efficiency', mode='markers', marker=dict(size=marker_size, symbol='circle', line=dict(width=2, color='black'), opacity = marker_opacity)))\n",
    "fig.update_layout(title='Grid-Tied Inverter Efficiency', xaxis_title='Generated Power [W]', yaxis_title='Efficiency [%]')\n",
    "fig.update_layout(font=dict(size=20))\n",
    "fig.update_layout(title_font=dict(size=30))\n",
    "fig.update_layout(width=800,height=800)\n",
    "fig.update_layout(legend=dict(\n",
    "    orientation=\"h\",\n",
    "    yanchor=\"bottom\",\n",
    "    y=1.0,\n",
    "    xanchor=\"right\",\n",
    "    x=0.95\n",
    "))\n",
    "fig.update_layout(title=dict(y=0.99))\n",
    "fig.show()\n",
    "fig.write_image(\"./plots/t3/efficiency_inverter_gridtied.png\")"
   ]
  },
  {
   "cell_type": "code",
   "execution_count": null,
   "metadata": {},
   "outputs": [
    {
     "data": {
      "application/vnd.plotly.v1+json": {
       "config": {
        "plotlyServerURL": "https://plot.ly"
       },
       "data": [
        {
         "marker": {
          "line": {
           "color": "black",
           "width": 2
          },
          "opacity": 0.85,
          "size": 14,
          "symbol": "circle"
         },
         "mode": "markers",
         "name": "PR1010 Inverter",
         "type": "scatter",
         "x": [
          9.0176,
          14.1097,
          18.3084,
          22.825,
          27.471999999999998,
          34.1044,
          40.7286,
          46.3232,
          52.52,
          57.9535,
          64.66560000000001,
          67.78240000000001,
          77.049,
          83.1092,
          91.2209,
          98.8695,
          105.46589999999999
         ],
         "y": [
          24.396735273243436,
          46.776331176424726,
          57.35072425771778,
          66.15553121577219,
          72.43739079790332,
          74.47719355860241,
          74.64042466473191,
          74.69259463940315,
          77.3038842345773,
          78.85632446702961,
          77.6301464766429,
          80.84694551978093,
          76.70443484016664,
          77.84938370240599,
          77.39454445198413,
          77.27357779699503,
          76.23317110080131
         ]
        },
        {
         "marker": {
          "line": {
           "color": "black",
           "width": 2
          },
          "opacity": 0.85,
          "size": 14,
          "symbol": "diamond"
         },
         "mode": "markers",
         "name": "MPPT2010 Inverter",
         "type": "scatter",
         "x": [
          8.983,
          12.703600000000002,
          18.2352,
          23.024199999999997,
          27.661,
          33.962500000000006,
          40.71,
          46.5674,
          52.8942,
          58.5598,
          64.7702,
          68.4372,
          76.714,
          83.3166,
          89.29050000000001,
          94.50540000000001,
          102.8223
         ],
         "y": [
          24.490704664366024,
          44.08199250606127,
          57.58094235325086,
          63.845866523049665,
          71.94244604316546,
          74.49392712550606,
          75.4114468189634,
          74.73039078840561,
          78.26945109293646,
          77.52758718438245,
          77.19599445423975,
          80.07341036746097,
          78.21258179732513,
          78.37573784815991,
          78.61978597947149,
          78.40821794310166,
          78.58217526742739
         ]
        },
        {
         "marker": {
          "line": {
           "color": "black",
           "width": 2
          },
          "opacity": 0.85,
          "size": 14,
          "symbol": "square"
         },
         "mode": "markers",
         "name": "Grid-Tied Inverter",
         "type": "scatter",
         "x": [
          0.0048,
          8.315,
          14.212,
          18.4518,
          25.014,
          30.472000000000005,
          34.648399999999995,
          40.0356,
          46.9125,
          53.14379999999999,
          58.5125,
          63.943200000000004,
          67.8125
         ],
         "y": [
          0,
          61.334936861094405,
          68.95581198986773,
          78.58311926207742,
          77.95634444710961,
          81.71436072459962,
          84.85240299696379,
          86.17330575787548,
          84.41247002398082,
          85.24042315378276,
          86.13544114505447,
          85.54467089541969,
          88.33179723502303
         ]
        }
       ],
       "layout": {
        "annotations": [
         {
          "arrowhead": 1,
          "ax": -145,
          "ay": -35,
          "bgcolor": "white",
          "font": {
           "color": "green",
           "size": 21
          },
          "showarrow": true,
          "text": "PR1010 \nBattery Discharge",
          "x": 64.66560000000001,
          "y": 10
         },
         {
          "arrowhead": 1,
          "ax": -205,
          "ay": -65,
          "bgcolor": "white",
          "font": {
           "color": "orange",
           "size": 21
          },
          "showarrow": true,
          "text": "MPPT2010 \nBattery Discharge",
          "x": 76.714,
          "y": 19
         }
        ],
        "font": {
         "size": 20
        },
        "height": 800,
        "legend": {
         "orientation": "h",
         "x": 0.95,
         "xanchor": "right",
         "y": 1,
         "yanchor": "bottom"
        },
        "shapes": [
         {
          "line": {
           "color": "green",
           "dash": "dash",
           "width": 3
          },
          "opacity": 0.66,
          "type": "line",
          "x0": 64.66560000000001,
          "x1": 64.66560000000001,
          "xref": "x",
          "y0": 0,
          "y1": 1,
          "yref": "y domain"
         },
         {
          "line": {
           "color": "orange",
           "dash": "longdashdot",
           "width": 3
          },
          "opacity": 0.66,
          "type": "line",
          "x0": 76.714,
          "x1": 76.714,
          "xref": "x",
          "y0": 0,
          "y1": 1,
          "yref": "y domain"
         }
        ],
        "template": {
         "data": {
          "bar": [
           {
            "error_x": {
             "color": "#2a3f5f"
            },
            "error_y": {
             "color": "#2a3f5f"
            },
            "marker": {
             "line": {
              "color": "#E5ECF6",
              "width": 0.5
             },
             "pattern": {
              "fillmode": "overlay",
              "size": 10,
              "solidity": 0.2
             }
            },
            "type": "bar"
           }
          ],
          "barpolar": [
           {
            "marker": {
             "line": {
              "color": "#E5ECF6",
              "width": 0.5
             },
             "pattern": {
              "fillmode": "overlay",
              "size": 10,
              "solidity": 0.2
             }
            },
            "type": "barpolar"
           }
          ],
          "carpet": [
           {
            "aaxis": {
             "endlinecolor": "#2a3f5f",
             "gridcolor": "white",
             "linecolor": "white",
             "minorgridcolor": "white",
             "startlinecolor": "#2a3f5f"
            },
            "baxis": {
             "endlinecolor": "#2a3f5f",
             "gridcolor": "white",
             "linecolor": "white",
             "minorgridcolor": "white",
             "startlinecolor": "#2a3f5f"
            },
            "type": "carpet"
           }
          ],
          "choropleth": [
           {
            "colorbar": {
             "outlinewidth": 0,
             "ticks": ""
            },
            "type": "choropleth"
           }
          ],
          "contour": [
           {
            "colorbar": {
             "outlinewidth": 0,
             "ticks": ""
            },
            "colorscale": [
             [
              0,
              "#0d0887"
             ],
             [
              0.1111111111111111,
              "#46039f"
             ],
             [
              0.2222222222222222,
              "#7201a8"
             ],
             [
              0.3333333333333333,
              "#9c179e"
             ],
             [
              0.4444444444444444,
              "#bd3786"
             ],
             [
              0.5555555555555556,
              "#d8576b"
             ],
             [
              0.6666666666666666,
              "#ed7953"
             ],
             [
              0.7777777777777778,
              "#fb9f3a"
             ],
             [
              0.8888888888888888,
              "#fdca26"
             ],
             [
              1,
              "#f0f921"
             ]
            ],
            "type": "contour"
           }
          ],
          "contourcarpet": [
           {
            "colorbar": {
             "outlinewidth": 0,
             "ticks": ""
            },
            "type": "contourcarpet"
           }
          ],
          "heatmap": [
           {
            "colorbar": {
             "outlinewidth": 0,
             "ticks": ""
            },
            "colorscale": [
             [
              0,
              "#0d0887"
             ],
             [
              0.1111111111111111,
              "#46039f"
             ],
             [
              0.2222222222222222,
              "#7201a8"
             ],
             [
              0.3333333333333333,
              "#9c179e"
             ],
             [
              0.4444444444444444,
              "#bd3786"
             ],
             [
              0.5555555555555556,
              "#d8576b"
             ],
             [
              0.6666666666666666,
              "#ed7953"
             ],
             [
              0.7777777777777778,
              "#fb9f3a"
             ],
             [
              0.8888888888888888,
              "#fdca26"
             ],
             [
              1,
              "#f0f921"
             ]
            ],
            "type": "heatmap"
           }
          ],
          "heatmapgl": [
           {
            "colorbar": {
             "outlinewidth": 0,
             "ticks": ""
            },
            "colorscale": [
             [
              0,
              "#0d0887"
             ],
             [
              0.1111111111111111,
              "#46039f"
             ],
             [
              0.2222222222222222,
              "#7201a8"
             ],
             [
              0.3333333333333333,
              "#9c179e"
             ],
             [
              0.4444444444444444,
              "#bd3786"
             ],
             [
              0.5555555555555556,
              "#d8576b"
             ],
             [
              0.6666666666666666,
              "#ed7953"
             ],
             [
              0.7777777777777778,
              "#fb9f3a"
             ],
             [
              0.8888888888888888,
              "#fdca26"
             ],
             [
              1,
              "#f0f921"
             ]
            ],
            "type": "heatmapgl"
           }
          ],
          "histogram": [
           {
            "marker": {
             "pattern": {
              "fillmode": "overlay",
              "size": 10,
              "solidity": 0.2
             }
            },
            "type": "histogram"
           }
          ],
          "histogram2d": [
           {
            "colorbar": {
             "outlinewidth": 0,
             "ticks": ""
            },
            "colorscale": [
             [
              0,
              "#0d0887"
             ],
             [
              0.1111111111111111,
              "#46039f"
             ],
             [
              0.2222222222222222,
              "#7201a8"
             ],
             [
              0.3333333333333333,
              "#9c179e"
             ],
             [
              0.4444444444444444,
              "#bd3786"
             ],
             [
              0.5555555555555556,
              "#d8576b"
             ],
             [
              0.6666666666666666,
              "#ed7953"
             ],
             [
              0.7777777777777778,
              "#fb9f3a"
             ],
             [
              0.8888888888888888,
              "#fdca26"
             ],
             [
              1,
              "#f0f921"
             ]
            ],
            "type": "histogram2d"
           }
          ],
          "histogram2dcontour": [
           {
            "colorbar": {
             "outlinewidth": 0,
             "ticks": ""
            },
            "colorscale": [
             [
              0,
              "#0d0887"
             ],
             [
              0.1111111111111111,
              "#46039f"
             ],
             [
              0.2222222222222222,
              "#7201a8"
             ],
             [
              0.3333333333333333,
              "#9c179e"
             ],
             [
              0.4444444444444444,
              "#bd3786"
             ],
             [
              0.5555555555555556,
              "#d8576b"
             ],
             [
              0.6666666666666666,
              "#ed7953"
             ],
             [
              0.7777777777777778,
              "#fb9f3a"
             ],
             [
              0.8888888888888888,
              "#fdca26"
             ],
             [
              1,
              "#f0f921"
             ]
            ],
            "type": "histogram2dcontour"
           }
          ],
          "mesh3d": [
           {
            "colorbar": {
             "outlinewidth": 0,
             "ticks": ""
            },
            "type": "mesh3d"
           }
          ],
          "parcoords": [
           {
            "line": {
             "colorbar": {
              "outlinewidth": 0,
              "ticks": ""
             }
            },
            "type": "parcoords"
           }
          ],
          "pie": [
           {
            "automargin": true,
            "type": "pie"
           }
          ],
          "scatter": [
           {
            "fillpattern": {
             "fillmode": "overlay",
             "size": 10,
             "solidity": 0.2
            },
            "type": "scatter"
           }
          ],
          "scatter3d": [
           {
            "line": {
             "colorbar": {
              "outlinewidth": 0,
              "ticks": ""
             }
            },
            "marker": {
             "colorbar": {
              "outlinewidth": 0,
              "ticks": ""
             }
            },
            "type": "scatter3d"
           }
          ],
          "scattercarpet": [
           {
            "marker": {
             "colorbar": {
              "outlinewidth": 0,
              "ticks": ""
             }
            },
            "type": "scattercarpet"
           }
          ],
          "scattergeo": [
           {
            "marker": {
             "colorbar": {
              "outlinewidth": 0,
              "ticks": ""
             }
            },
            "type": "scattergeo"
           }
          ],
          "scattergl": [
           {
            "marker": {
             "colorbar": {
              "outlinewidth": 0,
              "ticks": ""
             }
            },
            "type": "scattergl"
           }
          ],
          "scattermapbox": [
           {
            "marker": {
             "colorbar": {
              "outlinewidth": 0,
              "ticks": ""
             }
            },
            "type": "scattermapbox"
           }
          ],
          "scatterpolar": [
           {
            "marker": {
             "colorbar": {
              "outlinewidth": 0,
              "ticks": ""
             }
            },
            "type": "scatterpolar"
           }
          ],
          "scatterpolargl": [
           {
            "marker": {
             "colorbar": {
              "outlinewidth": 0,
              "ticks": ""
             }
            },
            "type": "scatterpolargl"
           }
          ],
          "scatterternary": [
           {
            "marker": {
             "colorbar": {
              "outlinewidth": 0,
              "ticks": ""
             }
            },
            "type": "scatterternary"
           }
          ],
          "surface": [
           {
            "colorbar": {
             "outlinewidth": 0,
             "ticks": ""
            },
            "colorscale": [
             [
              0,
              "#0d0887"
             ],
             [
              0.1111111111111111,
              "#46039f"
             ],
             [
              0.2222222222222222,
              "#7201a8"
             ],
             [
              0.3333333333333333,
              "#9c179e"
             ],
             [
              0.4444444444444444,
              "#bd3786"
             ],
             [
              0.5555555555555556,
              "#d8576b"
             ],
             [
              0.6666666666666666,
              "#ed7953"
             ],
             [
              0.7777777777777778,
              "#fb9f3a"
             ],
             [
              0.8888888888888888,
              "#fdca26"
             ],
             [
              1,
              "#f0f921"
             ]
            ],
            "type": "surface"
           }
          ],
          "table": [
           {
            "cells": {
             "fill": {
              "color": "#EBF0F8"
             },
             "line": {
              "color": "white"
             }
            },
            "header": {
             "fill": {
              "color": "#C8D4E3"
             },
             "line": {
              "color": "white"
             }
            },
            "type": "table"
           }
          ]
         },
         "layout": {
          "annotationdefaults": {
           "arrowcolor": "#2a3f5f",
           "arrowhead": 0,
           "arrowwidth": 1
          },
          "autotypenumbers": "strict",
          "coloraxis": {
           "colorbar": {
            "outlinewidth": 0,
            "ticks": ""
           }
          },
          "colorscale": {
           "diverging": [
            [
             0,
             "#8e0152"
            ],
            [
             0.1,
             "#c51b7d"
            ],
            [
             0.2,
             "#de77ae"
            ],
            [
             0.3,
             "#f1b6da"
            ],
            [
             0.4,
             "#fde0ef"
            ],
            [
             0.5,
             "#f7f7f7"
            ],
            [
             0.6,
             "#e6f5d0"
            ],
            [
             0.7,
             "#b8e186"
            ],
            [
             0.8,
             "#7fbc41"
            ],
            [
             0.9,
             "#4d9221"
            ],
            [
             1,
             "#276419"
            ]
           ],
           "sequential": [
            [
             0,
             "#0d0887"
            ],
            [
             0.1111111111111111,
             "#46039f"
            ],
            [
             0.2222222222222222,
             "#7201a8"
            ],
            [
             0.3333333333333333,
             "#9c179e"
            ],
            [
             0.4444444444444444,
             "#bd3786"
            ],
            [
             0.5555555555555556,
             "#d8576b"
            ],
            [
             0.6666666666666666,
             "#ed7953"
            ],
            [
             0.7777777777777778,
             "#fb9f3a"
            ],
            [
             0.8888888888888888,
             "#fdca26"
            ],
            [
             1,
             "#f0f921"
            ]
           ],
           "sequentialminus": [
            [
             0,
             "#0d0887"
            ],
            [
             0.1111111111111111,
             "#46039f"
            ],
            [
             0.2222222222222222,
             "#7201a8"
            ],
            [
             0.3333333333333333,
             "#9c179e"
            ],
            [
             0.4444444444444444,
             "#bd3786"
            ],
            [
             0.5555555555555556,
             "#d8576b"
            ],
            [
             0.6666666666666666,
             "#ed7953"
            ],
            [
             0.7777777777777778,
             "#fb9f3a"
            ],
            [
             0.8888888888888888,
             "#fdca26"
            ],
            [
             1,
             "#f0f921"
            ]
           ]
          },
          "colorway": [
           "#636efa",
           "#EF553B",
           "#00cc96",
           "#ab63fa",
           "#FFA15A",
           "#19d3f3",
           "#FF6692",
           "#B6E880",
           "#FF97FF",
           "#FECB52"
          ],
          "font": {
           "color": "#2a3f5f"
          },
          "geo": {
           "bgcolor": "white",
           "lakecolor": "white",
           "landcolor": "#E5ECF6",
           "showlakes": true,
           "showland": true,
           "subunitcolor": "white"
          },
          "hoverlabel": {
           "align": "left"
          },
          "hovermode": "closest",
          "mapbox": {
           "style": "light"
          },
          "paper_bgcolor": "white",
          "plot_bgcolor": "#E5ECF6",
          "polar": {
           "angularaxis": {
            "gridcolor": "white",
            "linecolor": "white",
            "ticks": ""
           },
           "bgcolor": "#E5ECF6",
           "radialaxis": {
            "gridcolor": "white",
            "linecolor": "white",
            "ticks": ""
           }
          },
          "scene": {
           "xaxis": {
            "backgroundcolor": "#E5ECF6",
            "gridcolor": "white",
            "gridwidth": 2,
            "linecolor": "white",
            "showbackground": true,
            "ticks": "",
            "zerolinecolor": "white"
           },
           "yaxis": {
            "backgroundcolor": "#E5ECF6",
            "gridcolor": "white",
            "gridwidth": 2,
            "linecolor": "white",
            "showbackground": true,
            "ticks": "",
            "zerolinecolor": "white"
           },
           "zaxis": {
            "backgroundcolor": "#E5ECF6",
            "gridcolor": "white",
            "gridwidth": 2,
            "linecolor": "white",
            "showbackground": true,
            "ticks": "",
            "zerolinecolor": "white"
           }
          },
          "shapedefaults": {
           "line": {
            "color": "#2a3f5f"
           }
          },
          "ternary": {
           "aaxis": {
            "gridcolor": "white",
            "linecolor": "white",
            "ticks": ""
           },
           "baxis": {
            "gridcolor": "white",
            "linecolor": "white",
            "ticks": ""
           },
           "bgcolor": "#E5ECF6",
           "caxis": {
            "gridcolor": "white",
            "linecolor": "white",
            "ticks": ""
           }
          },
          "title": {
           "x": 0.05
          },
          "xaxis": {
           "automargin": true,
           "gridcolor": "white",
           "linecolor": "white",
           "ticks": "",
           "title": {
            "standoff": 15
           },
           "zerolinecolor": "white",
           "zerolinewidth": 2
          },
          "yaxis": {
           "automargin": true,
           "gridcolor": "white",
           "linecolor": "white",
           "ticks": "",
           "title": {
            "standoff": 15
           },
           "zerolinecolor": "white",
           "zerolinewidth": 2
          }
         }
        },
        "title": {
         "font": {
          "size": 30
         },
         "text": "Inverter Efficiency",
         "y": 0.99
        },
        "width": 800,
        "xaxis": {
         "title": {
          "text": "Power Inverter DC [W]"
         }
        },
        "yaxis": {
         "title": {
          "text": "Efficiency [%]"
         }
        }
       }
      }
     },
     "metadata": {},
     "output_type": "display_data"
    }
   ],
   "source": [
    "# Plot PWM inverter, MPPT inverter, Grid-Tied inverter efficiencies\n",
    "fig = go.Figure()\n",
    "fig.add_trace(go.Scatter(x=dfpwm['power_inv_dc'], y=dfpwm['efficiency_inverter'], name='PR1010 Inverter', mode='markers', marker=dict(size=marker_size, symbol='circle', line=dict(width=2, color='black'), opacity = marker_opacity)))\n",
    "fig.add_trace(go.Scatter(x=dfmppt['power_inv_dc'], y=dfmppt['efficiency_inverter'], name='MPPT2010 Inverter', mode='markers', marker=dict(size=marker_size, symbol='diamond', line=dict(width=2, color='black'), opacity = marker_opacity)))\n",
    "fig.add_trace(go.Scatter(x=t3p2df['power_pv'], y=t3p2df['efficiency'], name='Grid-Tied Inverter', mode='markers', marker=dict(size=marker_size, symbol='square', line=dict(width=2, color='black'), opacity = marker_opacity)))\n",
    "fig.add_vline(x=dfpwm['power_inv_dc'].iloc[pwm_switch_index], line_width=3, line_dash=\"dash\", line_color=\"green\", opacity=0.66)\n",
    "fig.add_vline(x=dfmppt['power_inv_dc'].iloc[mppt_switch_index], line_width=3, line_dash=\"longdashdot\", line_color=\"orange\", opacity=0.66)\n",
    "fig.update_layout(title='Inverter Efficiency', xaxis_title='Power Inverter DC [W]', yaxis_title='Efficiency [%]')\n",
    "fig.update_layout(font=dict(size=20))\n",
    "fig.update_layout(title_font=dict(size=30))\n",
    "fig.update_layout(width=800,height=800)\n",
    "fig.update_layout(legend=dict(\n",
    "    orientation=\"h\",\n",
    "    yanchor=\"bottom\",\n",
    "    y=1.0,\n",
    "    xanchor=\"right\",\n",
    "    x=0.95\n",
    "))\n",
    "fig.add_annotation(x=dfpwm['power_inv_dc'].iloc[pwm_switch_index], y=10, text=\"PR1010 \\nBattery Discharge\", showarrow=True, arrowhead=1, ax=-145, ay=-35, font=dict(size=21, color='green'), bgcolor='white')\n",
    "fig.add_annotation(x=dfmppt['power_inv_dc'].iloc[mppt_switch_index], y=19, text=\"MPPT2010 \\nBattery Discharge\", showarrow=True, arrowhead=1, ax=-205, ay=-65, font=dict(size=21, color='orange'), bgcolor='white')\n",
    "fig.update_layout(title=dict(y=0.99))\n",
    "fig.show()\n",
    "fig.write_image(\"./plots/t3/efficiency_inverter_all.png\")\n"
   ]
  }
 ],
 "metadata": {
  "kernelspec": {
   "display_name": ".venv",
   "language": "python",
   "name": "python3"
  },
  "language_info": {
   "codemirror_mode": {
    "name": "ipython",
    "version": 3
   },
   "file_extension": ".py",
   "mimetype": "text/x-python",
   "name": "python",
   "nbconvert_exporter": "python",
   "pygments_lexer": "ipython3",
   "version": "3.9.5"
  },
  "orig_nbformat": 4
 },
 "nbformat": 4,
 "nbformat_minor": 2
}
