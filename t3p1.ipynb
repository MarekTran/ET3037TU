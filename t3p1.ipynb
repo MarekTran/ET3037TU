{
 "cells": [
  {
   "cell_type": "code",
   "execution_count": 455,
   "metadata": {},
   "outputs": [],
   "source": [
    "import pandas as pd\n",
    "import numpy as np\n",
    "import plotly.graph_objects as go\n",
    "import plotly.subplots as sp"
   ]
  },
  {
   "cell_type": "code",
   "execution_count": 456,
   "metadata": {},
   "outputs": [],
   "source": [
    "df = pd.read_csv(\"./data/t3p1.csv\")\n",
    "# Columns of df are: 'power_aimed', 'voltage_pv', 'current_pv', 'voltage_batt', 'current_batt', 'voltage_inv_dc', 'current_inv_dc', 'power_inv_ac', 'power_pv', 'power_batt', 'power_inv_dc', 'controller_type'\n",
    "# Recalculate powers\n",
    "df['power_batt'] = df['voltage_batt'] * df['current_batt']\n",
    "df['power_inv_dc'] = df['voltage_inv_dc'] * df['current_inv_dc']\n",
    "df['power_pv'] = df['voltage_pv'] * df['current_pv']\n",
    "\n",
    "\n",
    "# Calculate efficiencies\n",
    "# efficiency_controller = (power_batt + power_inv_dc) / power_pv\n",
    "# efficiency_inverter = power_inv_ac / power_inv_dc\n",
    "df['efficiency_controller'] = (df['power_batt'] + df['power_inv_dc']) / df['power_pv']\n",
    "df['efficiency_inverter'] = df['power_inv_ac'] / df['power_inv_dc']\n",
    "\n",
    "# Set up the dataframes\n",
    "dfpwm = df.copy(deep=True)\n",
    "dfmppt = df.copy(deep=True)\n",
    "dfpwm = dfpwm[dfpwm['controller_type'] == 'PWM']\n",
    "dfmppt = dfmppt[dfmppt['controller_type'] == 'MPPT']"
   ]
  },
  {
   "cell_type": "code",
   "execution_count": 457,
   "metadata": {},
   "outputs": [
    {
     "data": {
      "text/html": [
       "<div>\n",
       "<style scoped>\n",
       "    .dataframe tbody tr th:only-of-type {\n",
       "        vertical-align: middle;\n",
       "    }\n",
       "\n",
       "    .dataframe tbody tr th {\n",
       "        vertical-align: top;\n",
       "    }\n",
       "\n",
       "    .dataframe thead th {\n",
       "        text-align: right;\n",
       "    }\n",
       "</style>\n",
       "<table border=\"1\" class=\"dataframe\">\n",
       "  <thead>\n",
       "    <tr style=\"text-align: right;\">\n",
       "      <th></th>\n",
       "      <th>power_aimed</th>\n",
       "      <th>voltage_pv</th>\n",
       "      <th>current_pv</th>\n",
       "      <th>voltage_batt</th>\n",
       "      <th>current_batt</th>\n",
       "      <th>voltage_inv_dc</th>\n",
       "      <th>current_inv_dc</th>\n",
       "      <th>power_inv_ac</th>\n",
       "      <th>power_pv</th>\n",
       "      <th>power_batt</th>\n",
       "      <th>power_inv_dc</th>\n",
       "      <th>controller_type</th>\n",
       "      <th>efficiency_controller</th>\n",
       "      <th>efficiency_inverter</th>\n",
       "    </tr>\n",
       "  </thead>\n",
       "  <tbody>\n",
       "    <tr>\n",
       "      <th>0</th>\n",
       "      <td>2.0</td>\n",
       "      <td>13.13</td>\n",
       "      <td>4.76</td>\n",
       "      <td>13.87</td>\n",
       "      <td>3.68</td>\n",
       "      <td>14.09</td>\n",
       "      <td>0.64</td>\n",
       "      <td>2.2</td>\n",
       "      <td>62.4988</td>\n",
       "      <td>51.0416</td>\n",
       "      <td>9.0176</td>\n",
       "      <td>PWM</td>\n",
       "      <td>0.960966</td>\n",
       "      <td>0.243967</td>\n",
       "    </tr>\n",
       "    <tr>\n",
       "      <th>1</th>\n",
       "      <td>5.0</td>\n",
       "      <td>13.33</td>\n",
       "      <td>4.76</td>\n",
       "      <td>13.85</td>\n",
       "      <td>3.48</td>\n",
       "      <td>13.97</td>\n",
       "      <td>1.01</td>\n",
       "      <td>6.6</td>\n",
       "      <td>63.4508</td>\n",
       "      <td>48.1980</td>\n",
       "      <td>14.1097</td>\n",
       "      <td>PWM</td>\n",
       "      <td>0.981984</td>\n",
       "      <td>0.467763</td>\n",
       "    </tr>\n",
       "    <tr>\n",
       "      <th>2</th>\n",
       "      <td>10.0</td>\n",
       "      <td>13.37</td>\n",
       "      <td>4.76</td>\n",
       "      <td>13.79</td>\n",
       "      <td>3.20</td>\n",
       "      <td>13.87</td>\n",
       "      <td>1.32</td>\n",
       "      <td>10.5</td>\n",
       "      <td>63.6412</td>\n",
       "      <td>44.1280</td>\n",
       "      <td>18.3084</td>\n",
       "      <td>PWM</td>\n",
       "      <td>0.981069</td>\n",
       "      <td>0.573507</td>\n",
       "    </tr>\n",
       "    <tr>\n",
       "      <th>3</th>\n",
       "      <td>15.0</td>\n",
       "      <td>13.72</td>\n",
       "      <td>4.76</td>\n",
       "      <td>13.69</td>\n",
       "      <td>2.85</td>\n",
       "      <td>13.75</td>\n",
       "      <td>1.66</td>\n",
       "      <td>15.1</td>\n",
       "      <td>65.3072</td>\n",
       "      <td>39.0165</td>\n",
       "      <td>22.8250</td>\n",
       "      <td>PWM</td>\n",
       "      <td>0.946932</td>\n",
       "      <td>0.661555</td>\n",
       "    </tr>\n",
       "    <tr>\n",
       "      <th>4</th>\n",
       "      <td>20.0</td>\n",
       "      <td>13.18</td>\n",
       "      <td>4.76</td>\n",
       "      <td>13.60</td>\n",
       "      <td>2.49</td>\n",
       "      <td>13.60</td>\n",
       "      <td>2.02</td>\n",
       "      <td>19.9</td>\n",
       "      <td>62.7368</td>\n",
       "      <td>33.8640</td>\n",
       "      <td>27.4720</td>\n",
       "      <td>PWM</td>\n",
       "      <td>0.977672</td>\n",
       "      <td>0.724374</td>\n",
       "    </tr>\n",
       "    <tr>\n",
       "      <th>5</th>\n",
       "      <td>25.0</td>\n",
       "      <td>13.18</td>\n",
       "      <td>4.76</td>\n",
       "      <td>13.51</td>\n",
       "      <td>2.20</td>\n",
       "      <td>13.48</td>\n",
       "      <td>2.53</td>\n",
       "      <td>25.4</td>\n",
       "      <td>62.7368</td>\n",
       "      <td>29.7220</td>\n",
       "      <td>34.1044</td>\n",
       "      <td>PWM</td>\n",
       "      <td>1.017368</td>\n",
       "      <td>0.744772</td>\n",
       "    </tr>\n",
       "    <tr>\n",
       "      <th>6</th>\n",
       "      <td>30.0</td>\n",
       "      <td>13.74</td>\n",
       "      <td>4.76</td>\n",
       "      <td>13.43</td>\n",
       "      <td>1.67</td>\n",
       "      <td>13.31</td>\n",
       "      <td>3.06</td>\n",
       "      <td>30.4</td>\n",
       "      <td>65.4024</td>\n",
       "      <td>22.4281</td>\n",
       "      <td>40.7286</td>\n",
       "      <td>PWM</td>\n",
       "      <td>0.965663</td>\n",
       "      <td>0.746404</td>\n",
       "    </tr>\n",
       "    <tr>\n",
       "      <th>7</th>\n",
       "      <td>35.0</td>\n",
       "      <td>13.62</td>\n",
       "      <td>4.76</td>\n",
       "      <td>13.34</td>\n",
       "      <td>1.20</td>\n",
       "      <td>13.16</td>\n",
       "      <td>3.52</td>\n",
       "      <td>34.6</td>\n",
       "      <td>64.8312</td>\n",
       "      <td>16.0080</td>\n",
       "      <td>46.3232</td>\n",
       "      <td>PWM</td>\n",
       "      <td>0.961438</td>\n",
       "      <td>0.746926</td>\n",
       "    </tr>\n",
       "    <tr>\n",
       "      <th>8</th>\n",
       "      <td>40.0</td>\n",
       "      <td>13.52</td>\n",
       "      <td>4.76</td>\n",
       "      <td>13.25</td>\n",
       "      <td>0.68</td>\n",
       "      <td>13.00</td>\n",
       "      <td>4.04</td>\n",
       "      <td>40.6</td>\n",
       "      <td>64.3552</td>\n",
       "      <td>9.0100</td>\n",
       "      <td>52.5200</td>\n",
       "      <td>PWM</td>\n",
       "      <td>0.956100</td>\n",
       "      <td>0.773039</td>\n",
       "    </tr>\n",
       "    <tr>\n",
       "      <th>9</th>\n",
       "      <td>45.0</td>\n",
       "      <td>13.40</td>\n",
       "      <td>4.76</td>\n",
       "      <td>13.16</td>\n",
       "      <td>0.22</td>\n",
       "      <td>12.85</td>\n",
       "      <td>4.51</td>\n",
       "      <td>45.7</td>\n",
       "      <td>63.7840</td>\n",
       "      <td>2.8952</td>\n",
       "      <td>57.9535</td>\n",
       "      <td>PWM</td>\n",
       "      <td>0.953981</td>\n",
       "      <td>0.788563</td>\n",
       "    </tr>\n",
       "  </tbody>\n",
       "</table>\n",
       "</div>"
      ],
      "text/plain": [
       "   power_aimed  voltage_pv  current_pv  voltage_batt  current_batt  \\\n",
       "0          2.0       13.13        4.76         13.87          3.68   \n",
       "1          5.0       13.33        4.76         13.85          3.48   \n",
       "2         10.0       13.37        4.76         13.79          3.20   \n",
       "3         15.0       13.72        4.76         13.69          2.85   \n",
       "4         20.0       13.18        4.76         13.60          2.49   \n",
       "5         25.0       13.18        4.76         13.51          2.20   \n",
       "6         30.0       13.74        4.76         13.43          1.67   \n",
       "7         35.0       13.62        4.76         13.34          1.20   \n",
       "8         40.0       13.52        4.76         13.25          0.68   \n",
       "9         45.0       13.40        4.76         13.16          0.22   \n",
       "\n",
       "   voltage_inv_dc  current_inv_dc  power_inv_ac  power_pv  power_batt  \\\n",
       "0           14.09            0.64           2.2   62.4988     51.0416   \n",
       "1           13.97            1.01           6.6   63.4508     48.1980   \n",
       "2           13.87            1.32          10.5   63.6412     44.1280   \n",
       "3           13.75            1.66          15.1   65.3072     39.0165   \n",
       "4           13.60            2.02          19.9   62.7368     33.8640   \n",
       "5           13.48            2.53          25.4   62.7368     29.7220   \n",
       "6           13.31            3.06          30.4   65.4024     22.4281   \n",
       "7           13.16            3.52          34.6   64.8312     16.0080   \n",
       "8           13.00            4.04          40.6   64.3552      9.0100   \n",
       "9           12.85            4.51          45.7   63.7840      2.8952   \n",
       "\n",
       "   power_inv_dc controller_type  efficiency_controller  efficiency_inverter  \n",
       "0        9.0176             PWM               0.960966             0.243967  \n",
       "1       14.1097             PWM               0.981984             0.467763  \n",
       "2       18.3084             PWM               0.981069             0.573507  \n",
       "3       22.8250             PWM               0.946932             0.661555  \n",
       "4       27.4720             PWM               0.977672             0.724374  \n",
       "5       34.1044             PWM               1.017368             0.744772  \n",
       "6       40.7286             PWM               0.965663             0.746404  \n",
       "7       46.3232             PWM               0.961438             0.746926  \n",
       "8       52.5200             PWM               0.956100             0.773039  \n",
       "9       57.9535             PWM               0.953981             0.788563  "
      ]
     },
     "execution_count": 457,
     "metadata": {},
     "output_type": "execute_result"
    }
   ],
   "source": [
    "dfpwm.head(10)"
   ]
  },
  {
   "cell_type": "code",
   "execution_count": 458,
   "metadata": {},
   "outputs": [
    {
     "data": {
      "application/vnd.plotly.v1+json": {
       "config": {
        "plotlyServerURL": "https://plot.ly"
       },
       "data": [
        {
         "marker": {
          "line": {
           "color": "black",
           "width": 2
          },
          "opacity": 0.85,
          "size": 14,
          "symbol": "circle"
         },
         "mode": "markers",
         "name": "PR1010 Controller",
         "type": "scatter",
         "x": [
          9.0176,
          14.1097,
          18.3084,
          22.825,
          27.471999999999998,
          34.1044,
          40.7286,
          46.3232,
          52.52,
          57.9535,
          64.66560000000001,
          67.78240000000001,
          77.049,
          83.1092,
          91.2209,
          98.8695,
          105.46589999999999
         ],
         "xaxis": "x",
         "y": [
          0.9609656505404904,
          0.9819844667049115,
          0.9810688673375111,
          0.946932344366318,
          0.9776717970951659,
          1.017367796891139,
          0.9656633395716365,
          0.9614383198213206,
          0.9560998955795337,
          0.9539806220995861,
          0.9343633558799102,
          0.8928383245808331,
          0.9164165697895945,
          0.9123154955823928,
          0.8968887552515307,
          0.8614160627096012,
          0.8443236094015895
         ],
         "yaxis": "y"
        },
        {
         "marker": {
          "line": {
           "color": "DarkSlateGray",
           "width": 2
          },
          "opacity": 0.68,
          "size": 11.200000000000001,
          "symbol": "circle-dot"
         },
         "mode": "lines+markers",
         "name": "PR1010 Inverter",
         "type": "scatter",
         "x": [
          9.0176,
          14.1097,
          18.3084,
          22.825,
          27.471999999999998,
          34.1044,
          40.7286,
          46.3232,
          52.52,
          57.9535,
          64.66560000000001,
          67.78240000000001,
          77.049,
          83.1092,
          91.2209,
          98.8695,
          105.46589999999999
         ],
         "xaxis": "x",
         "y": [
          0.24396735273243436,
          0.46776331176424724,
          0.5735072425771778,
          0.6615553121577218,
          0.7243739079790332,
          0.7447719355860241,
          0.7464042466473191,
          0.7469259463940315,
          0.773038842345773,
          0.788563244670296,
          0.776301464766429,
          0.8084694551978093,
          0.7670443484016665,
          0.7784938370240599,
          0.7739454445198414,
          0.7727357779699503,
          0.7623317110080131
         ],
         "yaxis": "y2"
        },
        {
         "marker": {
          "line": {
           "color": "black",
           "width": 2
          },
          "opacity": 0.85,
          "size": 14,
          "symbol": "diamond"
         },
         "mode": "markers",
         "name": "MPPT2010 Controller",
         "type": "scatter",
         "x": [
          8.983,
          12.703600000000002,
          18.2352,
          23.024199999999997,
          27.661,
          33.962500000000006,
          40.71,
          46.5674,
          52.8942,
          58.5598,
          64.7702,
          68.4372,
          76.714,
          83.3166,
          89.29050000000001,
          94.50540000000001,
          102.8223
         ],
         "xaxis": "x",
         "y": [
          0.9501645916628811,
          0.893843498273878,
          0.9547832426494881,
          0.9582607930204806,
          0.9593800432386346,
          0.9588644617221964,
          0.9584495480594937,
          0.9488679567167091,
          0.9463638893228149,
          0.9392434416295252,
          0.943430835214006,
          0.9097928119013895,
          0.9249534058430664,
          0.9116414114964816,
          0.9085577326647375,
          0.9023625529823701,
          0.8964517063489617
         ],
         "yaxis": "y"
        },
        {
         "marker": {
          "line": {
           "color": "DarkSlateGray",
           "width": 2
          },
          "opacity": 0.68,
          "size": 11.200000000000001,
          "symbol": "diamond-dot"
         },
         "mode": "lines+markers",
         "name": "MPPT2010 Inverter",
         "type": "scatter",
         "x": [
          8.983,
          12.703600000000002,
          18.2352,
          23.024199999999997,
          27.661,
          33.962500000000006,
          40.71,
          46.5674,
          52.8942,
          58.5598,
          64.7702,
          68.4372,
          76.714,
          83.3166,
          89.29050000000001,
          94.50540000000001,
          102.8223
         ],
         "xaxis": "x",
         "y": [
          0.24490704664366025,
          0.4408199250606127,
          0.5758094235325086,
          0.6384586652304967,
          0.7194244604316546,
          0.7449392712550607,
          0.754114468189634,
          0.7473039078840562,
          0.7826945109293647,
          0.7752758718438245,
          0.7719599445423976,
          0.8007341036746096,
          0.7821258179732513,
          0.7837573784815991,
          0.7861978597947149,
          0.7840821794310165,
          0.7858217526742739
         ],
         "yaxis": "y2"
        }
       ],
       "layout": {
        "annotations": [
         {
          "arrowhead": 1,
          "ax": -145,
          "ay": -35,
          "bgcolor": "white",
          "font": {
           "color": "green",
           "size": 21
          },
          "showarrow": true,
          "text": "PWM \nBattery Discharge",
          "x": 64.66560000000001,
          "y": 0.84
         },
         {
          "arrowhead": 1,
          "ax": -205,
          "ay": -65,
          "bgcolor": "white",
          "font": {
           "color": "orange",
           "size": 21
          },
          "showarrow": true,
          "text": "MPPT \nBattery Discharge",
          "x": 76.714,
          "y": 0.85
         }
        ],
        "font": {
         "size": 20
        },
        "height": 800,
        "legend": {
         "orientation": "h",
         "x": 0.95,
         "xanchor": "right",
         "y": 1,
         "yanchor": "bottom"
        },
        "shapes": [
         {
          "line": {
           "color": "green",
           "dash": "dash",
           "width": 3
          },
          "opacity": 0.66,
          "type": "line",
          "x0": 64.66560000000001,
          "x1": 64.66560000000001,
          "xref": "x",
          "y0": 0,
          "y1": 1,
          "yref": "y domain"
         },
         {
          "line": {
           "color": "orange",
           "dash": "longdashdot",
           "width": 3
          },
          "opacity": 0.66,
          "type": "line",
          "x0": 76.714,
          "x1": 76.714,
          "xref": "x",
          "y0": 0,
          "y1": 1,
          "yref": "y domain"
         }
        ],
        "template": {
         "data": {
          "bar": [
           {
            "error_x": {
             "color": "#2a3f5f"
            },
            "error_y": {
             "color": "#2a3f5f"
            },
            "marker": {
             "line": {
              "color": "#E5ECF6",
              "width": 0.5
             },
             "pattern": {
              "fillmode": "overlay",
              "size": 10,
              "solidity": 0.2
             }
            },
            "type": "bar"
           }
          ],
          "barpolar": [
           {
            "marker": {
             "line": {
              "color": "#E5ECF6",
              "width": 0.5
             },
             "pattern": {
              "fillmode": "overlay",
              "size": 10,
              "solidity": 0.2
             }
            },
            "type": "barpolar"
           }
          ],
          "carpet": [
           {
            "aaxis": {
             "endlinecolor": "#2a3f5f",
             "gridcolor": "white",
             "linecolor": "white",
             "minorgridcolor": "white",
             "startlinecolor": "#2a3f5f"
            },
            "baxis": {
             "endlinecolor": "#2a3f5f",
             "gridcolor": "white",
             "linecolor": "white",
             "minorgridcolor": "white",
             "startlinecolor": "#2a3f5f"
            },
            "type": "carpet"
           }
          ],
          "choropleth": [
           {
            "colorbar": {
             "outlinewidth": 0,
             "ticks": ""
            },
            "type": "choropleth"
           }
          ],
          "contour": [
           {
            "colorbar": {
             "outlinewidth": 0,
             "ticks": ""
            },
            "colorscale": [
             [
              0,
              "#0d0887"
             ],
             [
              0.1111111111111111,
              "#46039f"
             ],
             [
              0.2222222222222222,
              "#7201a8"
             ],
             [
              0.3333333333333333,
              "#9c179e"
             ],
             [
              0.4444444444444444,
              "#bd3786"
             ],
             [
              0.5555555555555556,
              "#d8576b"
             ],
             [
              0.6666666666666666,
              "#ed7953"
             ],
             [
              0.7777777777777778,
              "#fb9f3a"
             ],
             [
              0.8888888888888888,
              "#fdca26"
             ],
             [
              1,
              "#f0f921"
             ]
            ],
            "type": "contour"
           }
          ],
          "contourcarpet": [
           {
            "colorbar": {
             "outlinewidth": 0,
             "ticks": ""
            },
            "type": "contourcarpet"
           }
          ],
          "heatmap": [
           {
            "colorbar": {
             "outlinewidth": 0,
             "ticks": ""
            },
            "colorscale": [
             [
              0,
              "#0d0887"
             ],
             [
              0.1111111111111111,
              "#46039f"
             ],
             [
              0.2222222222222222,
              "#7201a8"
             ],
             [
              0.3333333333333333,
              "#9c179e"
             ],
             [
              0.4444444444444444,
              "#bd3786"
             ],
             [
              0.5555555555555556,
              "#d8576b"
             ],
             [
              0.6666666666666666,
              "#ed7953"
             ],
             [
              0.7777777777777778,
              "#fb9f3a"
             ],
             [
              0.8888888888888888,
              "#fdca26"
             ],
             [
              1,
              "#f0f921"
             ]
            ],
            "type": "heatmap"
           }
          ],
          "heatmapgl": [
           {
            "colorbar": {
             "outlinewidth": 0,
             "ticks": ""
            },
            "colorscale": [
             [
              0,
              "#0d0887"
             ],
             [
              0.1111111111111111,
              "#46039f"
             ],
             [
              0.2222222222222222,
              "#7201a8"
             ],
             [
              0.3333333333333333,
              "#9c179e"
             ],
             [
              0.4444444444444444,
              "#bd3786"
             ],
             [
              0.5555555555555556,
              "#d8576b"
             ],
             [
              0.6666666666666666,
              "#ed7953"
             ],
             [
              0.7777777777777778,
              "#fb9f3a"
             ],
             [
              0.8888888888888888,
              "#fdca26"
             ],
             [
              1,
              "#f0f921"
             ]
            ],
            "type": "heatmapgl"
           }
          ],
          "histogram": [
           {
            "marker": {
             "pattern": {
              "fillmode": "overlay",
              "size": 10,
              "solidity": 0.2
             }
            },
            "type": "histogram"
           }
          ],
          "histogram2d": [
           {
            "colorbar": {
             "outlinewidth": 0,
             "ticks": ""
            },
            "colorscale": [
             [
              0,
              "#0d0887"
             ],
             [
              0.1111111111111111,
              "#46039f"
             ],
             [
              0.2222222222222222,
              "#7201a8"
             ],
             [
              0.3333333333333333,
              "#9c179e"
             ],
             [
              0.4444444444444444,
              "#bd3786"
             ],
             [
              0.5555555555555556,
              "#d8576b"
             ],
             [
              0.6666666666666666,
              "#ed7953"
             ],
             [
              0.7777777777777778,
              "#fb9f3a"
             ],
             [
              0.8888888888888888,
              "#fdca26"
             ],
             [
              1,
              "#f0f921"
             ]
            ],
            "type": "histogram2d"
           }
          ],
          "histogram2dcontour": [
           {
            "colorbar": {
             "outlinewidth": 0,
             "ticks": ""
            },
            "colorscale": [
             [
              0,
              "#0d0887"
             ],
             [
              0.1111111111111111,
              "#46039f"
             ],
             [
              0.2222222222222222,
              "#7201a8"
             ],
             [
              0.3333333333333333,
              "#9c179e"
             ],
             [
              0.4444444444444444,
              "#bd3786"
             ],
             [
              0.5555555555555556,
              "#d8576b"
             ],
             [
              0.6666666666666666,
              "#ed7953"
             ],
             [
              0.7777777777777778,
              "#fb9f3a"
             ],
             [
              0.8888888888888888,
              "#fdca26"
             ],
             [
              1,
              "#f0f921"
             ]
            ],
            "type": "histogram2dcontour"
           }
          ],
          "mesh3d": [
           {
            "colorbar": {
             "outlinewidth": 0,
             "ticks": ""
            },
            "type": "mesh3d"
           }
          ],
          "parcoords": [
           {
            "line": {
             "colorbar": {
              "outlinewidth": 0,
              "ticks": ""
             }
            },
            "type": "parcoords"
           }
          ],
          "pie": [
           {
            "automargin": true,
            "type": "pie"
           }
          ],
          "scatter": [
           {
            "fillpattern": {
             "fillmode": "overlay",
             "size": 10,
             "solidity": 0.2
            },
            "type": "scatter"
           }
          ],
          "scatter3d": [
           {
            "line": {
             "colorbar": {
              "outlinewidth": 0,
              "ticks": ""
             }
            },
            "marker": {
             "colorbar": {
              "outlinewidth": 0,
              "ticks": ""
             }
            },
            "type": "scatter3d"
           }
          ],
          "scattercarpet": [
           {
            "marker": {
             "colorbar": {
              "outlinewidth": 0,
              "ticks": ""
             }
            },
            "type": "scattercarpet"
           }
          ],
          "scattergeo": [
           {
            "marker": {
             "colorbar": {
              "outlinewidth": 0,
              "ticks": ""
             }
            },
            "type": "scattergeo"
           }
          ],
          "scattergl": [
           {
            "marker": {
             "colorbar": {
              "outlinewidth": 0,
              "ticks": ""
             }
            },
            "type": "scattergl"
           }
          ],
          "scattermapbox": [
           {
            "marker": {
             "colorbar": {
              "outlinewidth": 0,
              "ticks": ""
             }
            },
            "type": "scattermapbox"
           }
          ],
          "scatterpolar": [
           {
            "marker": {
             "colorbar": {
              "outlinewidth": 0,
              "ticks": ""
             }
            },
            "type": "scatterpolar"
           }
          ],
          "scatterpolargl": [
           {
            "marker": {
             "colorbar": {
              "outlinewidth": 0,
              "ticks": ""
             }
            },
            "type": "scatterpolargl"
           }
          ],
          "scatterternary": [
           {
            "marker": {
             "colorbar": {
              "outlinewidth": 0,
              "ticks": ""
             }
            },
            "type": "scatterternary"
           }
          ],
          "surface": [
           {
            "colorbar": {
             "outlinewidth": 0,
             "ticks": ""
            },
            "colorscale": [
             [
              0,
              "#0d0887"
             ],
             [
              0.1111111111111111,
              "#46039f"
             ],
             [
              0.2222222222222222,
              "#7201a8"
             ],
             [
              0.3333333333333333,
              "#9c179e"
             ],
             [
              0.4444444444444444,
              "#bd3786"
             ],
             [
              0.5555555555555556,
              "#d8576b"
             ],
             [
              0.6666666666666666,
              "#ed7953"
             ],
             [
              0.7777777777777778,
              "#fb9f3a"
             ],
             [
              0.8888888888888888,
              "#fdca26"
             ],
             [
              1,
              "#f0f921"
             ]
            ],
            "type": "surface"
           }
          ],
          "table": [
           {
            "cells": {
             "fill": {
              "color": "#EBF0F8"
             },
             "line": {
              "color": "white"
             }
            },
            "header": {
             "fill": {
              "color": "#C8D4E3"
             },
             "line": {
              "color": "white"
             }
            },
            "type": "table"
           }
          ]
         },
         "layout": {
          "annotationdefaults": {
           "arrowcolor": "#2a3f5f",
           "arrowhead": 0,
           "arrowwidth": 1
          },
          "autotypenumbers": "strict",
          "coloraxis": {
           "colorbar": {
            "outlinewidth": 0,
            "ticks": ""
           }
          },
          "colorscale": {
           "diverging": [
            [
             0,
             "#8e0152"
            ],
            [
             0.1,
             "#c51b7d"
            ],
            [
             0.2,
             "#de77ae"
            ],
            [
             0.3,
             "#f1b6da"
            ],
            [
             0.4,
             "#fde0ef"
            ],
            [
             0.5,
             "#f7f7f7"
            ],
            [
             0.6,
             "#e6f5d0"
            ],
            [
             0.7,
             "#b8e186"
            ],
            [
             0.8,
             "#7fbc41"
            ],
            [
             0.9,
             "#4d9221"
            ],
            [
             1,
             "#276419"
            ]
           ],
           "sequential": [
            [
             0,
             "#0d0887"
            ],
            [
             0.1111111111111111,
             "#46039f"
            ],
            [
             0.2222222222222222,
             "#7201a8"
            ],
            [
             0.3333333333333333,
             "#9c179e"
            ],
            [
             0.4444444444444444,
             "#bd3786"
            ],
            [
             0.5555555555555556,
             "#d8576b"
            ],
            [
             0.6666666666666666,
             "#ed7953"
            ],
            [
             0.7777777777777778,
             "#fb9f3a"
            ],
            [
             0.8888888888888888,
             "#fdca26"
            ],
            [
             1,
             "#f0f921"
            ]
           ],
           "sequentialminus": [
            [
             0,
             "#0d0887"
            ],
            [
             0.1111111111111111,
             "#46039f"
            ],
            [
             0.2222222222222222,
             "#7201a8"
            ],
            [
             0.3333333333333333,
             "#9c179e"
            ],
            [
             0.4444444444444444,
             "#bd3786"
            ],
            [
             0.5555555555555556,
             "#d8576b"
            ],
            [
             0.6666666666666666,
             "#ed7953"
            ],
            [
             0.7777777777777778,
             "#fb9f3a"
            ],
            [
             0.8888888888888888,
             "#fdca26"
            ],
            [
             1,
             "#f0f921"
            ]
           ]
          },
          "colorway": [
           "#636efa",
           "#EF553B",
           "#00cc96",
           "#ab63fa",
           "#FFA15A",
           "#19d3f3",
           "#FF6692",
           "#B6E880",
           "#FF97FF",
           "#FECB52"
          ],
          "font": {
           "color": "#2a3f5f"
          },
          "geo": {
           "bgcolor": "white",
           "lakecolor": "white",
           "landcolor": "#E5ECF6",
           "showlakes": true,
           "showland": true,
           "subunitcolor": "white"
          },
          "hoverlabel": {
           "align": "left"
          },
          "hovermode": "closest",
          "mapbox": {
           "style": "light"
          },
          "paper_bgcolor": "white",
          "plot_bgcolor": "#E5ECF6",
          "polar": {
           "angularaxis": {
            "gridcolor": "white",
            "linecolor": "white",
            "ticks": ""
           },
           "bgcolor": "#E5ECF6",
           "radialaxis": {
            "gridcolor": "white",
            "linecolor": "white",
            "ticks": ""
           }
          },
          "scene": {
           "xaxis": {
            "backgroundcolor": "#E5ECF6",
            "gridcolor": "white",
            "gridwidth": 2,
            "linecolor": "white",
            "showbackground": true,
            "ticks": "",
            "zerolinecolor": "white"
           },
           "yaxis": {
            "backgroundcolor": "#E5ECF6",
            "gridcolor": "white",
            "gridwidth": 2,
            "linecolor": "white",
            "showbackground": true,
            "ticks": "",
            "zerolinecolor": "white"
           },
           "zaxis": {
            "backgroundcolor": "#E5ECF6",
            "gridcolor": "white",
            "gridwidth": 2,
            "linecolor": "white",
            "showbackground": true,
            "ticks": "",
            "zerolinecolor": "white"
           }
          },
          "shapedefaults": {
           "line": {
            "color": "#2a3f5f"
           }
          },
          "ternary": {
           "aaxis": {
            "gridcolor": "white",
            "linecolor": "white",
            "ticks": ""
           },
           "baxis": {
            "gridcolor": "white",
            "linecolor": "white",
            "ticks": ""
           },
           "bgcolor": "#E5ECF6",
           "caxis": {
            "gridcolor": "white",
            "linecolor": "white",
            "ticks": ""
           }
          },
          "title": {
           "x": 0.05
          },
          "xaxis": {
           "automargin": true,
           "gridcolor": "white",
           "linecolor": "white",
           "ticks": "",
           "title": {
            "standoff": 15
           },
           "zerolinecolor": "white",
           "zerolinewidth": 2
          },
          "yaxis": {
           "automargin": true,
           "gridcolor": "white",
           "linecolor": "white",
           "ticks": "",
           "title": {
            "standoff": 15
           },
           "zerolinecolor": "white",
           "zerolinewidth": 2
          }
         }
        },
        "title": {
         "font": {
          "size": 30
         },
         "text": "PWM Controller and Inverter Efficiencies",
         "y": 0.99
        },
        "width": 800,
        "xaxis": {
         "anchor": "y",
         "domain": [
          0,
          0.94
         ],
         "title": {
          "text": "Power Inverter DC [W]"
         }
        },
        "yaxis": {
         "anchor": "x",
         "domain": [
          0,
          1
         ],
         "title": {
          "text": "Controller Efficiency"
         }
        },
        "yaxis2": {
         "anchor": "x",
         "overlaying": "y",
         "side": "right",
         "title": {
          "text": "Inverter Efficiency"
         }
        }
       }
      }
     },
     "metadata": {},
     "output_type": "display_data"
    }
   ],
   "source": [
    "# Get index of the first point where power_batt < 0\n",
    "pwm_switch_index = dfpwm[dfpwm['power_batt'] < 0].index[0]\n",
    "marker_size = 14\n",
    "\n",
    "dfmppt = dfmppt.reset_index(drop=True)\n",
    "mppt_switch_index = dfmppt[dfmppt['power_batt'] < 0].index[0]\n",
    "\n",
    "marker_opacity = 0.85\n",
    "\n",
    "# For pwm controller, plot with subplots\n",
    "# x-axis: power_inv_dc\n",
    "# y-axis left (primary): efficiency_controller\n",
    "# y-axis right (secondary): efficiency_inverter\n",
    "# Create a vertical line through first point where power_batt < 0\n",
    "\n",
    "fig = sp.make_subplots(specs=[[{\"secondary_y\": True}]])\n",
    "# fig = go.Figure()\n",
    "fig.add_trace(go.Scatter(x=dfpwm['power_inv_dc'], y=dfpwm['efficiency_controller'], name='PR1010 Controller', mode='markers',marker=dict(size=marker_size, symbol='circle', line=dict(width=2, color='black'), opacity = marker_opacity)), secondary_y=False)\n",
    "fig.add_trace(go.Scatter(x=dfpwm['power_inv_dc'], y=dfpwm['efficiency_inverter'], name='PR1010 Inverter', mode='lines+markers', marker=dict(size=marker_size*0.8, symbol='circle-dot', line=dict(width=2, color='DarkSlateGray'), opacity = marker_opacity*0.8)), secondary_y=True)\n",
    "fig.add_vline(x=dfpwm['power_inv_dc'].iloc[pwm_switch_index], line_width=3, line_dash=\"dash\", line_color=\"green\", opacity=0.66)\n",
    "\n",
    "fig.add_trace(go.Scatter(x=dfmppt['power_inv_dc'], y=dfmppt['efficiency_controller'], name='MPPT2010 Controller', mode='markers', marker=dict(size=marker_size, symbol='diamond', line=dict(width=2, color='black'), opacity = marker_opacity)), secondary_y=False)\n",
    "fig.add_trace(go.Scatter(x=dfmppt['power_inv_dc'], y=dfmppt['efficiency_inverter'], name='MPPT2010 Inverter', mode='lines+markers', marker=dict(size=marker_size*0.8, symbol='diamond-dot', line=dict(width=2, color='DarkSlateGray'), opacity = marker_opacity*0.8)), secondary_y=True)\n",
    "fig.add_vline(x=dfmppt['power_inv_dc'].iloc[mppt_switch_index], line_width=3, line_dash=\"longdashdot\", line_color=\"orange\", opacity=0.66)\n",
    "\n",
    "\n",
    "fig.update_layout(title='PWM Controller and Inverter Efficiencies', xaxis_title='Power Inverter DC [W]', yaxis_title='Efficiency [%]')\n",
    "fig.update_yaxes(title_text=\"Controller Efficiency\", secondary_y=False)\n",
    "fig.update_yaxes(title_text=\"Inverter Efficiency\", secondary_y=True)\n",
    "# Update font to 20\n",
    "fig.update_layout(font=dict(size=20))\n",
    "# Update font of title to 30\n",
    "fig.update_layout(title_font=dict(size=30))\n",
    "\n",
    "# Update size to 800x800\n",
    "fig.update_layout(width=800,height=800)\n",
    "# Move legend to top right\n",
    "fig.update_layout(legend=dict(\n",
    "    orientation=\"h\",\n",
    "    yanchor=\"bottom\",\n",
    "    y=1.0,\n",
    "    xanchor=\"right\",\n",
    "    x=0.95\n",
    "))\n",
    "# Update title\n",
    "fig.update_layout(title=dict(y=0.99))\n",
    "# Add outline to legend\n",
    "# fig.update_layout(legend=dict(\n",
    "#     bordercolor=\"Black\",\n",
    "#     borderwidth=1\n",
    "# ))\n",
    "# Show the plot\n",
    "\n",
    "# Annotate the vertical lines with texts MPPT or PWM and the power at which the switch occurs\n",
    "fig.add_annotation(x=dfpwm['power_inv_dc'].iloc[pwm_switch_index], y=0.84, text=\"PWM \\nBattery Discharge\", showarrow=True, arrowhead=1, ax=-145, ay=-35, font=dict(size=21, color='green'), bgcolor='white')\n",
    "fig.add_annotation(x=dfmppt['power_inv_dc'].iloc[mppt_switch_index], y=0.85, text=\"MPPT \\nBattery Discharge\", showarrow=True, arrowhead=1, ax=-205, ay=-65, font=dict(size=21, color='orange'), bgcolor='white')\n",
    "\n",
    "fig.show()\n"
   ]
  },
  {
   "cell_type": "code",
   "execution_count": 459,
   "metadata": {},
   "outputs": [
    {
     "data": {
      "application/vnd.plotly.v1+json": {
       "config": {
        "plotlyServerURL": "https://plot.ly"
       },
       "data": [
        {
         "marker": {
          "line": {
           "color": "black",
           "width": 2
          },
          "size": 14,
          "symbol": "circle"
         },
         "mode": "markers",
         "name": "MPPT Controller",
         "type": "scatter",
         "x": [
          8.983,
          12.703600000000002,
          18.2352,
          23.024199999999997,
          27.661,
          33.962500000000006,
          40.71,
          46.5674,
          52.8942,
          58.5598,
          64.7702,
          68.4372,
          76.714,
          83.3166,
          89.29050000000001,
          94.50540000000001,
          102.8223
         ],
         "y": [
          0.9501645916628811,
          0.893843498273878,
          0.9547832426494881,
          0.9582607930204806,
          0.9593800432386346,
          0.9588644617221964,
          0.9584495480594937,
          0.9488679567167091,
          0.9463638893228149,
          0.9392434416295252,
          0.943430835214006,
          0.9097928119013895,
          0.9249534058430664,
          0.9116414114964816,
          0.9085577326647375,
          0.9023625529823701,
          0.8964517063489617
         ]
        },
        {
         "marker": {
          "line": {
           "color": "black",
           "width": 2
          },
          "size": 14,
          "symbol": "cross"
         },
         "mode": "markers",
         "name": "MPPT Inverter",
         "type": "scatter",
         "x": [
          8.983,
          12.703600000000002,
          18.2352,
          23.024199999999997,
          27.661,
          33.962500000000006,
          40.71,
          46.5674,
          52.8942,
          58.5598,
          64.7702,
          68.4372,
          76.714,
          83.3166,
          89.29050000000001,
          94.50540000000001,
          102.8223
         ],
         "y": [
          0.24490704664366025,
          0.4408199250606127,
          0.5758094235325086,
          0.6384586652304967,
          0.7194244604316546,
          0.7449392712550607,
          0.754114468189634,
          0.7473039078840562,
          0.7826945109293647,
          0.7752758718438245,
          0.7719599445423976,
          0.8007341036746096,
          0.7821258179732513,
          0.7837573784815991,
          0.7861978597947149,
          0.7840821794310165,
          0.7858217526742739
         ]
        }
       ],
       "layout": {
        "font": {
         "size": 20
        },
        "height": 800,
        "legend": {
         "orientation": "h",
         "x": 1,
         "xanchor": "right",
         "y": 1.02,
         "yanchor": "bottom"
        },
        "shapes": [
         {
          "line": {
           "color": "green",
           "dash": "dash",
           "width": 3
          },
          "opacity": 0.66,
          "type": "line",
          "x0": 76.714,
          "x1": 76.714,
          "xref": "x",
          "y0": 0,
          "y1": 1,
          "yref": "y domain"
         }
        ],
        "template": {
         "data": {
          "bar": [
           {
            "error_x": {
             "color": "#2a3f5f"
            },
            "error_y": {
             "color": "#2a3f5f"
            },
            "marker": {
             "line": {
              "color": "#E5ECF6",
              "width": 0.5
             },
             "pattern": {
              "fillmode": "overlay",
              "size": 10,
              "solidity": 0.2
             }
            },
            "type": "bar"
           }
          ],
          "barpolar": [
           {
            "marker": {
             "line": {
              "color": "#E5ECF6",
              "width": 0.5
             },
             "pattern": {
              "fillmode": "overlay",
              "size": 10,
              "solidity": 0.2
             }
            },
            "type": "barpolar"
           }
          ],
          "carpet": [
           {
            "aaxis": {
             "endlinecolor": "#2a3f5f",
             "gridcolor": "white",
             "linecolor": "white",
             "minorgridcolor": "white",
             "startlinecolor": "#2a3f5f"
            },
            "baxis": {
             "endlinecolor": "#2a3f5f",
             "gridcolor": "white",
             "linecolor": "white",
             "minorgridcolor": "white",
             "startlinecolor": "#2a3f5f"
            },
            "type": "carpet"
           }
          ],
          "choropleth": [
           {
            "colorbar": {
             "outlinewidth": 0,
             "ticks": ""
            },
            "type": "choropleth"
           }
          ],
          "contour": [
           {
            "colorbar": {
             "outlinewidth": 0,
             "ticks": ""
            },
            "colorscale": [
             [
              0,
              "#0d0887"
             ],
             [
              0.1111111111111111,
              "#46039f"
             ],
             [
              0.2222222222222222,
              "#7201a8"
             ],
             [
              0.3333333333333333,
              "#9c179e"
             ],
             [
              0.4444444444444444,
              "#bd3786"
             ],
             [
              0.5555555555555556,
              "#d8576b"
             ],
             [
              0.6666666666666666,
              "#ed7953"
             ],
             [
              0.7777777777777778,
              "#fb9f3a"
             ],
             [
              0.8888888888888888,
              "#fdca26"
             ],
             [
              1,
              "#f0f921"
             ]
            ],
            "type": "contour"
           }
          ],
          "contourcarpet": [
           {
            "colorbar": {
             "outlinewidth": 0,
             "ticks": ""
            },
            "type": "contourcarpet"
           }
          ],
          "heatmap": [
           {
            "colorbar": {
             "outlinewidth": 0,
             "ticks": ""
            },
            "colorscale": [
             [
              0,
              "#0d0887"
             ],
             [
              0.1111111111111111,
              "#46039f"
             ],
             [
              0.2222222222222222,
              "#7201a8"
             ],
             [
              0.3333333333333333,
              "#9c179e"
             ],
             [
              0.4444444444444444,
              "#bd3786"
             ],
             [
              0.5555555555555556,
              "#d8576b"
             ],
             [
              0.6666666666666666,
              "#ed7953"
             ],
             [
              0.7777777777777778,
              "#fb9f3a"
             ],
             [
              0.8888888888888888,
              "#fdca26"
             ],
             [
              1,
              "#f0f921"
             ]
            ],
            "type": "heatmap"
           }
          ],
          "heatmapgl": [
           {
            "colorbar": {
             "outlinewidth": 0,
             "ticks": ""
            },
            "colorscale": [
             [
              0,
              "#0d0887"
             ],
             [
              0.1111111111111111,
              "#46039f"
             ],
             [
              0.2222222222222222,
              "#7201a8"
             ],
             [
              0.3333333333333333,
              "#9c179e"
             ],
             [
              0.4444444444444444,
              "#bd3786"
             ],
             [
              0.5555555555555556,
              "#d8576b"
             ],
             [
              0.6666666666666666,
              "#ed7953"
             ],
             [
              0.7777777777777778,
              "#fb9f3a"
             ],
             [
              0.8888888888888888,
              "#fdca26"
             ],
             [
              1,
              "#f0f921"
             ]
            ],
            "type": "heatmapgl"
           }
          ],
          "histogram": [
           {
            "marker": {
             "pattern": {
              "fillmode": "overlay",
              "size": 10,
              "solidity": 0.2
             }
            },
            "type": "histogram"
           }
          ],
          "histogram2d": [
           {
            "colorbar": {
             "outlinewidth": 0,
             "ticks": ""
            },
            "colorscale": [
             [
              0,
              "#0d0887"
             ],
             [
              0.1111111111111111,
              "#46039f"
             ],
             [
              0.2222222222222222,
              "#7201a8"
             ],
             [
              0.3333333333333333,
              "#9c179e"
             ],
             [
              0.4444444444444444,
              "#bd3786"
             ],
             [
              0.5555555555555556,
              "#d8576b"
             ],
             [
              0.6666666666666666,
              "#ed7953"
             ],
             [
              0.7777777777777778,
              "#fb9f3a"
             ],
             [
              0.8888888888888888,
              "#fdca26"
             ],
             [
              1,
              "#f0f921"
             ]
            ],
            "type": "histogram2d"
           }
          ],
          "histogram2dcontour": [
           {
            "colorbar": {
             "outlinewidth": 0,
             "ticks": ""
            },
            "colorscale": [
             [
              0,
              "#0d0887"
             ],
             [
              0.1111111111111111,
              "#46039f"
             ],
             [
              0.2222222222222222,
              "#7201a8"
             ],
             [
              0.3333333333333333,
              "#9c179e"
             ],
             [
              0.4444444444444444,
              "#bd3786"
             ],
             [
              0.5555555555555556,
              "#d8576b"
             ],
             [
              0.6666666666666666,
              "#ed7953"
             ],
             [
              0.7777777777777778,
              "#fb9f3a"
             ],
             [
              0.8888888888888888,
              "#fdca26"
             ],
             [
              1,
              "#f0f921"
             ]
            ],
            "type": "histogram2dcontour"
           }
          ],
          "mesh3d": [
           {
            "colorbar": {
             "outlinewidth": 0,
             "ticks": ""
            },
            "type": "mesh3d"
           }
          ],
          "parcoords": [
           {
            "line": {
             "colorbar": {
              "outlinewidth": 0,
              "ticks": ""
             }
            },
            "type": "parcoords"
           }
          ],
          "pie": [
           {
            "automargin": true,
            "type": "pie"
           }
          ],
          "scatter": [
           {
            "fillpattern": {
             "fillmode": "overlay",
             "size": 10,
             "solidity": 0.2
            },
            "type": "scatter"
           }
          ],
          "scatter3d": [
           {
            "line": {
             "colorbar": {
              "outlinewidth": 0,
              "ticks": ""
             }
            },
            "marker": {
             "colorbar": {
              "outlinewidth": 0,
              "ticks": ""
             }
            },
            "type": "scatter3d"
           }
          ],
          "scattercarpet": [
           {
            "marker": {
             "colorbar": {
              "outlinewidth": 0,
              "ticks": ""
             }
            },
            "type": "scattercarpet"
           }
          ],
          "scattergeo": [
           {
            "marker": {
             "colorbar": {
              "outlinewidth": 0,
              "ticks": ""
             }
            },
            "type": "scattergeo"
           }
          ],
          "scattergl": [
           {
            "marker": {
             "colorbar": {
              "outlinewidth": 0,
              "ticks": ""
             }
            },
            "type": "scattergl"
           }
          ],
          "scattermapbox": [
           {
            "marker": {
             "colorbar": {
              "outlinewidth": 0,
              "ticks": ""
             }
            },
            "type": "scattermapbox"
           }
          ],
          "scatterpolar": [
           {
            "marker": {
             "colorbar": {
              "outlinewidth": 0,
              "ticks": ""
             }
            },
            "type": "scatterpolar"
           }
          ],
          "scatterpolargl": [
           {
            "marker": {
             "colorbar": {
              "outlinewidth": 0,
              "ticks": ""
             }
            },
            "type": "scatterpolargl"
           }
          ],
          "scatterternary": [
           {
            "marker": {
             "colorbar": {
              "outlinewidth": 0,
              "ticks": ""
             }
            },
            "type": "scatterternary"
           }
          ],
          "surface": [
           {
            "colorbar": {
             "outlinewidth": 0,
             "ticks": ""
            },
            "colorscale": [
             [
              0,
              "#0d0887"
             ],
             [
              0.1111111111111111,
              "#46039f"
             ],
             [
              0.2222222222222222,
              "#7201a8"
             ],
             [
              0.3333333333333333,
              "#9c179e"
             ],
             [
              0.4444444444444444,
              "#bd3786"
             ],
             [
              0.5555555555555556,
              "#d8576b"
             ],
             [
              0.6666666666666666,
              "#ed7953"
             ],
             [
              0.7777777777777778,
              "#fb9f3a"
             ],
             [
              0.8888888888888888,
              "#fdca26"
             ],
             [
              1,
              "#f0f921"
             ]
            ],
            "type": "surface"
           }
          ],
          "table": [
           {
            "cells": {
             "fill": {
              "color": "#EBF0F8"
             },
             "line": {
              "color": "white"
             }
            },
            "header": {
             "fill": {
              "color": "#C8D4E3"
             },
             "line": {
              "color": "white"
             }
            },
            "type": "table"
           }
          ]
         },
         "layout": {
          "annotationdefaults": {
           "arrowcolor": "#2a3f5f",
           "arrowhead": 0,
           "arrowwidth": 1
          },
          "autotypenumbers": "strict",
          "coloraxis": {
           "colorbar": {
            "outlinewidth": 0,
            "ticks": ""
           }
          },
          "colorscale": {
           "diverging": [
            [
             0,
             "#8e0152"
            ],
            [
             0.1,
             "#c51b7d"
            ],
            [
             0.2,
             "#de77ae"
            ],
            [
             0.3,
             "#f1b6da"
            ],
            [
             0.4,
             "#fde0ef"
            ],
            [
             0.5,
             "#f7f7f7"
            ],
            [
             0.6,
             "#e6f5d0"
            ],
            [
             0.7,
             "#b8e186"
            ],
            [
             0.8,
             "#7fbc41"
            ],
            [
             0.9,
             "#4d9221"
            ],
            [
             1,
             "#276419"
            ]
           ],
           "sequential": [
            [
             0,
             "#0d0887"
            ],
            [
             0.1111111111111111,
             "#46039f"
            ],
            [
             0.2222222222222222,
             "#7201a8"
            ],
            [
             0.3333333333333333,
             "#9c179e"
            ],
            [
             0.4444444444444444,
             "#bd3786"
            ],
            [
             0.5555555555555556,
             "#d8576b"
            ],
            [
             0.6666666666666666,
             "#ed7953"
            ],
            [
             0.7777777777777778,
             "#fb9f3a"
            ],
            [
             0.8888888888888888,
             "#fdca26"
            ],
            [
             1,
             "#f0f921"
            ]
           ],
           "sequentialminus": [
            [
             0,
             "#0d0887"
            ],
            [
             0.1111111111111111,
             "#46039f"
            ],
            [
             0.2222222222222222,
             "#7201a8"
            ],
            [
             0.3333333333333333,
             "#9c179e"
            ],
            [
             0.4444444444444444,
             "#bd3786"
            ],
            [
             0.5555555555555556,
             "#d8576b"
            ],
            [
             0.6666666666666666,
             "#ed7953"
            ],
            [
             0.7777777777777778,
             "#fb9f3a"
            ],
            [
             0.8888888888888888,
             "#fdca26"
            ],
            [
             1,
             "#f0f921"
            ]
           ]
          },
          "colorway": [
           "#636efa",
           "#EF553B",
           "#00cc96",
           "#ab63fa",
           "#FFA15A",
           "#19d3f3",
           "#FF6692",
           "#B6E880",
           "#FF97FF",
           "#FECB52"
          ],
          "font": {
           "color": "#2a3f5f"
          },
          "geo": {
           "bgcolor": "white",
           "lakecolor": "white",
           "landcolor": "#E5ECF6",
           "showlakes": true,
           "showland": true,
           "subunitcolor": "white"
          },
          "hoverlabel": {
           "align": "left"
          },
          "hovermode": "closest",
          "mapbox": {
           "style": "light"
          },
          "paper_bgcolor": "white",
          "plot_bgcolor": "#E5ECF6",
          "polar": {
           "angularaxis": {
            "gridcolor": "white",
            "linecolor": "white",
            "ticks": ""
           },
           "bgcolor": "#E5ECF6",
           "radialaxis": {
            "gridcolor": "white",
            "linecolor": "white",
            "ticks": ""
           }
          },
          "scene": {
           "xaxis": {
            "backgroundcolor": "#E5ECF6",
            "gridcolor": "white",
            "gridwidth": 2,
            "linecolor": "white",
            "showbackground": true,
            "ticks": "",
            "zerolinecolor": "white"
           },
           "yaxis": {
            "backgroundcolor": "#E5ECF6",
            "gridcolor": "white",
            "gridwidth": 2,
            "linecolor": "white",
            "showbackground": true,
            "ticks": "",
            "zerolinecolor": "white"
           },
           "zaxis": {
            "backgroundcolor": "#E5ECF6",
            "gridcolor": "white",
            "gridwidth": 2,
            "linecolor": "white",
            "showbackground": true,
            "ticks": "",
            "zerolinecolor": "white"
           }
          },
          "shapedefaults": {
           "line": {
            "color": "#2a3f5f"
           }
          },
          "ternary": {
           "aaxis": {
            "gridcolor": "white",
            "linecolor": "white",
            "ticks": ""
           },
           "baxis": {
            "gridcolor": "white",
            "linecolor": "white",
            "ticks": ""
           },
           "bgcolor": "#E5ECF6",
           "caxis": {
            "gridcolor": "white",
            "linecolor": "white",
            "ticks": ""
           }
          },
          "title": {
           "x": 0.05
          },
          "xaxis": {
           "automargin": true,
           "gridcolor": "white",
           "linecolor": "white",
           "ticks": "",
           "title": {
            "standoff": 15
           },
           "zerolinecolor": "white",
           "zerolinewidth": 2
          },
          "yaxis": {
           "automargin": true,
           "gridcolor": "white",
           "linecolor": "white",
           "ticks": "",
           "title": {
            "standoff": 15
           },
           "zerolinecolor": "white",
           "zerolinewidth": 2
          }
         }
        },
        "title": {
         "text": "MPPT Controller and Inverter Efficiencies"
        },
        "width": 800,
        "xaxis": {
         "title": {
          "text": "Power Inverter DC [W]"
         }
        },
        "yaxis": {
         "title": {
          "text": "Efficiency"
         }
        }
       }
      }
     },
     "metadata": {},
     "output_type": "display_data"
    }
   ],
   "source": [
    "# Get index of the first point where power_batt < 0\n",
    "# Reindex dfmppt\n",
    "dfmppt = dfmppt.reset_index(drop=True)\n",
    "mppt_switch_index = dfmppt[dfmppt['power_batt'] < 0].index[0]\n",
    "\n",
    "# For mppt controller:\n",
    "# x-axis: power_inv_dc\n",
    "# y-axis left (primary): efficiency\n",
    "# Plot controller as circle and inverter as cross with outlines\n",
    "# Create a vertical line through first point where power_batt < 0\n",
    "\n",
    "# fig = sp.make_subplots(specs=[[{\"secondary_y\": True}]])\n",
    "fig = go.Figure()\n",
    "fig.add_trace(go.Scatter(x=dfmppt['power_inv_dc'], y=dfmppt['efficiency_controller'], name='MPPT Controller', mode='markers',marker=dict(size=marker_size, symbol='circle', line=dict(width=2, color='black'))))\n",
    "fig.add_trace(go.Scatter(x=dfmppt['power_inv_dc'], y=dfmppt['efficiency_inverter'], name='MPPT Inverter', mode='markers', marker=dict(size=marker_size, symbol='cross', line=dict(width=2, color='black'))))\n",
    "fig.add_vline(x=dfmppt['power_inv_dc'].iloc[mppt_switch_index], line_width=3, line_dash=\"dash\", line_color=\"green\", opacity=0.66)\n",
    "fig.update_layout(title='MPPT Controller and Inverter Efficiencies', xaxis_title='Power Inverter DC [W]', yaxis_title='Efficiency [%]')\n",
    "fig.update_yaxes(title_text=\"Efficiency\")\n",
    "# Update font to 20\n",
    "fig.update_layout(font=dict(size=20))\n",
    "# Update size to 800x800\n",
    "fig.update_layout(width=800,height=800)\n",
    "# Move legend to top right\n",
    "fig.update_layout(legend=dict(\n",
    "    orientation=\"h\",\n",
    "    yanchor=\"bottom\",\n",
    "    y=1.02,\n",
    "    xanchor=\"right\",\n",
    "    x=1\n",
    "))\n",
    "# Add outline to legend\n",
    "# fig.update_layout(legend=dict(\n",
    "#     bordercolor=\"Black\",\n",
    "#     borderwidth=2\n",
    "# ))\n",
    "# Show the plot\n",
    "fig.show()\n",
    "\n"
   ]
  }
 ],
 "metadata": {
  "kernelspec": {
   "display_name": ".venv",
   "language": "python",
   "name": "python3"
  },
  "language_info": {
   "codemirror_mode": {
    "name": "ipython",
    "version": 3
   },
   "file_extension": ".py",
   "mimetype": "text/x-python",
   "name": "python",
   "nbconvert_exporter": "python",
   "pygments_lexer": "ipython3",
   "version": "3.9.5"
  },
  "orig_nbformat": 4
 },
 "nbformat": 4,
 "nbformat_minor": 2
}
